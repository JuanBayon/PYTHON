{
 "metadata": {
  "language_info": {
   "codemirror_mode": {
    "name": "ipython",
    "version": 3
   },
   "file_extension": ".py",
   "mimetype": "text/x-python",
   "name": "python",
   "nbconvert_exporter": "python",
   "pygments_lexer": "ipython3",
   "version": "3.7.4"
  },
  "orig_nbformat": 4,
  "kernelspec": {
   "name": "python3",
   "display_name": "Python 3.7.4 64-bit"
  },
  "interpreter": {
   "hash": "aee8b7b246df8f9039afb4144a1f6fd8d2ca17a180786b69acc140d282b71a49"
  }
 },
 "nbformat": 4,
 "nbformat_minor": 2,
 "cells": [
  {
   "cell_type": "code",
   "execution_count": 1,
   "metadata": {},
   "outputs": [],
   "source": [
    "import numpy as np\n",
    "import pandas as pd\n",
    "import pickle\n",
    "import matplotlib.pyplot as plt \n",
    "import seaborn as sns \n",
    "%matplotlib inline\n",
    "\n",
    "from sklearn.linear_model import LinearRegression\n",
    "from sklearn.model_selection import train_test_split\n",
    "from sklearn.metrics import mean_squared_error\n",
    "from sklearn.ensemble import RandomForestRegressor\n",
    "from sklearn import metrics\n",
    "from sklearn import svm\n",
    "from sklearn.model_selection import GridSearchCV\n",
    "from sklearn.pipeline import Pipeline\n",
    "from sklearn.preprocessing import LabelEncoder\n",
    "from sklearn.preprocessing import StandardScaler\n",
    "from sklearn.tree import DecisionTreeRegressor\n",
    "\n",
    "from scr.encoder_categoricos import MyLabelEncoder\n",
    "from scr.comprobaciones_ML import indicativos_regresion\n",
    "from scr.chequeator import chequeator\n",
    "from scr.regresion_lineal_non import itera_grados"
   ]
  },
  {
   "source": [
    "df = pd.read_csv(\"diamonds_train.csv\", index_col=0)\n",
    "X_pred = pd.read_csv(\"diamonds_test.csv\", index_col=0)\n",
    "sample = pd.read_csv(\"./sample_submission.csv\")\n",
    "df"
   ],
   "cell_type": "code",
   "metadata": {},
   "execution_count": 2,
   "outputs": [
    {
     "output_type": "execute_result",
     "data": {
      "text/plain": [
       "       carat        cut color clarity  depth  table     x     y     z  price\n",
       "0       1.21      Ideal     H     VS2   63.0   57.0  6.73  6.70  4.23   6134\n",
       "1       0.28  Very Good     D    VVS2   64.0   56.0  4.14  4.17  2.66    532\n",
       "2       0.42    Premium     F     VS1   61.2   58.0  4.86  4.82  2.96   1103\n",
       "3       0.26      Ideal     H      IF   61.1   57.0  4.16  4.12  2.53    600\n",
       "4       1.10       Good     G     SI1   63.4   57.0  6.52  6.55  4.14   4997\n",
       "...      ...        ...   ...     ...    ...    ...   ...   ...   ...    ...\n",
       "40340   1.55    Premium     H     VS2   61.3   61.0  7.46  7.39  4.55  11708\n",
       "40341   0.36      Ideal     D     SI1   60.6   56.0  4.58  4.63  2.79    619\n",
       "40342   0.57  Very Good     I     VS2   62.2   55.0  5.33  5.34  3.32   1267\n",
       "40343   1.01  Very Good     F      IF   59.6   62.0  6.47  6.56  3.88   9965\n",
       "40344   0.54      Ideal     E     SI2   60.4   57.0  5.33  5.27  3.20   1340\n",
       "\n",
       "[40345 rows x 10 columns]"
      ],
      "text/html": "<div>\n<style scoped>\n    .dataframe tbody tr th:only-of-type {\n        vertical-align: middle;\n    }\n\n    .dataframe tbody tr th {\n        vertical-align: top;\n    }\n\n    .dataframe thead th {\n        text-align: right;\n    }\n</style>\n<table border=\"1\" class=\"dataframe\">\n  <thead>\n    <tr style=\"text-align: right;\">\n      <th></th>\n      <th>carat</th>\n      <th>cut</th>\n      <th>color</th>\n      <th>clarity</th>\n      <th>depth</th>\n      <th>table</th>\n      <th>x</th>\n      <th>y</th>\n      <th>z</th>\n      <th>price</th>\n    </tr>\n  </thead>\n  <tbody>\n    <tr>\n      <th>0</th>\n      <td>1.21</td>\n      <td>Ideal</td>\n      <td>H</td>\n      <td>VS2</td>\n      <td>63.0</td>\n      <td>57.0</td>\n      <td>6.73</td>\n      <td>6.70</td>\n      <td>4.23</td>\n      <td>6134</td>\n    </tr>\n    <tr>\n      <th>1</th>\n      <td>0.28</td>\n      <td>Very Good</td>\n      <td>D</td>\n      <td>VVS2</td>\n      <td>64.0</td>\n      <td>56.0</td>\n      <td>4.14</td>\n      <td>4.17</td>\n      <td>2.66</td>\n      <td>532</td>\n    </tr>\n    <tr>\n      <th>2</th>\n      <td>0.42</td>\n      <td>Premium</td>\n      <td>F</td>\n      <td>VS1</td>\n      <td>61.2</td>\n      <td>58.0</td>\n      <td>4.86</td>\n      <td>4.82</td>\n      <td>2.96</td>\n      <td>1103</td>\n    </tr>\n    <tr>\n      <th>3</th>\n      <td>0.26</td>\n      <td>Ideal</td>\n      <td>H</td>\n      <td>IF</td>\n      <td>61.1</td>\n      <td>57.0</td>\n      <td>4.16</td>\n      <td>4.12</td>\n      <td>2.53</td>\n      <td>600</td>\n    </tr>\n    <tr>\n      <th>4</th>\n      <td>1.10</td>\n      <td>Good</td>\n      <td>G</td>\n      <td>SI1</td>\n      <td>63.4</td>\n      <td>57.0</td>\n      <td>6.52</td>\n      <td>6.55</td>\n      <td>4.14</td>\n      <td>4997</td>\n    </tr>\n    <tr>\n      <th>...</th>\n      <td>...</td>\n      <td>...</td>\n      <td>...</td>\n      <td>...</td>\n      <td>...</td>\n      <td>...</td>\n      <td>...</td>\n      <td>...</td>\n      <td>...</td>\n      <td>...</td>\n    </tr>\n    <tr>\n      <th>40340</th>\n      <td>1.55</td>\n      <td>Premium</td>\n      <td>H</td>\n      <td>VS2</td>\n      <td>61.3</td>\n      <td>61.0</td>\n      <td>7.46</td>\n      <td>7.39</td>\n      <td>4.55</td>\n      <td>11708</td>\n    </tr>\n    <tr>\n      <th>40341</th>\n      <td>0.36</td>\n      <td>Ideal</td>\n      <td>D</td>\n      <td>SI1</td>\n      <td>60.6</td>\n      <td>56.0</td>\n      <td>4.58</td>\n      <td>4.63</td>\n      <td>2.79</td>\n      <td>619</td>\n    </tr>\n    <tr>\n      <th>40342</th>\n      <td>0.57</td>\n      <td>Very Good</td>\n      <td>I</td>\n      <td>VS2</td>\n      <td>62.2</td>\n      <td>55.0</td>\n      <td>5.33</td>\n      <td>5.34</td>\n      <td>3.32</td>\n      <td>1267</td>\n    </tr>\n    <tr>\n      <th>40343</th>\n      <td>1.01</td>\n      <td>Very Good</td>\n      <td>F</td>\n      <td>IF</td>\n      <td>59.6</td>\n      <td>62.0</td>\n      <td>6.47</td>\n      <td>6.56</td>\n      <td>3.88</td>\n      <td>9965</td>\n    </tr>\n    <tr>\n      <th>40344</th>\n      <td>0.54</td>\n      <td>Ideal</td>\n      <td>E</td>\n      <td>SI2</td>\n      <td>60.4</td>\n      <td>57.0</td>\n      <td>5.33</td>\n      <td>5.27</td>\n      <td>3.20</td>\n      <td>1340</td>\n    </tr>\n  </tbody>\n</table>\n<p>40345 rows × 10 columns</p>\n</div>"
     },
     "metadata": {},
     "execution_count": 2
    }
   ]
  },
  {
   "cell_type": "code",
   "execution_count": 3,
   "metadata": {},
   "outputs": [],
   "source": [
    "df = df.drop(df[df[\"x\"]==0].index)\n",
    "df = df.drop(df[df[\"y\"]==0].index)\n",
    "df = df.drop(df[df[\"z\"]==0].index)"
   ]
  },
  {
   "cell_type": "code",
   "execution_count": 4,
   "metadata": {},
   "outputs": [],
   "source": [
    "df = df[(df[\"depth\"]<75)&(df[\"depth\"]>45)]\n",
    "df = df[(df[\"table\"]<80)&(df[\"table\"]>40)]\n",
    "df = df[(df[\"x\"]<30)]\n",
    "df = df[(df[\"y\"]<30)]\n",
    "df = df[(df[\"z\"]<30)&(df[\"z\"]>2)]"
   ]
  },
  {
   "cell_type": "code",
   "execution_count": 5,
   "metadata": {},
   "outputs": [],
   "source": [
    "object_cols = ['cut', 'color', 'clarity']"
   ]
  },
  {
   "cell_type": "code",
   "execution_count": 6,
   "metadata": {},
   "outputs": [],
   "source": [
    "label_df = df.copy()\n",
    "label_encoder = LabelEncoder()\n",
    "for col in object_cols:\n",
    "    label_df[col] = label_encoder.fit_transform(label_df[col])"
   ]
  },
  {
   "cell_type": "code",
   "execution_count": 3,
   "metadata": {},
   "outputs": [],
   "source": [
    "from pycaret.regression import *"
   ]
  },
  {
   "cell_type": "code",
   "execution_count": 9,
   "metadata": {},
   "outputs": [
    {
     "output_type": "display_data",
     "data": {
      "text/plain": "<pandas.io.formats.style.Styler at 0x143423d50>",
      "text/html": "<style  type=\"text/css\" >\n#T_33a1d_row10_col0,#T_33a1d_row10_col1,#T_33a1d_row10_col2,#T_33a1d_row10_col3,#T_33a1d_row10_col4,#T_33a1d_row10_col5{\n            background:  yellow;\n        }</style><table id=\"T_33a1d_\" ><thead>    <tr>        <th class=\"blank level0\" ></th>        <th class=\"col_heading level0 col0\" >MAE</th>        <th class=\"col_heading level0 col1\" >MSE</th>        <th class=\"col_heading level0 col2\" >RMSE</th>        <th class=\"col_heading level0 col3\" >R2</th>        <th class=\"col_heading level0 col4\" >RMSLE</th>        <th class=\"col_heading level0 col5\" >MAPE</th>    </tr></thead><tbody>\n                <tr>\n                        <th id=\"T_33a1d_level0_row0\" class=\"row_heading level0 row0\" >0</th>\n                        <td id=\"T_33a1d_row0_col0\" class=\"data row0 col0\" >299.4753</td>\n                        <td id=\"T_33a1d_row0_col1\" class=\"data row0 col1\" >337201.3985</td>\n                        <td id=\"T_33a1d_row0_col2\" class=\"data row0 col2\" >580.6904</td>\n                        <td id=\"T_33a1d_row0_col3\" class=\"data row0 col3\" >0.9784</td>\n                        <td id=\"T_33a1d_row0_col4\" class=\"data row0 col4\" >0.1147</td>\n                        <td id=\"T_33a1d_row0_col5\" class=\"data row0 col5\" >0.0879</td>\n            </tr>\n            <tr>\n                        <th id=\"T_33a1d_level0_row1\" class=\"row_heading level0 row1\" >1</th>\n                        <td id=\"T_33a1d_row1_col0\" class=\"data row1 col0\" >297.8996</td>\n                        <td id=\"T_33a1d_row1_col1\" class=\"data row1 col1\" >325855.9057</td>\n                        <td id=\"T_33a1d_row1_col2\" class=\"data row1 col2\" >570.8379</td>\n                        <td id=\"T_33a1d_row1_col3\" class=\"data row1 col3\" >0.9797</td>\n                        <td id=\"T_33a1d_row1_col4\" class=\"data row1 col4\" >0.1109</td>\n                        <td id=\"T_33a1d_row1_col5\" class=\"data row1 col5\" >0.0861</td>\n            </tr>\n            <tr>\n                        <th id=\"T_33a1d_level0_row2\" class=\"row_heading level0 row2\" >2</th>\n                        <td id=\"T_33a1d_row2_col0\" class=\"data row2 col0\" >301.8761</td>\n                        <td id=\"T_33a1d_row2_col1\" class=\"data row2 col1\" >321174.4249</td>\n                        <td id=\"T_33a1d_row2_col2\" class=\"data row2 col2\" >566.7225</td>\n                        <td id=\"T_33a1d_row2_col3\" class=\"data row2 col3\" >0.9803</td>\n                        <td id=\"T_33a1d_row2_col4\" class=\"data row2 col4\" >0.1091</td>\n                        <td id=\"T_33a1d_row2_col5\" class=\"data row2 col5\" >0.0841</td>\n            </tr>\n            <tr>\n                        <th id=\"T_33a1d_level0_row3\" class=\"row_heading level0 row3\" >3</th>\n                        <td id=\"T_33a1d_row3_col0\" class=\"data row3 col0\" >289.4923</td>\n                        <td id=\"T_33a1d_row3_col1\" class=\"data row3 col1\" >288147.8890</td>\n                        <td id=\"T_33a1d_row3_col2\" class=\"data row3 col2\" >536.7941</td>\n                        <td id=\"T_33a1d_row3_col3\" class=\"data row3 col3\" >0.9803</td>\n                        <td id=\"T_33a1d_row3_col4\" class=\"data row3 col4\" >0.1144</td>\n                        <td id=\"T_33a1d_row3_col5\" class=\"data row3 col5\" >0.0877</td>\n            </tr>\n            <tr>\n                        <th id=\"T_33a1d_level0_row4\" class=\"row_heading level0 row4\" >4</th>\n                        <td id=\"T_33a1d_row4_col0\" class=\"data row4 col0\" >282.7795</td>\n                        <td id=\"T_33a1d_row4_col1\" class=\"data row4 col1\" >268439.8562</td>\n                        <td id=\"T_33a1d_row4_col2\" class=\"data row4 col2\" >518.1118</td>\n                        <td id=\"T_33a1d_row4_col3\" class=\"data row4 col3\" >0.9829</td>\n                        <td id=\"T_33a1d_row4_col4\" class=\"data row4 col4\" >0.1096</td>\n                        <td id=\"T_33a1d_row4_col5\" class=\"data row4 col5\" >0.0848</td>\n            </tr>\n            <tr>\n                        <th id=\"T_33a1d_level0_row5\" class=\"row_heading level0 row5\" >5</th>\n                        <td id=\"T_33a1d_row5_col0\" class=\"data row5 col0\" >295.9139</td>\n                        <td id=\"T_33a1d_row5_col1\" class=\"data row5 col1\" >312576.6004</td>\n                        <td id=\"T_33a1d_row5_col2\" class=\"data row5 col2\" >559.0855</td>\n                        <td id=\"T_33a1d_row5_col3\" class=\"data row5 col3\" >0.9814</td>\n                        <td id=\"T_33a1d_row5_col4\" class=\"data row5 col4\" >0.1105</td>\n                        <td id=\"T_33a1d_row5_col5\" class=\"data row5 col5\" >0.0859</td>\n            </tr>\n            <tr>\n                        <th id=\"T_33a1d_level0_row6\" class=\"row_heading level0 row6\" >6</th>\n                        <td id=\"T_33a1d_row6_col0\" class=\"data row6 col0\" >299.2888</td>\n                        <td id=\"T_33a1d_row6_col1\" class=\"data row6 col1\" >321918.6930</td>\n                        <td id=\"T_33a1d_row6_col2\" class=\"data row6 col2\" >567.3788</td>\n                        <td id=\"T_33a1d_row6_col3\" class=\"data row6 col3\" >0.9806</td>\n                        <td id=\"T_33a1d_row6_col4\" class=\"data row6 col4\" >0.1115</td>\n                        <td id=\"T_33a1d_row6_col5\" class=\"data row6 col5\" >0.0850</td>\n            </tr>\n            <tr>\n                        <th id=\"T_33a1d_level0_row7\" class=\"row_heading level0 row7\" >7</th>\n                        <td id=\"T_33a1d_row7_col0\" class=\"data row7 col0\" >288.5127</td>\n                        <td id=\"T_33a1d_row7_col1\" class=\"data row7 col1\" >290223.5302</td>\n                        <td id=\"T_33a1d_row7_col2\" class=\"data row7 col2\" >538.7240</td>\n                        <td id=\"T_33a1d_row7_col3\" class=\"data row7 col3\" >0.9813</td>\n                        <td id=\"T_33a1d_row7_col4\" class=\"data row7 col4\" >0.1105</td>\n                        <td id=\"T_33a1d_row7_col5\" class=\"data row7 col5\" >0.0856</td>\n            </tr>\n            <tr>\n                        <th id=\"T_33a1d_level0_row8\" class=\"row_heading level0 row8\" >8</th>\n                        <td id=\"T_33a1d_row8_col0\" class=\"data row8 col0\" >292.3246</td>\n                        <td id=\"T_33a1d_row8_col1\" class=\"data row8 col1\" >316785.1957</td>\n                        <td id=\"T_33a1d_row8_col2\" class=\"data row8 col2\" >562.8367</td>\n                        <td id=\"T_33a1d_row8_col3\" class=\"data row8 col3\" >0.9805</td>\n                        <td id=\"T_33a1d_row8_col4\" class=\"data row8 col4\" >0.1171</td>\n                        <td id=\"T_33a1d_row8_col5\" class=\"data row8 col5\" >0.0896</td>\n            </tr>\n            <tr>\n                        <th id=\"T_33a1d_level0_row9\" class=\"row_heading level0 row9\" >9</th>\n                        <td id=\"T_33a1d_row9_col0\" class=\"data row9 col0\" >299.8691</td>\n                        <td id=\"T_33a1d_row9_col1\" class=\"data row9 col1\" >306247.3882</td>\n                        <td id=\"T_33a1d_row9_col2\" class=\"data row9 col2\" >553.3962</td>\n                        <td id=\"T_33a1d_row9_col3\" class=\"data row9 col3\" >0.9805</td>\n                        <td id=\"T_33a1d_row9_col4\" class=\"data row9 col4\" >0.1138</td>\n                        <td id=\"T_33a1d_row9_col5\" class=\"data row9 col5\" >0.0876</td>\n            </tr>\n            <tr>\n                        <th id=\"T_33a1d_level0_row10\" class=\"row_heading level0 row10\" >Mean</th>\n                        <td id=\"T_33a1d_row10_col0\" class=\"data row10 col0\" >294.7432</td>\n                        <td id=\"T_33a1d_row10_col1\" class=\"data row10 col1\" >308857.0882</td>\n                        <td id=\"T_33a1d_row10_col2\" class=\"data row10 col2\" >555.4578</td>\n                        <td id=\"T_33a1d_row10_col3\" class=\"data row10 col3\" >0.9806</td>\n                        <td id=\"T_33a1d_row10_col4\" class=\"data row10 col4\" >0.1122</td>\n                        <td id=\"T_33a1d_row10_col5\" class=\"data row10 col5\" >0.0864</td>\n            </tr>\n            <tr>\n                        <th id=\"T_33a1d_level0_row11\" class=\"row_heading level0 row11\" >SD</th>\n                        <td id=\"T_33a1d_row11_col0\" class=\"data row11 col0\" >5.8899</td>\n                        <td id=\"T_33a1d_row11_col1\" class=\"data row11 col1\" >19768.1949</td>\n                        <td id=\"T_33a1d_row11_col2\" class=\"data row11 col2\" >17.9921</td>\n                        <td id=\"T_33a1d_row11_col3\" class=\"data row11 col3\" >0.0011</td>\n                        <td id=\"T_33a1d_row11_col4\" class=\"data row11 col4\" >0.0025</td>\n                        <td id=\"T_33a1d_row11_col5\" class=\"data row11 col5\" >0.0016</td>\n            </tr>\n    </tbody></table>"
     },
     "metadata": {}
    }
   ],
   "source": [
    "exp_reg101 = setup(data = df, target = 'price', session_id=123)\n",
    "lightgbm = create_model('lightgbm')"
   ]
  },
  {
   "cell_type": "code",
   "execution_count": 10,
   "metadata": {},
   "outputs": [],
   "source": [
    "lgbm_params = {'num_leaves': np.arange(10,200,10),\n",
    "                        'max_depth': [int(x) for x in np.linspace(10, 110, num = 11)],\n",
    "                        'learning_rate': np.arange(0.1,1,0.1)\n",
    "                        }"
   ]
  },
  {
   "cell_type": "code",
   "execution_count": 11,
   "metadata": {},
   "outputs": [
    {
     "output_type": "display_data",
     "data": {
      "text/plain": "<pandas.io.formats.style.Styler at 0x144531cd0>",
      "text/html": "<style  type=\"text/css\" >\n#T_20e3c_row10_col0,#T_20e3c_row10_col1,#T_20e3c_row10_col2,#T_20e3c_row10_col3,#T_20e3c_row10_col4,#T_20e3c_row10_col5{\n            background:  yellow;\n        }</style><table id=\"T_20e3c_\" ><thead>    <tr>        <th class=\"blank level0\" ></th>        <th class=\"col_heading level0 col0\" >MAE</th>        <th class=\"col_heading level0 col1\" >MSE</th>        <th class=\"col_heading level0 col2\" >RMSE</th>        <th class=\"col_heading level0 col3\" >R2</th>        <th class=\"col_heading level0 col4\" >RMSLE</th>        <th class=\"col_heading level0 col5\" >MAPE</th>    </tr></thead><tbody>\n                <tr>\n                        <th id=\"T_20e3c_level0_row0\" class=\"row_heading level0 row0\" >0</th>\n                        <td id=\"T_20e3c_row0_col0\" class=\"data row0 col0\" >294.9104</td>\n                        <td id=\"T_20e3c_row0_col1\" class=\"data row0 col1\" >345005.2282</td>\n                        <td id=\"T_20e3c_row0_col2\" class=\"data row0 col2\" >587.3715</td>\n                        <td id=\"T_20e3c_row0_col3\" class=\"data row0 col3\" >0.9779</td>\n                        <td id=\"T_20e3c_row0_col4\" class=\"data row0 col4\" >0.1051</td>\n                        <td id=\"T_20e3c_row0_col5\" class=\"data row0 col5\" >0.0810</td>\n            </tr>\n            <tr>\n                        <th id=\"T_20e3c_level0_row1\" class=\"row_heading level0 row1\" >1</th>\n                        <td id=\"T_20e3c_row1_col0\" class=\"data row1 col0\" >292.4938</td>\n                        <td id=\"T_20e3c_row1_col1\" class=\"data row1 col1\" >327371.3059</td>\n                        <td id=\"T_20e3c_row1_col2\" class=\"data row1 col2\" >572.1637</td>\n                        <td id=\"T_20e3c_row1_col3\" class=\"data row1 col3\" >0.9796</td>\n                        <td id=\"T_20e3c_row1_col4\" class=\"data row1 col4\" >0.1030</td>\n                        <td id=\"T_20e3c_row1_col5\" class=\"data row1 col5\" >0.0794</td>\n            </tr>\n            <tr>\n                        <th id=\"T_20e3c_level0_row2\" class=\"row_heading level0 row2\" >2</th>\n                        <td id=\"T_20e3c_row2_col0\" class=\"data row2 col0\" >294.6055</td>\n                        <td id=\"T_20e3c_row2_col1\" class=\"data row2 col1\" >329242.2746</td>\n                        <td id=\"T_20e3c_row2_col2\" class=\"data row2 col2\" >573.7964</td>\n                        <td id=\"T_20e3c_row2_col3\" class=\"data row2 col3\" >0.9798</td>\n                        <td id=\"T_20e3c_row2_col4\" class=\"data row2 col4\" >0.1002</td>\n                        <td id=\"T_20e3c_row2_col5\" class=\"data row2 col5\" >0.0772</td>\n            </tr>\n            <tr>\n                        <th id=\"T_20e3c_level0_row3\" class=\"row_heading level0 row3\" >3</th>\n                        <td id=\"T_20e3c_row3_col0\" class=\"data row3 col0\" >279.6460</td>\n                        <td id=\"T_20e3c_row3_col1\" class=\"data row3 col1\" >298259.0887</td>\n                        <td id=\"T_20e3c_row3_col2\" class=\"data row3 col2\" >546.1310</td>\n                        <td id=\"T_20e3c_row3_col3\" class=\"data row3 col3\" >0.9797</td>\n                        <td id=\"T_20e3c_row3_col4\" class=\"data row3 col4\" >0.1047</td>\n                        <td id=\"T_20e3c_row3_col5\" class=\"data row3 col5\" >0.0800</td>\n            </tr>\n            <tr>\n                        <th id=\"T_20e3c_level0_row4\" class=\"row_heading level0 row4\" >4</th>\n                        <td id=\"T_20e3c_row4_col0\" class=\"data row4 col0\" >275.7224</td>\n                        <td id=\"T_20e3c_row4_col1\" class=\"data row4 col1\" >275705.5801</td>\n                        <td id=\"T_20e3c_row4_col2\" class=\"data row4 col2\" >525.0767</td>\n                        <td id=\"T_20e3c_row4_col3\" class=\"data row4 col3\" >0.9824</td>\n                        <td id=\"T_20e3c_row4_col4\" class=\"data row4 col4\" >0.1012</td>\n                        <td id=\"T_20e3c_row4_col5\" class=\"data row4 col5\" >0.0785</td>\n            </tr>\n            <tr>\n                        <th id=\"T_20e3c_level0_row5\" class=\"row_heading level0 row5\" >5</th>\n                        <td id=\"T_20e3c_row5_col0\" class=\"data row5 col0\" >290.1990</td>\n                        <td id=\"T_20e3c_row5_col1\" class=\"data row5 col1\" >319398.7757</td>\n                        <td id=\"T_20e3c_row5_col2\" class=\"data row5 col2\" >565.1538</td>\n                        <td id=\"T_20e3c_row5_col3\" class=\"data row5 col3\" >0.9810</td>\n                        <td id=\"T_20e3c_row5_col4\" class=\"data row5 col4\" >0.1017</td>\n                        <td id=\"T_20e3c_row5_col5\" class=\"data row5 col5\" >0.0784</td>\n            </tr>\n            <tr>\n                        <th id=\"T_20e3c_level0_row6\" class=\"row_heading level0 row6\" >6</th>\n                        <td id=\"T_20e3c_row6_col0\" class=\"data row6 col0\" >291.0201</td>\n                        <td id=\"T_20e3c_row6_col1\" class=\"data row6 col1\" >317724.3835</td>\n                        <td id=\"T_20e3c_row6_col2\" class=\"data row6 col2\" >563.6705</td>\n                        <td id=\"T_20e3c_row6_col3\" class=\"data row6 col3\" >0.9809</td>\n                        <td id=\"T_20e3c_row6_col4\" class=\"data row6 col4\" >0.1026</td>\n                        <td id=\"T_20e3c_row6_col5\" class=\"data row6 col5\" >0.0772</td>\n            </tr>\n            <tr>\n                        <th id=\"T_20e3c_level0_row7\" class=\"row_heading level0 row7\" >7</th>\n                        <td id=\"T_20e3c_row7_col0\" class=\"data row7 col0\" >277.9097</td>\n                        <td id=\"T_20e3c_row7_col1\" class=\"data row7 col1\" >283773.5284</td>\n                        <td id=\"T_20e3c_row7_col2\" class=\"data row7 col2\" >532.7040</td>\n                        <td id=\"T_20e3c_row7_col3\" class=\"data row7 col3\" >0.9818</td>\n                        <td id=\"T_20e3c_row7_col4\" class=\"data row7 col4\" >0.1006</td>\n                        <td id=\"T_20e3c_row7_col5\" class=\"data row7 col5\" >0.0776</td>\n            </tr>\n            <tr>\n                        <th id=\"T_20e3c_level0_row8\" class=\"row_heading level0 row8\" >8</th>\n                        <td id=\"T_20e3c_row8_col0\" class=\"data row8 col0\" >285.2187</td>\n                        <td id=\"T_20e3c_row8_col1\" class=\"data row8 col1\" >315667.5759</td>\n                        <td id=\"T_20e3c_row8_col2\" class=\"data row8 col2\" >561.8430</td>\n                        <td id=\"T_20e3c_row8_col3\" class=\"data row8 col3\" >0.9806</td>\n                        <td id=\"T_20e3c_row8_col4\" class=\"data row8 col4\" >0.1102</td>\n                        <td id=\"T_20e3c_row8_col5\" class=\"data row8 col5\" >0.0835</td>\n            </tr>\n            <tr>\n                        <th id=\"T_20e3c_level0_row9\" class=\"row_heading level0 row9\" >9</th>\n                        <td id=\"T_20e3c_row9_col0\" class=\"data row9 col0\" >290.2734</td>\n                        <td id=\"T_20e3c_row9_col1\" class=\"data row9 col1\" >295395.6504</td>\n                        <td id=\"T_20e3c_row9_col2\" class=\"data row9 col2\" >543.5031</td>\n                        <td id=\"T_20e3c_row9_col3\" class=\"data row9 col3\" >0.9812</td>\n                        <td id=\"T_20e3c_row9_col4\" class=\"data row9 col4\" >0.1069</td>\n                        <td id=\"T_20e3c_row9_col5\" class=\"data row9 col5\" >0.0817</td>\n            </tr>\n            <tr>\n                        <th id=\"T_20e3c_level0_row10\" class=\"row_heading level0 row10\" >Mean</th>\n                        <td id=\"T_20e3c_row10_col0\" class=\"data row10 col0\" >287.1999</td>\n                        <td id=\"T_20e3c_row10_col1\" class=\"data row10 col1\" >310754.3391</td>\n                        <td id=\"T_20e3c_row10_col2\" class=\"data row10 col2\" >557.1414</td>\n                        <td id=\"T_20e3c_row10_col3\" class=\"data row10 col3\" >0.9805</td>\n                        <td id=\"T_20e3c_row10_col4\" class=\"data row10 col4\" >0.1036</td>\n                        <td id=\"T_20e3c_row10_col5\" class=\"data row10 col5\" >0.0795</td>\n            </tr>\n            <tr>\n                        <th id=\"T_20e3c_level0_row11\" class=\"row_heading level0 row11\" >SD</th>\n                        <td id=\"T_20e3c_row11_col0\" class=\"data row11 col0\" >6.7408</td>\n                        <td id=\"T_20e3c_row11_col1\" class=\"data row11 col1\" >20704.8272</td>\n                        <td id=\"T_20e3c_row11_col2\" class=\"data row11 col2\" >18.6505</td>\n                        <td id=\"T_20e3c_row11_col3\" class=\"data row11 col3\" >0.0012</td>\n                        <td id=\"T_20e3c_row11_col4\" class=\"data row11 col4\" >0.0030</td>\n                        <td id=\"T_20e3c_row11_col5\" class=\"data row11 col5\" >0.0020</td>\n            </tr>\n    </tbody></table>"
     },
     "metadata": {}
    }
   ],
   "source": [
    "tuned_lightgbm = tune_model(lightgbm, custom_grid = lgbm_params)"
   ]
  },
  {
   "cell_type": "code",
   "execution_count": 12,
   "metadata": {},
   "outputs": [
    {
     "output_type": "display_data",
     "data": {
      "text/plain": "interactive(children=(ToggleButtons(description='Plot Type:', icons=('',), options=(('Hyperparameters', 'param…",
      "application/vnd.jupyter.widget-view+json": {
       "version_major": 2,
       "version_minor": 0,
       "model_id": "1900a18efc1e4c25987a4bfe0ed43d26"
      }
     },
     "metadata": {}
    }
   ],
   "source": [
    "evaluate_model(tuned_lightgbm)"
   ]
  },
  {
   "cell_type": "code",
   "execution_count": 13,
   "metadata": {},
   "outputs": [
    {
     "output_type": "display_data",
     "data": {
      "text/plain": "<pandas.io.formats.style.Styler at 0x1469ba910>",
      "text/html": "<style  type=\"text/css\" >\n</style><table id=\"T_edf7e_\" ><thead>    <tr>        <th class=\"blank level0\" ></th>        <th class=\"col_heading level0 col0\" >Model</th>        <th class=\"col_heading level0 col1\" >MAE</th>        <th class=\"col_heading level0 col2\" >MSE</th>        <th class=\"col_heading level0 col3\" >RMSE</th>        <th class=\"col_heading level0 col4\" >R2</th>        <th class=\"col_heading level0 col5\" >RMSLE</th>        <th class=\"col_heading level0 col6\" >MAPE</th>    </tr></thead><tbody>\n                <tr>\n                        <th id=\"T_edf7e_level0_row0\" class=\"row_heading level0 row0\" >0</th>\n                        <td id=\"T_edf7e_row0_col0\" class=\"data row0 col0\" >Light Gradient Boosting Machine</td>\n                        <td id=\"T_edf7e_row0_col1\" class=\"data row0 col1\" >278.9196</td>\n                        <td id=\"T_edf7e_row0_col2\" class=\"data row0 col2\" >297012.7778</td>\n                        <td id=\"T_edf7e_row0_col3\" class=\"data row0 col3\" >544.9888</td>\n                        <td id=\"T_edf7e_row0_col4\" class=\"data row0 col4\" >0.9810</td>\n                        <td id=\"T_edf7e_row0_col5\" class=\"data row0 col5\" >0.1018</td>\n                        <td id=\"T_edf7e_row0_col6\" class=\"data row0 col6\" >0.0787</td>\n            </tr>\n    </tbody></table>"
     },
     "metadata": {}
    },
    {
     "output_type": "execute_result",
     "data": {
      "text/plain": [
       "       carat      depth  table     x     z  cut_Fair  cut_Good  cut_Ideal  \\\n",
       "0       0.40  61.099998   58.0  4.73  2.90       0.0       0.0        0.0   \n",
       "1       0.32  61.700001   58.0  4.38  2.71       0.0       0.0        0.0   \n",
       "2       0.71  62.599998   57.0  5.64  3.55       0.0       0.0        0.0   \n",
       "3       0.46  62.000000   58.0  4.95  3.08       0.0       0.0        0.0   \n",
       "4       1.55  62.099998   56.0  7.36  4.59       0.0       0.0        1.0   \n",
       "...      ...        ...    ...   ...   ...       ...       ...        ...   \n",
       "12091   0.32  61.299999   55.0  4.41  2.71       0.0       0.0        1.0   \n",
       "12092   0.33  61.099998   59.0  4.45  2.71       0.0       0.0        0.0   \n",
       "12093   0.40  62.900002   58.0  4.71  2.95       0.0       0.0        0.0   \n",
       "12094   0.73  62.200001   56.0  5.79  3.58       0.0       0.0        1.0   \n",
       "12095   1.72  63.200001   61.0  7.57  4.80       0.0       1.0        0.0   \n",
       "\n",
       "       cut_Premium  cut_Very Good  ...  clarity_I1  clarity_IF  clarity_SI1  \\\n",
       "0              1.0            0.0  ...         0.0         0.0          0.0   \n",
       "1              1.0            0.0  ...         0.0         0.0          0.0   \n",
       "2              0.0            1.0  ...         0.0         0.0          0.0   \n",
       "3              1.0            0.0  ...         0.0         0.0          0.0   \n",
       "4              0.0            0.0  ...         0.0         0.0          0.0   \n",
       "...            ...            ...  ...         ...         ...          ...   \n",
       "12091          0.0            0.0  ...         0.0         0.0          0.0   \n",
       "12092          1.0            0.0  ...         0.0         0.0          1.0   \n",
       "12093          1.0            0.0  ...         0.0         0.0          0.0   \n",
       "12094          0.0            0.0  ...         0.0         0.0          0.0   \n",
       "12095          0.0            0.0  ...         0.0         0.0          1.0   \n",
       "\n",
       "       clarity_SI2  clarity_VS1  clarity_VS2  clarity_VVS1  clarity_VVS2  \\\n",
       "0              1.0          0.0          0.0           0.0           0.0   \n",
       "1              0.0          1.0          0.0           0.0           0.0   \n",
       "2              0.0          0.0          1.0           0.0           0.0   \n",
       "3              0.0          1.0          0.0           0.0           0.0   \n",
       "4              0.0          0.0          0.0           1.0           0.0   \n",
       "...            ...          ...          ...           ...           ...   \n",
       "12091          0.0          0.0          1.0           0.0           0.0   \n",
       "12092          0.0          0.0          0.0           0.0           0.0   \n",
       "12093          0.0          1.0          0.0           0.0           0.0   \n",
       "12094          0.0          0.0          0.0           0.0           1.0   \n",
       "12095          0.0          0.0          0.0           0.0           0.0   \n",
       "\n",
       "         price         Label  \n",
       "0        666.0    768.625715  \n",
       "1        645.0    737.319992  \n",
       "2       1626.0   1903.888304  \n",
       "3       1294.0   1362.778787  \n",
       "4      11869.0  11166.831757  \n",
       "...        ...           ...  \n",
       "12091    846.0    779.584026  \n",
       "12092    631.0    611.786234  \n",
       "12093   1050.0   1036.323912  \n",
       "12094   4252.0   4643.475899  \n",
       "12095  13499.0  13313.188414  \n",
       "\n",
       "[12096 rows x 27 columns]"
      ],
      "text/html": "<div>\n<style scoped>\n    .dataframe tbody tr th:only-of-type {\n        vertical-align: middle;\n    }\n\n    .dataframe tbody tr th {\n        vertical-align: top;\n    }\n\n    .dataframe thead th {\n        text-align: right;\n    }\n</style>\n<table border=\"1\" class=\"dataframe\">\n  <thead>\n    <tr style=\"text-align: right;\">\n      <th></th>\n      <th>carat</th>\n      <th>depth</th>\n      <th>table</th>\n      <th>x</th>\n      <th>z</th>\n      <th>cut_Fair</th>\n      <th>cut_Good</th>\n      <th>cut_Ideal</th>\n      <th>cut_Premium</th>\n      <th>cut_Very Good</th>\n      <th>...</th>\n      <th>clarity_I1</th>\n      <th>clarity_IF</th>\n      <th>clarity_SI1</th>\n      <th>clarity_SI2</th>\n      <th>clarity_VS1</th>\n      <th>clarity_VS2</th>\n      <th>clarity_VVS1</th>\n      <th>clarity_VVS2</th>\n      <th>price</th>\n      <th>Label</th>\n    </tr>\n  </thead>\n  <tbody>\n    <tr>\n      <th>0</th>\n      <td>0.40</td>\n      <td>61.099998</td>\n      <td>58.0</td>\n      <td>4.73</td>\n      <td>2.90</td>\n      <td>0.0</td>\n      <td>0.0</td>\n      <td>0.0</td>\n      <td>1.0</td>\n      <td>0.0</td>\n      <td>...</td>\n      <td>0.0</td>\n      <td>0.0</td>\n      <td>0.0</td>\n      <td>1.0</td>\n      <td>0.0</td>\n      <td>0.0</td>\n      <td>0.0</td>\n      <td>0.0</td>\n      <td>666.0</td>\n      <td>768.625715</td>\n    </tr>\n    <tr>\n      <th>1</th>\n      <td>0.32</td>\n      <td>61.700001</td>\n      <td>58.0</td>\n      <td>4.38</td>\n      <td>2.71</td>\n      <td>0.0</td>\n      <td>0.0</td>\n      <td>0.0</td>\n      <td>1.0</td>\n      <td>0.0</td>\n      <td>...</td>\n      <td>0.0</td>\n      <td>0.0</td>\n      <td>0.0</td>\n      <td>0.0</td>\n      <td>1.0</td>\n      <td>0.0</td>\n      <td>0.0</td>\n      <td>0.0</td>\n      <td>645.0</td>\n      <td>737.319992</td>\n    </tr>\n    <tr>\n      <th>2</th>\n      <td>0.71</td>\n      <td>62.599998</td>\n      <td>57.0</td>\n      <td>5.64</td>\n      <td>3.55</td>\n      <td>0.0</td>\n      <td>0.0</td>\n      <td>0.0</td>\n      <td>0.0</td>\n      <td>1.0</td>\n      <td>...</td>\n      <td>0.0</td>\n      <td>0.0</td>\n      <td>0.0</td>\n      <td>0.0</td>\n      <td>0.0</td>\n      <td>1.0</td>\n      <td>0.0</td>\n      <td>0.0</td>\n      <td>1626.0</td>\n      <td>1903.888304</td>\n    </tr>\n    <tr>\n      <th>3</th>\n      <td>0.46</td>\n      <td>62.000000</td>\n      <td>58.0</td>\n      <td>4.95</td>\n      <td>3.08</td>\n      <td>0.0</td>\n      <td>0.0</td>\n      <td>0.0</td>\n      <td>1.0</td>\n      <td>0.0</td>\n      <td>...</td>\n      <td>0.0</td>\n      <td>0.0</td>\n      <td>0.0</td>\n      <td>0.0</td>\n      <td>1.0</td>\n      <td>0.0</td>\n      <td>0.0</td>\n      <td>0.0</td>\n      <td>1294.0</td>\n      <td>1362.778787</td>\n    </tr>\n    <tr>\n      <th>4</th>\n      <td>1.55</td>\n      <td>62.099998</td>\n      <td>56.0</td>\n      <td>7.36</td>\n      <td>4.59</td>\n      <td>0.0</td>\n      <td>0.0</td>\n      <td>1.0</td>\n      <td>0.0</td>\n      <td>0.0</td>\n      <td>...</td>\n      <td>0.0</td>\n      <td>0.0</td>\n      <td>0.0</td>\n      <td>0.0</td>\n      <td>0.0</td>\n      <td>0.0</td>\n      <td>1.0</td>\n      <td>0.0</td>\n      <td>11869.0</td>\n      <td>11166.831757</td>\n    </tr>\n    <tr>\n      <th>...</th>\n      <td>...</td>\n      <td>...</td>\n      <td>...</td>\n      <td>...</td>\n      <td>...</td>\n      <td>...</td>\n      <td>...</td>\n      <td>...</td>\n      <td>...</td>\n      <td>...</td>\n      <td>...</td>\n      <td>...</td>\n      <td>...</td>\n      <td>...</td>\n      <td>...</td>\n      <td>...</td>\n      <td>...</td>\n      <td>...</td>\n      <td>...</td>\n      <td>...</td>\n      <td>...</td>\n    </tr>\n    <tr>\n      <th>12091</th>\n      <td>0.32</td>\n      <td>61.299999</td>\n      <td>55.0</td>\n      <td>4.41</td>\n      <td>2.71</td>\n      <td>0.0</td>\n      <td>0.0</td>\n      <td>1.0</td>\n      <td>0.0</td>\n      <td>0.0</td>\n      <td>...</td>\n      <td>0.0</td>\n      <td>0.0</td>\n      <td>0.0</td>\n      <td>0.0</td>\n      <td>0.0</td>\n      <td>1.0</td>\n      <td>0.0</td>\n      <td>0.0</td>\n      <td>846.0</td>\n      <td>779.584026</td>\n    </tr>\n    <tr>\n      <th>12092</th>\n      <td>0.33</td>\n      <td>61.099998</td>\n      <td>59.0</td>\n      <td>4.45</td>\n      <td>2.71</td>\n      <td>0.0</td>\n      <td>0.0</td>\n      <td>0.0</td>\n      <td>1.0</td>\n      <td>0.0</td>\n      <td>...</td>\n      <td>0.0</td>\n      <td>0.0</td>\n      <td>1.0</td>\n      <td>0.0</td>\n      <td>0.0</td>\n      <td>0.0</td>\n      <td>0.0</td>\n      <td>0.0</td>\n      <td>631.0</td>\n      <td>611.786234</td>\n    </tr>\n    <tr>\n      <th>12093</th>\n      <td>0.40</td>\n      <td>62.900002</td>\n      <td>58.0</td>\n      <td>4.71</td>\n      <td>2.95</td>\n      <td>0.0</td>\n      <td>0.0</td>\n      <td>0.0</td>\n      <td>1.0</td>\n      <td>0.0</td>\n      <td>...</td>\n      <td>0.0</td>\n      <td>0.0</td>\n      <td>0.0</td>\n      <td>0.0</td>\n      <td>1.0</td>\n      <td>0.0</td>\n      <td>0.0</td>\n      <td>0.0</td>\n      <td>1050.0</td>\n      <td>1036.323912</td>\n    </tr>\n    <tr>\n      <th>12094</th>\n      <td>0.73</td>\n      <td>62.200001</td>\n      <td>56.0</td>\n      <td>5.79</td>\n      <td>3.58</td>\n      <td>0.0</td>\n      <td>0.0</td>\n      <td>1.0</td>\n      <td>0.0</td>\n      <td>0.0</td>\n      <td>...</td>\n      <td>0.0</td>\n      <td>0.0</td>\n      <td>0.0</td>\n      <td>0.0</td>\n      <td>0.0</td>\n      <td>0.0</td>\n      <td>0.0</td>\n      <td>1.0</td>\n      <td>4252.0</td>\n      <td>4643.475899</td>\n    </tr>\n    <tr>\n      <th>12095</th>\n      <td>1.72</td>\n      <td>63.200001</td>\n      <td>61.0</td>\n      <td>7.57</td>\n      <td>4.80</td>\n      <td>0.0</td>\n      <td>1.0</td>\n      <td>0.0</td>\n      <td>0.0</td>\n      <td>0.0</td>\n      <td>...</td>\n      <td>0.0</td>\n      <td>0.0</td>\n      <td>1.0</td>\n      <td>0.0</td>\n      <td>0.0</td>\n      <td>0.0</td>\n      <td>0.0</td>\n      <td>0.0</td>\n      <td>13499.0</td>\n      <td>13313.188414</td>\n    </tr>\n  </tbody>\n</table>\n<p>12096 rows × 27 columns</p>\n</div>"
     },
     "metadata": {},
     "execution_count": 13
    }
   ],
   "source": [
    "predict_model(tuned_lightgbm)"
   ]
  },
  {
   "cell_type": "code",
   "execution_count": 14,
   "metadata": {},
   "outputs": [],
   "source": [
    "final_lightgbm = finalize_model(tuned_lightgbm)"
   ]
  },
  {
   "cell_type": "code",
   "execution_count": 15,
   "metadata": {},
   "outputs": [
    {
     "output_type": "display_data",
     "data": {
      "text/plain": "<pandas.io.formats.style.Styler at 0x14e93d550>",
      "text/html": "<style  type=\"text/css\" >\n</style><table id=\"T_b4c9a_\" ><thead>    <tr>        <th class=\"blank level0\" ></th>        <th class=\"col_heading level0 col0\" >Model</th>        <th class=\"col_heading level0 col1\" >MAE</th>        <th class=\"col_heading level0 col2\" >MSE</th>        <th class=\"col_heading level0 col3\" >RMSE</th>        <th class=\"col_heading level0 col4\" >R2</th>        <th class=\"col_heading level0 col5\" >RMSLE</th>        <th class=\"col_heading level0 col6\" >MAPE</th>    </tr></thead><tbody>\n                <tr>\n                        <th id=\"T_b4c9a_level0_row0\" class=\"row_heading level0 row0\" >0</th>\n                        <td id=\"T_b4c9a_row0_col0\" class=\"data row0 col0\" >Light Gradient Boosting Machine</td>\n                        <td id=\"T_b4c9a_row0_col1\" class=\"data row0 col1\" >220.2115</td>\n                        <td id=\"T_b4c9a_row0_col2\" class=\"data row0 col2\" >141855.9239</td>\n                        <td id=\"T_b4c9a_row0_col3\" class=\"data row0 col3\" >376.6377</td>\n                        <td id=\"T_b4c9a_row0_col4\" class=\"data row0 col4\" >0.9909</td>\n                        <td id=\"T_b4c9a_row0_col5\" class=\"data row0 col5\" >0.0932</td>\n                        <td id=\"T_b4c9a_row0_col6\" class=\"data row0 col6\" >0.0720</td>\n            </tr>\n    </tbody></table>"
     },
     "metadata": {}
    },
    {
     "output_type": "execute_result",
     "data": {
      "text/plain": [
       "       carat      depth  table     x     z  cut_Fair  cut_Good  cut_Ideal  \\\n",
       "0       0.40  61.099998   58.0  4.73  2.90       0.0       0.0        0.0   \n",
       "1       0.32  61.700001   58.0  4.38  2.71       0.0       0.0        0.0   \n",
       "2       0.71  62.599998   57.0  5.64  3.55       0.0       0.0        0.0   \n",
       "3       0.46  62.000000   58.0  4.95  3.08       0.0       0.0        0.0   \n",
       "4       1.55  62.099998   56.0  7.36  4.59       0.0       0.0        1.0   \n",
       "...      ...        ...    ...   ...   ...       ...       ...        ...   \n",
       "12091   0.32  61.299999   55.0  4.41  2.71       0.0       0.0        1.0   \n",
       "12092   0.33  61.099998   59.0  4.45  2.71       0.0       0.0        0.0   \n",
       "12093   0.40  62.900002   58.0  4.71  2.95       0.0       0.0        0.0   \n",
       "12094   0.73  62.200001   56.0  5.79  3.58       0.0       0.0        1.0   \n",
       "12095   1.72  63.200001   61.0  7.57  4.80       0.0       1.0        0.0   \n",
       "\n",
       "       cut_Premium  cut_Very Good  ...  clarity_I1  clarity_IF  clarity_SI1  \\\n",
       "0              1.0            0.0  ...         0.0         0.0          0.0   \n",
       "1              1.0            0.0  ...         0.0         0.0          0.0   \n",
       "2              0.0            1.0  ...         0.0         0.0          0.0   \n",
       "3              1.0            0.0  ...         0.0         0.0          0.0   \n",
       "4              0.0            0.0  ...         0.0         0.0          0.0   \n",
       "...            ...            ...  ...         ...         ...          ...   \n",
       "12091          0.0            0.0  ...         0.0         0.0          0.0   \n",
       "12092          1.0            0.0  ...         0.0         0.0          1.0   \n",
       "12093          1.0            0.0  ...         0.0         0.0          0.0   \n",
       "12094          0.0            0.0  ...         0.0         0.0          0.0   \n",
       "12095          0.0            0.0  ...         0.0         0.0          1.0   \n",
       "\n",
       "       clarity_SI2  clarity_VS1  clarity_VS2  clarity_VVS1  clarity_VVS2  \\\n",
       "0              1.0          0.0          0.0           0.0           0.0   \n",
       "1              0.0          1.0          0.0           0.0           0.0   \n",
       "2              0.0          0.0          1.0           0.0           0.0   \n",
       "3              0.0          1.0          0.0           0.0           0.0   \n",
       "4              0.0          0.0          0.0           1.0           0.0   \n",
       "...            ...          ...          ...           ...           ...   \n",
       "12091          0.0          0.0          1.0           0.0           0.0   \n",
       "12092          0.0          0.0          0.0           0.0           0.0   \n",
       "12093          0.0          1.0          0.0           0.0           0.0   \n",
       "12094          0.0          0.0          0.0           0.0           1.0   \n",
       "12095          0.0          0.0          0.0           0.0           0.0   \n",
       "\n",
       "         price         Label  \n",
       "0        666.0    777.179537  \n",
       "1        645.0    720.725481  \n",
       "2       1626.0   1817.120224  \n",
       "3       1294.0   1370.838697  \n",
       "4      11869.0  11343.930153  \n",
       "...        ...           ...  \n",
       "12091    846.0    768.791904  \n",
       "12092    631.0    611.546545  \n",
       "12093   1050.0   1029.686216  \n",
       "12094   4252.0   4667.277902  \n",
       "12095  13499.0  13650.252480  \n",
       "\n",
       "[12096 rows x 27 columns]"
      ],
      "text/html": "<div>\n<style scoped>\n    .dataframe tbody tr th:only-of-type {\n        vertical-align: middle;\n    }\n\n    .dataframe tbody tr th {\n        vertical-align: top;\n    }\n\n    .dataframe thead th {\n        text-align: right;\n    }\n</style>\n<table border=\"1\" class=\"dataframe\">\n  <thead>\n    <tr style=\"text-align: right;\">\n      <th></th>\n      <th>carat</th>\n      <th>depth</th>\n      <th>table</th>\n      <th>x</th>\n      <th>z</th>\n      <th>cut_Fair</th>\n      <th>cut_Good</th>\n      <th>cut_Ideal</th>\n      <th>cut_Premium</th>\n      <th>cut_Very Good</th>\n      <th>...</th>\n      <th>clarity_I1</th>\n      <th>clarity_IF</th>\n      <th>clarity_SI1</th>\n      <th>clarity_SI2</th>\n      <th>clarity_VS1</th>\n      <th>clarity_VS2</th>\n      <th>clarity_VVS1</th>\n      <th>clarity_VVS2</th>\n      <th>price</th>\n      <th>Label</th>\n    </tr>\n  </thead>\n  <tbody>\n    <tr>\n      <th>0</th>\n      <td>0.40</td>\n      <td>61.099998</td>\n      <td>58.0</td>\n      <td>4.73</td>\n      <td>2.90</td>\n      <td>0.0</td>\n      <td>0.0</td>\n      <td>0.0</td>\n      <td>1.0</td>\n      <td>0.0</td>\n      <td>...</td>\n      <td>0.0</td>\n      <td>0.0</td>\n      <td>0.0</td>\n      <td>1.0</td>\n      <td>0.0</td>\n      <td>0.0</td>\n      <td>0.0</td>\n      <td>0.0</td>\n      <td>666.0</td>\n      <td>777.179537</td>\n    </tr>\n    <tr>\n      <th>1</th>\n      <td>0.32</td>\n      <td>61.700001</td>\n      <td>58.0</td>\n      <td>4.38</td>\n      <td>2.71</td>\n      <td>0.0</td>\n      <td>0.0</td>\n      <td>0.0</td>\n      <td>1.0</td>\n      <td>0.0</td>\n      <td>...</td>\n      <td>0.0</td>\n      <td>0.0</td>\n      <td>0.0</td>\n      <td>0.0</td>\n      <td>1.0</td>\n      <td>0.0</td>\n      <td>0.0</td>\n      <td>0.0</td>\n      <td>645.0</td>\n      <td>720.725481</td>\n    </tr>\n    <tr>\n      <th>2</th>\n      <td>0.71</td>\n      <td>62.599998</td>\n      <td>57.0</td>\n      <td>5.64</td>\n      <td>3.55</td>\n      <td>0.0</td>\n      <td>0.0</td>\n      <td>0.0</td>\n      <td>0.0</td>\n      <td>1.0</td>\n      <td>...</td>\n      <td>0.0</td>\n      <td>0.0</td>\n      <td>0.0</td>\n      <td>0.0</td>\n      <td>0.0</td>\n      <td>1.0</td>\n      <td>0.0</td>\n      <td>0.0</td>\n      <td>1626.0</td>\n      <td>1817.120224</td>\n    </tr>\n    <tr>\n      <th>3</th>\n      <td>0.46</td>\n      <td>62.000000</td>\n      <td>58.0</td>\n      <td>4.95</td>\n      <td>3.08</td>\n      <td>0.0</td>\n      <td>0.0</td>\n      <td>0.0</td>\n      <td>1.0</td>\n      <td>0.0</td>\n      <td>...</td>\n      <td>0.0</td>\n      <td>0.0</td>\n      <td>0.0</td>\n      <td>0.0</td>\n      <td>1.0</td>\n      <td>0.0</td>\n      <td>0.0</td>\n      <td>0.0</td>\n      <td>1294.0</td>\n      <td>1370.838697</td>\n    </tr>\n    <tr>\n      <th>4</th>\n      <td>1.55</td>\n      <td>62.099998</td>\n      <td>56.0</td>\n      <td>7.36</td>\n      <td>4.59</td>\n      <td>0.0</td>\n      <td>0.0</td>\n      <td>1.0</td>\n      <td>0.0</td>\n      <td>0.0</td>\n      <td>...</td>\n      <td>0.0</td>\n      <td>0.0</td>\n      <td>0.0</td>\n      <td>0.0</td>\n      <td>0.0</td>\n      <td>0.0</td>\n      <td>1.0</td>\n      <td>0.0</td>\n      <td>11869.0</td>\n      <td>11343.930153</td>\n    </tr>\n    <tr>\n      <th>...</th>\n      <td>...</td>\n      <td>...</td>\n      <td>...</td>\n      <td>...</td>\n      <td>...</td>\n      <td>...</td>\n      <td>...</td>\n      <td>...</td>\n      <td>...</td>\n      <td>...</td>\n      <td>...</td>\n      <td>...</td>\n      <td>...</td>\n      <td>...</td>\n      <td>...</td>\n      <td>...</td>\n      <td>...</td>\n      <td>...</td>\n      <td>...</td>\n      <td>...</td>\n      <td>...</td>\n    </tr>\n    <tr>\n      <th>12091</th>\n      <td>0.32</td>\n      <td>61.299999</td>\n      <td>55.0</td>\n      <td>4.41</td>\n      <td>2.71</td>\n      <td>0.0</td>\n      <td>0.0</td>\n      <td>1.0</td>\n      <td>0.0</td>\n      <td>0.0</td>\n      <td>...</td>\n      <td>0.0</td>\n      <td>0.0</td>\n      <td>0.0</td>\n      <td>0.0</td>\n      <td>0.0</td>\n      <td>1.0</td>\n      <td>0.0</td>\n      <td>0.0</td>\n      <td>846.0</td>\n      <td>768.791904</td>\n    </tr>\n    <tr>\n      <th>12092</th>\n      <td>0.33</td>\n      <td>61.099998</td>\n      <td>59.0</td>\n      <td>4.45</td>\n      <td>2.71</td>\n      <td>0.0</td>\n      <td>0.0</td>\n      <td>0.0</td>\n      <td>1.0</td>\n      <td>0.0</td>\n      <td>...</td>\n      <td>0.0</td>\n      <td>0.0</td>\n      <td>1.0</td>\n      <td>0.0</td>\n      <td>0.0</td>\n      <td>0.0</td>\n      <td>0.0</td>\n      <td>0.0</td>\n      <td>631.0</td>\n      <td>611.546545</td>\n    </tr>\n    <tr>\n      <th>12093</th>\n      <td>0.40</td>\n      <td>62.900002</td>\n      <td>58.0</td>\n      <td>4.71</td>\n      <td>2.95</td>\n      <td>0.0</td>\n      <td>0.0</td>\n      <td>0.0</td>\n      <td>1.0</td>\n      <td>0.0</td>\n      <td>...</td>\n      <td>0.0</td>\n      <td>0.0</td>\n      <td>0.0</td>\n      <td>0.0</td>\n      <td>1.0</td>\n      <td>0.0</td>\n      <td>0.0</td>\n      <td>0.0</td>\n      <td>1050.0</td>\n      <td>1029.686216</td>\n    </tr>\n    <tr>\n      <th>12094</th>\n      <td>0.73</td>\n      <td>62.200001</td>\n      <td>56.0</td>\n      <td>5.79</td>\n      <td>3.58</td>\n      <td>0.0</td>\n      <td>0.0</td>\n      <td>1.0</td>\n      <td>0.0</td>\n      <td>0.0</td>\n      <td>...</td>\n      <td>0.0</td>\n      <td>0.0</td>\n      <td>0.0</td>\n      <td>0.0</td>\n      <td>0.0</td>\n      <td>0.0</td>\n      <td>0.0</td>\n      <td>1.0</td>\n      <td>4252.0</td>\n      <td>4667.277902</td>\n    </tr>\n    <tr>\n      <th>12095</th>\n      <td>1.72</td>\n      <td>63.200001</td>\n      <td>61.0</td>\n      <td>7.57</td>\n      <td>4.80</td>\n      <td>0.0</td>\n      <td>1.0</td>\n      <td>0.0</td>\n      <td>0.0</td>\n      <td>0.0</td>\n      <td>...</td>\n      <td>0.0</td>\n      <td>0.0</td>\n      <td>1.0</td>\n      <td>0.0</td>\n      <td>0.0</td>\n      <td>0.0</td>\n      <td>0.0</td>\n      <td>0.0</td>\n      <td>13499.0</td>\n      <td>13650.252480</td>\n    </tr>\n  </tbody>\n</table>\n<p>12096 rows × 27 columns</p>\n</div>"
     },
     "metadata": {},
     "execution_count": 15
    }
   ],
   "source": [
    "predict_model(final_lightgbm)"
   ]
  },
  {
   "cell_type": "code",
   "execution_count": 21,
   "metadata": {},
   "outputs": [
    {
     "output_type": "stream",
     "name": "stdout",
     "text": [
      "Transformation Pipeline and Model Succesfully Saved\n"
     ]
    },
    {
     "output_type": "execute_result",
     "data": {
      "text/plain": [
       "(Pipeline(memory=None,\n",
       "          steps=[('dtypes',\n",
       "                  DataTypes_Auto_infer(categorical_features=[],\n",
       "                                       display_types=True, features_todrop=[],\n",
       "                                       id_columns=[], ml_usecase='regression',\n",
       "                                       numerical_features=[], target='price',\n",
       "                                       time_features=[])),\n",
       "                 ('imputer',\n",
       "                  Simple_Imputer(categorical_strategy='not_available',\n",
       "                                 fill_value_categorical=None,\n",
       "                                 fill_value_numerical=None,\n",
       "                                 numeric_strategy='...\n",
       "                  LGBMRegressor(boosting_type='gbdt', class_weight=None,\n",
       "                                colsample_bytree=1.0, importance_type='split',\n",
       "                                learning_rate=0.1, max_depth=60,\n",
       "                                min_child_samples=20, min_child_weight=0.001,\n",
       "                                min_split_gain=0.0, n_estimators=100, n_jobs=-1,\n",
       "                                num_leaves=120, objective=None, random_state=123,\n",
       "                                reg_alpha=0.0, reg_lambda=0.0, silent=True,\n",
       "                                subsample=1.0, subsample_for_bin=200000,\n",
       "                                subsample_freq=0)]],\n",
       "          verbose=False),\n",
       " 'Final LightGBM Model 19Jun2021.pkl')"
      ]
     },
     "metadata": {},
     "execution_count": 21
    }
   ],
   "source": [
    "save_model(final_lightgbm,'Final LightGBM Model 19Jun2021')"
   ]
  },
  {
   "cell_type": "code",
   "execution_count": 39,
   "metadata": {},
   "outputs": [
    {
     "output_type": "stream",
     "name": "stdout",
     "text": [
      "Transformation Pipeline and Model Successfully Loaded\n"
     ]
    }
   ],
   "source": [
    "saved_final_lightgbm = load_model('Final LightGBM Model 19Jun2021')"
   ]
  },
  {
   "cell_type": "code",
   "execution_count": 40,
   "metadata": {},
   "outputs": [
    {
     "output_type": "display_data",
     "data": {
      "text/plain": "interactive(children=(ToggleButtons(description='Plot Type:', icons=('',), options=(('Hyperparameters', 'param…",
      "application/vnd.jupyter.widget-view+json": {
       "version_major": 2,
       "version_minor": 0,
       "model_id": "ed523f281b39446fa758d9d2795344c7"
      }
     },
     "metadata": {}
    }
   ],
   "source": [
    "evaluate_model(saved_final_lightgbm)"
   ]
  },
  {
   "cell_type": "code",
   "execution_count": 10,
   "metadata": {},
   "outputs": [
    {
     "output_type": "execute_result",
     "data": {
      "text/plain": [
       "   carat        cut color clarity  depth  table     x     y     z        Label\n",
       "0   0.30      Ideal     H     SI2   60.0   56.0  4.41  4.43  2.65   474.506973\n",
       "1   0.34      Ideal     D      IF   62.1   57.0  4.52  4.46  2.79  1778.493492\n",
       "2   1.57  Very Good     I     VS2   60.3   58.0  7.58  7.55  4.56  9580.096575\n",
       "3   0.31      Ideal     H     VS2   61.8   57.0  4.32  4.36  2.68   578.936847\n",
       "4   1.51       Good     I    VVS1   64.0   60.0  7.26  7.21  4.63  9739.261787"
      ],
      "text/html": "<div>\n<style scoped>\n    .dataframe tbody tr th:only-of-type {\n        vertical-align: middle;\n    }\n\n    .dataframe tbody tr th {\n        vertical-align: top;\n    }\n\n    .dataframe thead th {\n        text-align: right;\n    }\n</style>\n<table border=\"1\" class=\"dataframe\">\n  <thead>\n    <tr style=\"text-align: right;\">\n      <th></th>\n      <th>carat</th>\n      <th>cut</th>\n      <th>color</th>\n      <th>clarity</th>\n      <th>depth</th>\n      <th>table</th>\n      <th>x</th>\n      <th>y</th>\n      <th>z</th>\n      <th>Label</th>\n    </tr>\n  </thead>\n  <tbody>\n    <tr>\n      <th>0</th>\n      <td>0.30</td>\n      <td>Ideal</td>\n      <td>H</td>\n      <td>SI2</td>\n      <td>60.0</td>\n      <td>56.0</td>\n      <td>4.41</td>\n      <td>4.43</td>\n      <td>2.65</td>\n      <td>474.506973</td>\n    </tr>\n    <tr>\n      <th>1</th>\n      <td>0.34</td>\n      <td>Ideal</td>\n      <td>D</td>\n      <td>IF</td>\n      <td>62.1</td>\n      <td>57.0</td>\n      <td>4.52</td>\n      <td>4.46</td>\n      <td>2.79</td>\n      <td>1778.493492</td>\n    </tr>\n    <tr>\n      <th>2</th>\n      <td>1.57</td>\n      <td>Very Good</td>\n      <td>I</td>\n      <td>VS2</td>\n      <td>60.3</td>\n      <td>58.0</td>\n      <td>7.58</td>\n      <td>7.55</td>\n      <td>4.56</td>\n      <td>9580.096575</td>\n    </tr>\n    <tr>\n      <th>3</th>\n      <td>0.31</td>\n      <td>Ideal</td>\n      <td>H</td>\n      <td>VS2</td>\n      <td>61.8</td>\n      <td>57.0</td>\n      <td>4.32</td>\n      <td>4.36</td>\n      <td>2.68</td>\n      <td>578.936847</td>\n    </tr>\n    <tr>\n      <th>4</th>\n      <td>1.51</td>\n      <td>Good</td>\n      <td>I</td>\n      <td>VVS1</td>\n      <td>64.0</td>\n      <td>60.0</td>\n      <td>7.26</td>\n      <td>7.21</td>\n      <td>4.63</td>\n      <td>9739.261787</td>\n    </tr>\n  </tbody>\n</table>\n</div>"
     },
     "metadata": {},
     "execution_count": 10
    }
   ],
   "source": [
    "unseen_predictions = predict_model(saved_final_lightgbm, data=X_pred)\n",
    "unseen_predictions.head()"
   ]
  },
  {
   "cell_type": "code",
   "execution_count": 22,
   "metadata": {},
   "outputs": [
    {
     "output_type": "execute_result",
     "data": {
      "text/plain": [
       "          id  price\n",
       "0          0  12132\n",
       "1          1  11786\n",
       "2          2  14684\n",
       "3          3  15425\n",
       "4          4   6724\n",
       "...      ...    ...\n",
       "13444  13444   8197\n",
       "13445  13445  10757\n",
       "13446  13446   8084\n",
       "13447  13447   1948\n",
       "13448  13448  18298\n",
       "\n",
       "[13449 rows x 2 columns]"
      ],
      "text/html": "<div>\n<style scoped>\n    .dataframe tbody tr th:only-of-type {\n        vertical-align: middle;\n    }\n\n    .dataframe tbody tr th {\n        vertical-align: top;\n    }\n\n    .dataframe thead th {\n        text-align: right;\n    }\n</style>\n<table border=\"1\" class=\"dataframe\">\n  <thead>\n    <tr style=\"text-align: right;\">\n      <th></th>\n      <th>id</th>\n      <th>price</th>\n    </tr>\n  </thead>\n  <tbody>\n    <tr>\n      <th>0</th>\n      <td>0</td>\n      <td>12132</td>\n    </tr>\n    <tr>\n      <th>1</th>\n      <td>1</td>\n      <td>11786</td>\n    </tr>\n    <tr>\n      <th>2</th>\n      <td>2</td>\n      <td>14684</td>\n    </tr>\n    <tr>\n      <th>3</th>\n      <td>3</td>\n      <td>15425</td>\n    </tr>\n    <tr>\n      <th>4</th>\n      <td>4</td>\n      <td>6724</td>\n    </tr>\n    <tr>\n      <th>...</th>\n      <td>...</td>\n      <td>...</td>\n    </tr>\n    <tr>\n      <th>13444</th>\n      <td>13444</td>\n      <td>8197</td>\n    </tr>\n    <tr>\n      <th>13445</th>\n      <td>13445</td>\n      <td>10757</td>\n    </tr>\n    <tr>\n      <th>13446</th>\n      <td>13446</td>\n      <td>8084</td>\n    </tr>\n    <tr>\n      <th>13447</th>\n      <td>13447</td>\n      <td>1948</td>\n    </tr>\n    <tr>\n      <th>13448</th>\n      <td>13448</td>\n      <td>18298</td>\n    </tr>\n  </tbody>\n</table>\n<p>13449 rows × 2 columns</p>\n</div>"
     },
     "metadata": {},
     "execution_count": 22
    }
   ],
   "source": [
    "sample"
   ]
  },
  {
   "cell_type": "code",
   "execution_count": 11,
   "metadata": {},
   "outputs": [],
   "source": [
    "respuesta2 = unseen_predictions['Label'].values"
   ]
  },
  {
   "cell_type": "code",
   "execution_count": 12,
   "metadata": {},
   "outputs": [
    {
     "output_type": "execute_result",
     "data": {
      "text/plain": [
       "array([  474.506973  ,  1778.49349206,  9580.09657537, ...,\n",
       "       14626.55779381, 10531.47553068,   726.91700216])"
      ]
     },
     "metadata": {},
     "execution_count": 12
    }
   ],
   "source": [
    "respuesta2"
   ]
  },
  {
   "cell_type": "code",
   "execution_count": 14,
   "metadata": {},
   "outputs": [],
   "source": []
  },
  {
   "cell_type": "code",
   "execution_count": 15,
   "metadata": {},
   "outputs": [
    {
     "output_type": "execute_result",
     "data": {
      "text/plain": [
       "          id         price\n",
       "0          0    474.506973\n",
       "1          1   1778.493492\n",
       "2          2   9580.096575\n",
       "3          3    578.936847\n",
       "4          4   9739.261787\n",
       "...      ...           ...\n",
       "13444  13444   4587.898948\n",
       "13445  13445    465.256228\n",
       "13446  13446  14626.557794\n",
       "13447  13447  10531.475531\n",
       "13448  13448    726.917002\n",
       "\n",
       "[13449 rows x 2 columns]"
      ],
      "text/html": "<div>\n<style scoped>\n    .dataframe tbody tr th:only-of-type {\n        vertical-align: middle;\n    }\n\n    .dataframe tbody tr th {\n        vertical-align: top;\n    }\n\n    .dataframe thead th {\n        text-align: right;\n    }\n</style>\n<table border=\"1\" class=\"dataframe\">\n  <thead>\n    <tr style=\"text-align: right;\">\n      <th></th>\n      <th>id</th>\n      <th>price</th>\n    </tr>\n  </thead>\n  <tbody>\n    <tr>\n      <th>0</th>\n      <td>0</td>\n      <td>474.506973</td>\n    </tr>\n    <tr>\n      <th>1</th>\n      <td>1</td>\n      <td>1778.493492</td>\n    </tr>\n    <tr>\n      <th>2</th>\n      <td>2</td>\n      <td>9580.096575</td>\n    </tr>\n    <tr>\n      <th>3</th>\n      <td>3</td>\n      <td>578.936847</td>\n    </tr>\n    <tr>\n      <th>4</th>\n      <td>4</td>\n      <td>9739.261787</td>\n    </tr>\n    <tr>\n      <th>...</th>\n      <td>...</td>\n      <td>...</td>\n    </tr>\n    <tr>\n      <th>13444</th>\n      <td>13444</td>\n      <td>4587.898948</td>\n    </tr>\n    <tr>\n      <th>13445</th>\n      <td>13445</td>\n      <td>465.256228</td>\n    </tr>\n    <tr>\n      <th>13446</th>\n      <td>13446</td>\n      <td>14626.557794</td>\n    </tr>\n    <tr>\n      <th>13447</th>\n      <td>13447</td>\n      <td>10531.475531</td>\n    </tr>\n    <tr>\n      <th>13448</th>\n      <td>13448</td>\n      <td>726.917002</td>\n    </tr>\n  </tbody>\n</table>\n<p>13449 rows × 2 columns</p>\n</div>"
     },
     "metadata": {},
     "execution_count": 15
    }
   ],
   "source": [
    "submission2"
   ]
  },
  {
   "cell_type": "code",
   "execution_count": 16,
   "metadata": {},
   "outputs": [
    {
     "output_type": "stream",
     "name": "stdout",
     "text": [
      "You're ready to submit!\n"
     ]
    }
   ],
   "source": [
    "chequeator(submission2, sample)"
   ]
  },
  {
   "cell_type": "code",
   "execution_count": 17,
   "metadata": {},
   "outputs": [],
   "source": [
    "submission2.to_csv('resultado_2.csv', index=False)"
   ]
  },
  {
   "cell_type": "code",
   "execution_count": 14,
   "metadata": {},
   "outputs": [
    {
     "output_type": "stream",
     "name": "stdout",
     "text": [
      "Transformation Pipeline and Model Successfully Loaded\n"
     ]
    }
   ],
   "source": [
    "saved_final_rf = load_model('Final RF Model 19Jun2021')"
   ]
  },
  {
   "cell_type": "code",
   "execution_count": 28,
   "metadata": {},
   "outputs": [
    {
     "output_type": "display_data",
     "data": {
      "text/plain": "<pandas.io.formats.style.Styler at 0x15187b210>",
      "text/html": "<style  type=\"text/css\" >\n#T_94821_row10_col0,#T_94821_row10_col1,#T_94821_row10_col2,#T_94821_row10_col3,#T_94821_row10_col4,#T_94821_row10_col5{\n            background:  yellow;\n        }</style><table id=\"T_94821_\" ><thead>    <tr>        <th class=\"blank level0\" ></th>        <th class=\"col_heading level0 col0\" >MAE</th>        <th class=\"col_heading level0 col1\" >MSE</th>        <th class=\"col_heading level0 col2\" >RMSE</th>        <th class=\"col_heading level0 col3\" >R2</th>        <th class=\"col_heading level0 col4\" >RMSLE</th>        <th class=\"col_heading level0 col5\" >MAPE</th>    </tr></thead><tbody>\n                <tr>\n                        <th id=\"T_94821_level0_row0\" class=\"row_heading level0 row0\" >0</th>\n                        <td id=\"T_94821_row0_col0\" class=\"data row0 col0\" >415.4551</td>\n                        <td id=\"T_94821_row0_col1\" class=\"data row0 col1\" >573565.5536</td>\n                        <td id=\"T_94821_row0_col2\" class=\"data row0 col2\" >757.3411</td>\n                        <td id=\"T_94821_row0_col3\" class=\"data row0 col3\" >0.9632</td>\n                        <td id=\"T_94821_row0_col4\" class=\"data row0 col4\" >0.1480</td>\n                        <td id=\"T_94821_row0_col5\" class=\"data row0 col5\" >0.1157</td>\n            </tr>\n            <tr>\n                        <th id=\"T_94821_level0_row1\" class=\"row_heading level0 row1\" >1</th>\n                        <td id=\"T_94821_row1_col0\" class=\"data row1 col0\" >405.7234</td>\n                        <td id=\"T_94821_row1_col1\" class=\"data row1 col1\" >559425.3239</td>\n                        <td id=\"T_94821_row1_col2\" class=\"data row1 col2\" >747.9474</td>\n                        <td id=\"T_94821_row1_col3\" class=\"data row1 col3\" >0.9651</td>\n                        <td id=\"T_94821_row1_col4\" class=\"data row1 col4\" >0.1414</td>\n                        <td id=\"T_94821_row1_col5\" class=\"data row1 col5\" >0.1103</td>\n            </tr>\n            <tr>\n                        <th id=\"T_94821_level0_row2\" class=\"row_heading level0 row2\" >2</th>\n                        <td id=\"T_94821_row2_col0\" class=\"data row2 col0\" >420.1695</td>\n                        <td id=\"T_94821_row2_col1\" class=\"data row2 col1\" >602490.4191</td>\n                        <td id=\"T_94821_row2_col2\" class=\"data row2 col2\" >776.2026</td>\n                        <td id=\"T_94821_row2_col3\" class=\"data row2 col3\" >0.9631</td>\n                        <td id=\"T_94821_row2_col4\" class=\"data row2 col4\" >0.1478</td>\n                        <td id=\"T_94821_row2_col5\" class=\"data row2 col5\" >0.1141</td>\n            </tr>\n            <tr>\n                        <th id=\"T_94821_level0_row3\" class=\"row_heading level0 row3\" >3</th>\n                        <td id=\"T_94821_row3_col0\" class=\"data row3 col0\" >400.5149</td>\n                        <td id=\"T_94821_row3_col1\" class=\"data row3 col1\" >526034.9215</td>\n                        <td id=\"T_94821_row3_col2\" class=\"data row3 col2\" >725.2826</td>\n                        <td id=\"T_94821_row3_col3\" class=\"data row3 col3\" >0.9641</td>\n                        <td id=\"T_94821_row3_col4\" class=\"data row3 col4\" >0.1491</td>\n                        <td id=\"T_94821_row3_col5\" class=\"data row3 col5\" >0.1153</td>\n            </tr>\n            <tr>\n                        <th id=\"T_94821_level0_row4\" class=\"row_heading level0 row4\" >4</th>\n                        <td id=\"T_94821_row4_col0\" class=\"data row4 col0\" >385.8574</td>\n                        <td id=\"T_94821_row4_col1\" class=\"data row4 col1\" >478992.9462</td>\n                        <td id=\"T_94821_row4_col2\" class=\"data row4 col2\" >692.0932</td>\n                        <td id=\"T_94821_row4_col3\" class=\"data row4 col3\" >0.9694</td>\n                        <td id=\"T_94821_row4_col4\" class=\"data row4 col4\" >0.1434</td>\n                        <td id=\"T_94821_row4_col5\" class=\"data row4 col5\" >0.1114</td>\n            </tr>\n            <tr>\n                        <th id=\"T_94821_level0_row5\" class=\"row_heading level0 row5\" >5</th>\n                        <td id=\"T_94821_row5_col0\" class=\"data row5 col0\" >393.0545</td>\n                        <td id=\"T_94821_row5_col1\" class=\"data row5 col1\" >516217.1704</td>\n                        <td id=\"T_94821_row5_col2\" class=\"data row5 col2\" >718.4825</td>\n                        <td id=\"T_94821_row5_col3\" class=\"data row5 col3\" >0.9693</td>\n                        <td id=\"T_94821_row5_col4\" class=\"data row5 col4\" >0.1379</td>\n                        <td id=\"T_94821_row5_col5\" class=\"data row5 col5\" >0.1084</td>\n            </tr>\n            <tr>\n                        <th id=\"T_94821_level0_row6\" class=\"row_heading level0 row6\" >6</th>\n                        <td id=\"T_94821_row6_col0\" class=\"data row6 col0\" >416.0920</td>\n                        <td id=\"T_94821_row6_col1\" class=\"data row6 col1\" >571132.5262</td>\n                        <td id=\"T_94821_row6_col2\" class=\"data row6 col2\" >755.7331</td>\n                        <td id=\"T_94821_row6_col3\" class=\"data row6 col3\" >0.9656</td>\n                        <td id=\"T_94821_row6_col4\" class=\"data row6 col4\" >0.1452</td>\n                        <td id=\"T_94821_row6_col5\" class=\"data row6 col5\" >0.1134</td>\n            </tr>\n            <tr>\n                        <th id=\"T_94821_level0_row7\" class=\"row_heading level0 row7\" >7</th>\n                        <td id=\"T_94821_row7_col0\" class=\"data row7 col0\" >394.2237</td>\n                        <td id=\"T_94821_row7_col1\" class=\"data row7 col1\" >505148.1433</td>\n                        <td id=\"T_94821_row7_col2\" class=\"data row7 col2\" >710.7377</td>\n                        <td id=\"T_94821_row7_col3\" class=\"data row7 col3\" >0.9675</td>\n                        <td id=\"T_94821_row7_col4\" class=\"data row7 col4\" >0.1431</td>\n                        <td id=\"T_94821_row7_col5\" class=\"data row7 col5\" >0.1127</td>\n            </tr>\n            <tr>\n                        <th id=\"T_94821_level0_row8\" class=\"row_heading level0 row8\" >8</th>\n                        <td id=\"T_94821_row8_col0\" class=\"data row8 col0\" >405.2956</td>\n                        <td id=\"T_94821_row8_col1\" class=\"data row8 col1\" >553809.2083</td>\n                        <td id=\"T_94821_row8_col2\" class=\"data row8 col2\" >744.1836</td>\n                        <td id=\"T_94821_row8_col3\" class=\"data row8 col3\" >0.9659</td>\n                        <td id=\"T_94821_row8_col4\" class=\"data row8 col4\" >0.1491</td>\n                        <td id=\"T_94821_row8_col5\" class=\"data row8 col5\" >0.1164</td>\n            </tr>\n            <tr>\n                        <th id=\"T_94821_level0_row9\" class=\"row_heading level0 row9\" >9</th>\n                        <td id=\"T_94821_row9_col0\" class=\"data row9 col0\" >414.5354</td>\n                        <td id=\"T_94821_row9_col1\" class=\"data row9 col1\" >564374.8803</td>\n                        <td id=\"T_94821_row9_col2\" class=\"data row9 col2\" >751.2489</td>\n                        <td id=\"T_94821_row9_col3\" class=\"data row9 col3\" >0.9641</td>\n                        <td id=\"T_94821_row9_col4\" class=\"data row9 col4\" >0.1497</td>\n                        <td id=\"T_94821_row9_col5\" class=\"data row9 col5\" >0.1174</td>\n            </tr>\n            <tr>\n                        <th id=\"T_94821_level0_row10\" class=\"row_heading level0 row10\" >Mean</th>\n                        <td id=\"T_94821_row10_col0\" class=\"data row10 col0\" >405.0922</td>\n                        <td id=\"T_94821_row10_col1\" class=\"data row10 col1\" >545119.1093</td>\n                        <td id=\"T_94821_row10_col2\" class=\"data row10 col2\" >737.9253</td>\n                        <td id=\"T_94821_row10_col3\" class=\"data row10 col3\" >0.9657</td>\n                        <td id=\"T_94821_row10_col4\" class=\"data row10 col4\" >0.1455</td>\n                        <td id=\"T_94821_row10_col5\" class=\"data row10 col5\" >0.1135</td>\n            </tr>\n            <tr>\n                        <th id=\"T_94821_level0_row11\" class=\"row_heading level0 row11\" >SD</th>\n                        <td id=\"T_94821_row11_col0\" class=\"data row11 col0\" >10.9512</td>\n                        <td id=\"T_94821_row11_col1\" class=\"data row11 col1\" >35493.9592</td>\n                        <td id=\"T_94821_row11_col2\" class=\"data row11 col2\" >24.1950</td>\n                        <td id=\"T_94821_row11_col3\" class=\"data row11 col3\" >0.0022</td>\n                        <td id=\"T_94821_row11_col4\" class=\"data row11 col4\" >0.0037</td>\n                        <td id=\"T_94821_row11_col5\" class=\"data row11 col5\" >0.0027</td>\n            </tr>\n    </tbody></table>"
     },
     "metadata": {}
    }
   ],
   "source": [
    "rf_tuned = tune_model(rf)"
   ]
  },
  {
   "cell_type": "code",
   "execution_count": null,
   "metadata": {},
   "outputs": [],
   "source": []
  },
  {
   "cell_type": "code",
   "execution_count": 15,
   "metadata": {},
   "outputs": [
    {
     "output_type": "display_data",
     "data": {
      "text/plain": "interactive(children=(ToggleButtons(description='Plot Type:', icons=('',), options=(('Hyperparameters', 'param…",
      "application/vnd.jupyter.widget-view+json": {
       "version_major": 2,
       "version_minor": 0,
       "model_id": "82a264a59dbf4a58a97549c21d6867ff"
      }
     },
     "metadata": {}
    }
   ],
   "source": [
    "evaluate_model(saved_final_rf)"
   ]
  },
  {
   "cell_type": "code",
   "execution_count": 33,
   "metadata": {},
   "outputs": [
    {
     "output_type": "display_data",
     "data": {
      "text/plain": "<pandas.io.formats.style.Styler at 0x16348a510>",
      "text/html": "<style  type=\"text/css\" >\n</style><table id=\"T_27d8f_\" ><thead>    <tr>        <th class=\"blank level0\" ></th>        <th class=\"col_heading level0 col0\" >Model</th>        <th class=\"col_heading level0 col1\" >MAE</th>        <th class=\"col_heading level0 col2\" >MSE</th>        <th class=\"col_heading level0 col3\" >RMSE</th>        <th class=\"col_heading level0 col4\" >R2</th>        <th class=\"col_heading level0 col5\" >RMSLE</th>        <th class=\"col_heading level0 col6\" >MAPE</th>    </tr></thead><tbody>\n                <tr>\n                        <th id=\"T_27d8f_level0_row0\" class=\"row_heading level0 row0\" >0</th>\n                        <td id=\"T_27d8f_row0_col0\" class=\"data row0 col0\" >Random Forest Regressor</td>\n                        <td id=\"T_27d8f_row0_col1\" class=\"data row0 col1\" >392.5546</td>\n                        <td id=\"T_27d8f_row0_col2\" class=\"data row0 col2\" >515163.0414</td>\n                        <td id=\"T_27d8f_row0_col3\" class=\"data row0 col3\" >717.7486</td>\n                        <td id=\"T_27d8f_row0_col4\" class=\"data row0 col4\" >0.9670</td>\n                        <td id=\"T_27d8f_row0_col5\" class=\"data row0 col5\" >0.1435</td>\n                        <td id=\"T_27d8f_row0_col6\" class=\"data row0 col6\" >0.1127</td>\n            </tr>\n    </tbody></table>"
     },
     "metadata": {}
    },
    {
     "output_type": "execute_result",
     "data": {
      "text/plain": [
       "       carat      depth  table     x     z  cut_Fair  cut_Good  cut_Ideal  \\\n",
       "0       0.40  61.099998   58.0  4.73  2.90       0.0       0.0        0.0   \n",
       "1       0.32  61.700001   58.0  4.38  2.71       0.0       0.0        0.0   \n",
       "2       0.71  62.599998   57.0  5.64  3.55       0.0       0.0        0.0   \n",
       "3       0.46  62.000000   58.0  4.95  3.08       0.0       0.0        0.0   \n",
       "4       1.55  62.099998   56.0  7.36  4.59       0.0       0.0        1.0   \n",
       "...      ...        ...    ...   ...   ...       ...       ...        ...   \n",
       "12091   0.32  61.299999   55.0  4.41  2.71       0.0       0.0        1.0   \n",
       "12092   0.33  61.099998   59.0  4.45  2.71       0.0       0.0        0.0   \n",
       "12093   0.40  62.900002   58.0  4.71  2.95       0.0       0.0        0.0   \n",
       "12094   0.73  62.200001   56.0  5.79  3.58       0.0       0.0        1.0   \n",
       "12095   1.72  63.200001   61.0  7.57  4.80       0.0       1.0        0.0   \n",
       "\n",
       "       cut_Premium  cut_Very Good  ...  clarity_I1  clarity_IF  clarity_SI1  \\\n",
       "0              1.0            0.0  ...         0.0         0.0          0.0   \n",
       "1              1.0            0.0  ...         0.0         0.0          0.0   \n",
       "2              0.0            1.0  ...         0.0         0.0          0.0   \n",
       "3              1.0            0.0  ...         0.0         0.0          0.0   \n",
       "4              0.0            0.0  ...         0.0         0.0          0.0   \n",
       "...            ...            ...  ...         ...         ...          ...   \n",
       "12091          0.0            0.0  ...         0.0         0.0          0.0   \n",
       "12092          1.0            0.0  ...         0.0         0.0          1.0   \n",
       "12093          1.0            0.0  ...         0.0         0.0          0.0   \n",
       "12094          0.0            0.0  ...         0.0         0.0          0.0   \n",
       "12095          0.0            0.0  ...         0.0         0.0          1.0   \n",
       "\n",
       "       clarity_SI2  clarity_VS1  clarity_VS2  clarity_VVS1  clarity_VVS2  \\\n",
       "0              1.0          0.0          0.0           0.0           0.0   \n",
       "1              0.0          1.0          0.0           0.0           0.0   \n",
       "2              0.0          0.0          1.0           0.0           0.0   \n",
       "3              0.0          1.0          0.0           0.0           0.0   \n",
       "4              0.0          0.0          0.0           1.0           0.0   \n",
       "...            ...          ...          ...           ...           ...   \n",
       "12091          0.0          0.0          1.0           0.0           0.0   \n",
       "12092          0.0          0.0          0.0           0.0           0.0   \n",
       "12093          0.0          1.0          0.0           0.0           0.0   \n",
       "12094          0.0          0.0          0.0           0.0           1.0   \n",
       "12095          0.0          0.0          0.0           0.0           0.0   \n",
       "\n",
       "         price         Label  \n",
       "0        666.0    770.316799  \n",
       "1        645.0    711.367103  \n",
       "2       1626.0   2205.959955  \n",
       "3       1294.0   1277.452454  \n",
       "4      11869.0   9906.029950  \n",
       "...        ...           ...  \n",
       "12091    846.0    710.146476  \n",
       "12092    631.0    612.720883  \n",
       "12093   1050.0    991.849024  \n",
       "12094   4252.0   3369.547055  \n",
       "12095  13499.0  12840.558825  \n",
       "\n",
       "[12096 rows x 27 columns]"
      ],
      "text/html": "<div>\n<style scoped>\n    .dataframe tbody tr th:only-of-type {\n        vertical-align: middle;\n    }\n\n    .dataframe tbody tr th {\n        vertical-align: top;\n    }\n\n    .dataframe thead th {\n        text-align: right;\n    }\n</style>\n<table border=\"1\" class=\"dataframe\">\n  <thead>\n    <tr style=\"text-align: right;\">\n      <th></th>\n      <th>carat</th>\n      <th>depth</th>\n      <th>table</th>\n      <th>x</th>\n      <th>z</th>\n      <th>cut_Fair</th>\n      <th>cut_Good</th>\n      <th>cut_Ideal</th>\n      <th>cut_Premium</th>\n      <th>cut_Very Good</th>\n      <th>...</th>\n      <th>clarity_I1</th>\n      <th>clarity_IF</th>\n      <th>clarity_SI1</th>\n      <th>clarity_SI2</th>\n      <th>clarity_VS1</th>\n      <th>clarity_VS2</th>\n      <th>clarity_VVS1</th>\n      <th>clarity_VVS2</th>\n      <th>price</th>\n      <th>Label</th>\n    </tr>\n  </thead>\n  <tbody>\n    <tr>\n      <th>0</th>\n      <td>0.40</td>\n      <td>61.099998</td>\n      <td>58.0</td>\n      <td>4.73</td>\n      <td>2.90</td>\n      <td>0.0</td>\n      <td>0.0</td>\n      <td>0.0</td>\n      <td>1.0</td>\n      <td>0.0</td>\n      <td>...</td>\n      <td>0.0</td>\n      <td>0.0</td>\n      <td>0.0</td>\n      <td>1.0</td>\n      <td>0.0</td>\n      <td>0.0</td>\n      <td>0.0</td>\n      <td>0.0</td>\n      <td>666.0</td>\n      <td>770.316799</td>\n    </tr>\n    <tr>\n      <th>1</th>\n      <td>0.32</td>\n      <td>61.700001</td>\n      <td>58.0</td>\n      <td>4.38</td>\n      <td>2.71</td>\n      <td>0.0</td>\n      <td>0.0</td>\n      <td>0.0</td>\n      <td>1.0</td>\n      <td>0.0</td>\n      <td>...</td>\n      <td>0.0</td>\n      <td>0.0</td>\n      <td>0.0</td>\n      <td>0.0</td>\n      <td>1.0</td>\n      <td>0.0</td>\n      <td>0.0</td>\n      <td>0.0</td>\n      <td>645.0</td>\n      <td>711.367103</td>\n    </tr>\n    <tr>\n      <th>2</th>\n      <td>0.71</td>\n      <td>62.599998</td>\n      <td>57.0</td>\n      <td>5.64</td>\n      <td>3.55</td>\n      <td>0.0</td>\n      <td>0.0</td>\n      <td>0.0</td>\n      <td>0.0</td>\n      <td>1.0</td>\n      <td>...</td>\n      <td>0.0</td>\n      <td>0.0</td>\n      <td>0.0</td>\n      <td>0.0</td>\n      <td>0.0</td>\n      <td>1.0</td>\n      <td>0.0</td>\n      <td>0.0</td>\n      <td>1626.0</td>\n      <td>2205.959955</td>\n    </tr>\n    <tr>\n      <th>3</th>\n      <td>0.46</td>\n      <td>62.000000</td>\n      <td>58.0</td>\n      <td>4.95</td>\n      <td>3.08</td>\n      <td>0.0</td>\n      <td>0.0</td>\n      <td>0.0</td>\n      <td>1.0</td>\n      <td>0.0</td>\n      <td>...</td>\n      <td>0.0</td>\n      <td>0.0</td>\n      <td>0.0</td>\n      <td>0.0</td>\n      <td>1.0</td>\n      <td>0.0</td>\n      <td>0.0</td>\n      <td>0.0</td>\n      <td>1294.0</td>\n      <td>1277.452454</td>\n    </tr>\n    <tr>\n      <th>4</th>\n      <td>1.55</td>\n      <td>62.099998</td>\n      <td>56.0</td>\n      <td>7.36</td>\n      <td>4.59</td>\n      <td>0.0</td>\n      <td>0.0</td>\n      <td>1.0</td>\n      <td>0.0</td>\n      <td>0.0</td>\n      <td>...</td>\n      <td>0.0</td>\n      <td>0.0</td>\n      <td>0.0</td>\n      <td>0.0</td>\n      <td>0.0</td>\n      <td>0.0</td>\n      <td>1.0</td>\n      <td>0.0</td>\n      <td>11869.0</td>\n      <td>9906.029950</td>\n    </tr>\n    <tr>\n      <th>...</th>\n      <td>...</td>\n      <td>...</td>\n      <td>...</td>\n      <td>...</td>\n      <td>...</td>\n      <td>...</td>\n      <td>...</td>\n      <td>...</td>\n      <td>...</td>\n      <td>...</td>\n      <td>...</td>\n      <td>...</td>\n      <td>...</td>\n      <td>...</td>\n      <td>...</td>\n      <td>...</td>\n      <td>...</td>\n      <td>...</td>\n      <td>...</td>\n      <td>...</td>\n      <td>...</td>\n    </tr>\n    <tr>\n      <th>12091</th>\n      <td>0.32</td>\n      <td>61.299999</td>\n      <td>55.0</td>\n      <td>4.41</td>\n      <td>2.71</td>\n      <td>0.0</td>\n      <td>0.0</td>\n      <td>1.0</td>\n      <td>0.0</td>\n      <td>0.0</td>\n      <td>...</td>\n      <td>0.0</td>\n      <td>0.0</td>\n      <td>0.0</td>\n      <td>0.0</td>\n      <td>0.0</td>\n      <td>1.0</td>\n      <td>0.0</td>\n      <td>0.0</td>\n      <td>846.0</td>\n      <td>710.146476</td>\n    </tr>\n    <tr>\n      <th>12092</th>\n      <td>0.33</td>\n      <td>61.099998</td>\n      <td>59.0</td>\n      <td>4.45</td>\n      <td>2.71</td>\n      <td>0.0</td>\n      <td>0.0</td>\n      <td>0.0</td>\n      <td>1.0</td>\n      <td>0.0</td>\n      <td>...</td>\n      <td>0.0</td>\n      <td>0.0</td>\n      <td>1.0</td>\n      <td>0.0</td>\n      <td>0.0</td>\n      <td>0.0</td>\n      <td>0.0</td>\n      <td>0.0</td>\n      <td>631.0</td>\n      <td>612.720883</td>\n    </tr>\n    <tr>\n      <th>12093</th>\n      <td>0.40</td>\n      <td>62.900002</td>\n      <td>58.0</td>\n      <td>4.71</td>\n      <td>2.95</td>\n      <td>0.0</td>\n      <td>0.0</td>\n      <td>0.0</td>\n      <td>1.0</td>\n      <td>0.0</td>\n      <td>...</td>\n      <td>0.0</td>\n      <td>0.0</td>\n      <td>0.0</td>\n      <td>0.0</td>\n      <td>1.0</td>\n      <td>0.0</td>\n      <td>0.0</td>\n      <td>0.0</td>\n      <td>1050.0</td>\n      <td>991.849024</td>\n    </tr>\n    <tr>\n      <th>12094</th>\n      <td>0.73</td>\n      <td>62.200001</td>\n      <td>56.0</td>\n      <td>5.79</td>\n      <td>3.58</td>\n      <td>0.0</td>\n      <td>0.0</td>\n      <td>1.0</td>\n      <td>0.0</td>\n      <td>0.0</td>\n      <td>...</td>\n      <td>0.0</td>\n      <td>0.0</td>\n      <td>0.0</td>\n      <td>0.0</td>\n      <td>0.0</td>\n      <td>0.0</td>\n      <td>0.0</td>\n      <td>1.0</td>\n      <td>4252.0</td>\n      <td>3369.547055</td>\n    </tr>\n    <tr>\n      <th>12095</th>\n      <td>1.72</td>\n      <td>63.200001</td>\n      <td>61.0</td>\n      <td>7.57</td>\n      <td>4.80</td>\n      <td>0.0</td>\n      <td>1.0</td>\n      <td>0.0</td>\n      <td>0.0</td>\n      <td>0.0</td>\n      <td>...</td>\n      <td>0.0</td>\n      <td>0.0</td>\n      <td>1.0</td>\n      <td>0.0</td>\n      <td>0.0</td>\n      <td>0.0</td>\n      <td>0.0</td>\n      <td>0.0</td>\n      <td>13499.0</td>\n      <td>12840.558825</td>\n    </tr>\n  </tbody>\n</table>\n<p>12096 rows × 27 columns</p>\n</div>"
     },
     "metadata": {},
     "execution_count": 33
    }
   ],
   "source": [
    "predict_model(rf_tuned)"
   ]
  },
  {
   "cell_type": "code",
   "execution_count": 34,
   "metadata": {},
   "outputs": [],
   "source": [
    "final_rf = finalize_model(rf_tuned)"
   ]
  },
  {
   "cell_type": "code",
   "execution_count": 37,
   "metadata": {},
   "outputs": [
    {
     "output_type": "stream",
     "name": "stdout",
     "text": [
      "Transformation Pipeline and Model Succesfully Saved\n"
     ]
    },
    {
     "output_type": "execute_result",
     "data": {
      "text/plain": [
       "(Pipeline(memory=None,\n",
       "          steps=[('dtypes',\n",
       "                  DataTypes_Auto_infer(categorical_features=[],\n",
       "                                       display_types=True, features_todrop=[],\n",
       "                                       id_columns=[], ml_usecase='regression',\n",
       "                                       numerical_features=[], target='price',\n",
       "                                       time_features=[])),\n",
       "                 ('imputer',\n",
       "                  Simple_Imputer(categorical_strategy='not_available',\n",
       "                                 fill_value_categorical=None,\n",
       "                                 fill_value_numerical=None,\n",
       "                                 numeric_strategy='...\n",
       "                  RandomForestRegressor(bootstrap=True, ccp_alpha=0.0,\n",
       "                                        criterion='mse', max_depth=9,\n",
       "                                        max_features=1.0, max_leaf_nodes=None,\n",
       "                                        max_samples=None,\n",
       "                                        min_impurity_decrease=0.1,\n",
       "                                        min_impurity_split=None,\n",
       "                                        min_samples_leaf=4, min_samples_split=7,\n",
       "                                        min_weight_fraction_leaf=0.0,\n",
       "                                        n_estimators=100, n_jobs=-1,\n",
       "                                        oob_score=False, random_state=123,\n",
       "                                        verbose=0, warm_start=False)]],\n",
       "          verbose=False),\n",
       " 'Final RF Model 19Jun2021.pkl')"
      ]
     },
     "metadata": {},
     "execution_count": 37
    }
   ],
   "source": [
    "save_model(final_rf,'Final RF Model 19Jun2021')"
   ]
  },
  {
   "cell_type": "code",
   "execution_count": 4,
   "metadata": {},
   "outputs": [],
   "source": [
    "data_modified = pd.read_csv('./data_modified.csv')\n",
    "data_pred_modified = pd.read_csv('./data_pred_modified.csv')"
   ]
  },
  {
   "cell_type": "code",
   "execution_count": 19,
   "metadata": {},
   "outputs": [
    {
     "output_type": "display_data",
     "data": {
      "text/plain": "<pandas.io.formats.style.Styler at 0x1449ae290>",
      "text/html": "<style  type=\"text/css\" >\n#T_2d9ec_row10_col0,#T_2d9ec_row10_col1,#T_2d9ec_row10_col2,#T_2d9ec_row10_col3,#T_2d9ec_row10_col4,#T_2d9ec_row10_col5{\n            background:  yellow;\n        }</style><table id=\"T_2d9ec_\" ><thead>    <tr>        <th class=\"blank level0\" ></th>        <th class=\"col_heading level0 col0\" >MAE</th>        <th class=\"col_heading level0 col1\" >MSE</th>        <th class=\"col_heading level0 col2\" >RMSE</th>        <th class=\"col_heading level0 col3\" >R2</th>        <th class=\"col_heading level0 col4\" >RMSLE</th>        <th class=\"col_heading level0 col5\" >MAPE</th>    </tr></thead><tbody>\n                <tr>\n                        <th id=\"T_2d9ec_level0_row0\" class=\"row_heading level0 row0\" >0</th>\n                        <td id=\"T_2d9ec_row0_col0\" class=\"data row0 col0\" >309.1817</td>\n                        <td id=\"T_2d9ec_row0_col1\" class=\"data row0 col1\" >336282.5068</td>\n                        <td id=\"T_2d9ec_row0_col2\" class=\"data row0 col2\" >579.8987</td>\n                        <td id=\"T_2d9ec_row0_col3\" class=\"data row0 col3\" >0.9800</td>\n                        <td id=\"T_2d9ec_row0_col4\" class=\"data row0 col4\" >0.1120</td>\n                        <td id=\"T_2d9ec_row0_col5\" class=\"data row0 col5\" >0.0874</td>\n            </tr>\n            <tr>\n                        <th id=\"T_2d9ec_level0_row1\" class=\"row_heading level0 row1\" >1</th>\n                        <td id=\"T_2d9ec_row1_col0\" class=\"data row1 col0\" >312.9920</td>\n                        <td id=\"T_2d9ec_row1_col1\" class=\"data row1 col1\" >337159.7909</td>\n                        <td id=\"T_2d9ec_row1_col2\" class=\"data row1 col2\" >580.6546</td>\n                        <td id=\"T_2d9ec_row1_col3\" class=\"data row1 col3\" >0.9805</td>\n                        <td id=\"T_2d9ec_row1_col4\" class=\"data row1 col4\" >0.1134</td>\n                        <td id=\"T_2d9ec_row1_col5\" class=\"data row1 col5\" >0.0870</td>\n            </tr>\n            <tr>\n                        <th id=\"T_2d9ec_level0_row2\" class=\"row_heading level0 row2\" >2</th>\n                        <td id=\"T_2d9ec_row2_col0\" class=\"data row2 col0\" >287.1673</td>\n                        <td id=\"T_2d9ec_row2_col1\" class=\"data row2 col1\" >296743.3715</td>\n                        <td id=\"T_2d9ec_row2_col2\" class=\"data row2 col2\" >544.7416</td>\n                        <td id=\"T_2d9ec_row2_col3\" class=\"data row2 col3\" >0.9802</td>\n                        <td id=\"T_2d9ec_row2_col4\" class=\"data row2 col4\" >0.1111</td>\n                        <td id=\"T_2d9ec_row2_col5\" class=\"data row2 col5\" >0.0861</td>\n            </tr>\n            <tr>\n                        <th id=\"T_2d9ec_level0_row3\" class=\"row_heading level0 row3\" >3</th>\n                        <td id=\"T_2d9ec_row3_col0\" class=\"data row3 col0\" >290.0110</td>\n                        <td id=\"T_2d9ec_row3_col1\" class=\"data row3 col1\" >316782.8545</td>\n                        <td id=\"T_2d9ec_row3_col2\" class=\"data row3 col2\" >562.8347</td>\n                        <td id=\"T_2d9ec_row3_col3\" class=\"data row3 col3\" >0.9788</td>\n                        <td id=\"T_2d9ec_row3_col4\" class=\"data row3 col4\" >0.1167</td>\n                        <td id=\"T_2d9ec_row3_col5\" class=\"data row3 col5\" >0.0886</td>\n            </tr>\n            <tr>\n                        <th id=\"T_2d9ec_level0_row4\" class=\"row_heading level0 row4\" >4</th>\n                        <td id=\"T_2d9ec_row4_col0\" class=\"data row4 col0\" >290.2251</td>\n                        <td id=\"T_2d9ec_row4_col1\" class=\"data row4 col1\" >279742.7153</td>\n                        <td id=\"T_2d9ec_row4_col2\" class=\"data row4 col2\" >528.9071</td>\n                        <td id=\"T_2d9ec_row4_col3\" class=\"data row4 col3\" >0.9832</td>\n                        <td id=\"T_2d9ec_row4_col4\" class=\"data row4 col4\" >0.1145</td>\n                        <td id=\"T_2d9ec_row4_col5\" class=\"data row4 col5\" >0.0877</td>\n            </tr>\n            <tr>\n                        <th id=\"T_2d9ec_level0_row5\" class=\"row_heading level0 row5\" >5</th>\n                        <td id=\"T_2d9ec_row5_col0\" class=\"data row5 col0\" >285.9553</td>\n                        <td id=\"T_2d9ec_row5_col1\" class=\"data row5 col1\" >287148.1369</td>\n                        <td id=\"T_2d9ec_row5_col2\" class=\"data row5 col2\" >535.8621</td>\n                        <td id=\"T_2d9ec_row5_col3\" class=\"data row5 col3\" >0.9817</td>\n                        <td id=\"T_2d9ec_row5_col4\" class=\"data row5 col4\" >0.1063</td>\n                        <td id=\"T_2d9ec_row5_col5\" class=\"data row5 col5\" >0.0824</td>\n            </tr>\n            <tr>\n                        <th id=\"T_2d9ec_level0_row6\" class=\"row_heading level0 row6\" >6</th>\n                        <td id=\"T_2d9ec_row6_col0\" class=\"data row6 col0\" >279.9448</td>\n                        <td id=\"T_2d9ec_row6_col1\" class=\"data row6 col1\" >294850.2454</td>\n                        <td id=\"T_2d9ec_row6_col2\" class=\"data row6 col2\" >543.0011</td>\n                        <td id=\"T_2d9ec_row6_col3\" class=\"data row6 col3\" >0.9796</td>\n                        <td id=\"T_2d9ec_row6_col4\" class=\"data row6 col4\" >0.1151</td>\n                        <td id=\"T_2d9ec_row6_col5\" class=\"data row6 col5\" >0.0872</td>\n            </tr>\n            <tr>\n                        <th id=\"T_2d9ec_level0_row7\" class=\"row_heading level0 row7\" >7</th>\n                        <td id=\"T_2d9ec_row7_col0\" class=\"data row7 col0\" >305.6670</td>\n                        <td id=\"T_2d9ec_row7_col1\" class=\"data row7 col1\" >384482.8202</td>\n                        <td id=\"T_2d9ec_row7_col2\" class=\"data row7 col2\" >620.0668</td>\n                        <td id=\"T_2d9ec_row7_col3\" class=\"data row7 col3\" >0.9767</td>\n                        <td id=\"T_2d9ec_row7_col4\" class=\"data row7 col4\" >0.1158</td>\n                        <td id=\"T_2d9ec_row7_col5\" class=\"data row7 col5\" >0.0879</td>\n            </tr>\n            <tr>\n                        <th id=\"T_2d9ec_level0_row8\" class=\"row_heading level0 row8\" >8</th>\n                        <td id=\"T_2d9ec_row8_col0\" class=\"data row8 col0\" >283.3923</td>\n                        <td id=\"T_2d9ec_row8_col1\" class=\"data row8 col1\" >261130.9604</td>\n                        <td id=\"T_2d9ec_row8_col2\" class=\"data row8 col2\" >511.0097</td>\n                        <td id=\"T_2d9ec_row8_col3\" class=\"data row8 col3\" >0.9836</td>\n                        <td id=\"T_2d9ec_row8_col4\" class=\"data row8 col4\" >0.1085</td>\n                        <td id=\"T_2d9ec_row8_col5\" class=\"data row8 col5\" >0.0837</td>\n            </tr>\n            <tr>\n                        <th id=\"T_2d9ec_level0_row9\" class=\"row_heading level0 row9\" >9</th>\n                        <td id=\"T_2d9ec_row9_col0\" class=\"data row9 col0\" >283.8411</td>\n                        <td id=\"T_2d9ec_row9_col1\" class=\"data row9 col1\" >285914.8479</td>\n                        <td id=\"T_2d9ec_row9_col2\" class=\"data row9 col2\" >534.7101</td>\n                        <td id=\"T_2d9ec_row9_col3\" class=\"data row9 col3\" >0.9813</td>\n                        <td id=\"T_2d9ec_row9_col4\" class=\"data row9 col4\" >0.1129</td>\n                        <td id=\"T_2d9ec_row9_col5\" class=\"data row9 col5\" >0.0872</td>\n            </tr>\n            <tr>\n                        <th id=\"T_2d9ec_level0_row10\" class=\"row_heading level0 row10\" >Mean</th>\n                        <td id=\"T_2d9ec_row10_col0\" class=\"data row10 col0\" >292.8378</td>\n                        <td id=\"T_2d9ec_row10_col1\" class=\"data row10 col1\" >308023.8250</td>\n                        <td id=\"T_2d9ec_row10_col2\" class=\"data row10 col2\" >554.1686</td>\n                        <td id=\"T_2d9ec_row10_col3\" class=\"data row10 col3\" >0.9805</td>\n                        <td id=\"T_2d9ec_row10_col4\" class=\"data row10 col4\" >0.1126</td>\n                        <td id=\"T_2d9ec_row10_col5\" class=\"data row10 col5\" >0.0865</td>\n            </tr>\n            <tr>\n                        <th id=\"T_2d9ec_level0_row11\" class=\"row_heading level0 row11\" >SD</th>\n                        <td id=\"T_2d9ec_row11_col0\" class=\"data row11 col0\" >11.2634</td>\n                        <td id=\"T_2d9ec_row11_col1\" class=\"data row11 col1\" >34342.8466</td>\n                        <td id=\"T_2d9ec_row11_col2\" class=\"data row11 col2\" >30.3470</td>\n                        <td id=\"T_2d9ec_row11_col3\" class=\"data row11 col3\" >0.0019</td>\n                        <td id=\"T_2d9ec_row11_col4\" class=\"data row11 col4\" >0.0031</td>\n                        <td id=\"T_2d9ec_row11_col5\" class=\"data row11 col5\" >0.0018</td>\n            </tr>\n    </tbody></table>"
     },
     "metadata": {}
    }
   ],
   "source": [
    "exp_reg104 = setup(data = data_modified, target = 'price', session_id=7632, numeric_features = ['cut', 'color', 'clarity'],)\n",
    "lightgbm2 = create_model('lightgbm')"
   ]
  },
  {
   "cell_type": "code",
   "execution_count": 20,
   "metadata": {},
   "outputs": [],
   "source": [
    "lgbm_params = {'num_leaves': np.arange(10,200,10),\n",
    "                        'max_depth': [int(x) for x in np.linspace(10, 110, num = 11)],\n",
    "                        'learning_rate': np.arange(0.1,1,0.1)\n",
    "                        }"
   ]
  },
  {
   "cell_type": "code",
   "execution_count": 22,
   "metadata": {},
   "outputs": [
    {
     "output_type": "display_data",
     "data": {
      "text/plain": "<pandas.io.formats.style.Styler at 0x1456e5090>",
      "text/html": "<style  type=\"text/css\" >\n#T_7551e_row10_col0,#T_7551e_row10_col1,#T_7551e_row10_col2,#T_7551e_row10_col3,#T_7551e_row10_col4,#T_7551e_row10_col5{\n            background:  yellow;\n        }</style><table id=\"T_7551e_\" ><thead>    <tr>        <th class=\"blank level0\" ></th>        <th class=\"col_heading level0 col0\" >MAE</th>        <th class=\"col_heading level0 col1\" >MSE</th>        <th class=\"col_heading level0 col2\" >RMSE</th>        <th class=\"col_heading level0 col3\" >R2</th>        <th class=\"col_heading level0 col4\" >RMSLE</th>        <th class=\"col_heading level0 col5\" >MAPE</th>    </tr></thead><tbody>\n                <tr>\n                        <th id=\"T_7551e_level0_row0\" class=\"row_heading level0 row0\" >0</th>\n                        <td id=\"T_7551e_row0_col0\" class=\"data row0 col0\" >297.7038</td>\n                        <td id=\"T_7551e_row0_col1\" class=\"data row0 col1\" >349761.4529</td>\n                        <td id=\"T_7551e_row0_col2\" class=\"data row0 col2\" >591.4063</td>\n                        <td id=\"T_7551e_row0_col3\" class=\"data row0 col3\" >0.9792</td>\n                        <td id=\"T_7551e_row0_col4\" class=\"data row0 col4\" >0.0991</td>\n                        <td id=\"T_7551e_row0_col5\" class=\"data row0 col5\" >0.0760</td>\n            </tr>\n            <tr>\n                        <th id=\"T_7551e_level0_row1\" class=\"row_heading level0 row1\" >1</th>\n                        <td id=\"T_7551e_row1_col0\" class=\"data row1 col0\" >301.8930</td>\n                        <td id=\"T_7551e_row1_col1\" class=\"data row1 col1\" >325187.3026</td>\n                        <td id=\"T_7551e_row1_col2\" class=\"data row1 col2\" >570.2520</td>\n                        <td id=\"T_7551e_row1_col3\" class=\"data row1 col3\" >0.9812</td>\n                        <td id=\"T_7551e_row1_col4\" class=\"data row1 col4\" >0.0992</td>\n                        <td id=\"T_7551e_row1_col5\" class=\"data row1 col5\" >0.0760</td>\n            </tr>\n            <tr>\n                        <th id=\"T_7551e_level0_row2\" class=\"row_heading level0 row2\" >2</th>\n                        <td id=\"T_7551e_row2_col0\" class=\"data row2 col0\" >279.4453</td>\n                        <td id=\"T_7551e_row2_col1\" class=\"data row2 col1\" >298077.3450</td>\n                        <td id=\"T_7551e_row2_col2\" class=\"data row2 col2\" >545.9646</td>\n                        <td id=\"T_7551e_row2_col3\" class=\"data row2 col3\" >0.9801</td>\n                        <td id=\"T_7551e_row2_col4\" class=\"data row2 col4\" >0.0968</td>\n                        <td id=\"T_7551e_row2_col5\" class=\"data row2 col5\" >0.0738</td>\n            </tr>\n            <tr>\n                        <th id=\"T_7551e_level0_row3\" class=\"row_heading level0 row3\" >3</th>\n                        <td id=\"T_7551e_row3_col0\" class=\"data row3 col0\" >281.3264</td>\n                        <td id=\"T_7551e_row3_col1\" class=\"data row3 col1\" >317670.9620</td>\n                        <td id=\"T_7551e_row3_col2\" class=\"data row3 col2\" >563.6231</td>\n                        <td id=\"T_7551e_row3_col3\" class=\"data row3 col3\" >0.9787</td>\n                        <td id=\"T_7551e_row3_col4\" class=\"data row3 col4\" >0.1014</td>\n                        <td id=\"T_7551e_row3_col5\" class=\"data row3 col5\" >0.0765</td>\n            </tr>\n            <tr>\n                        <th id=\"T_7551e_level0_row4\" class=\"row_heading level0 row4\" >4</th>\n                        <td id=\"T_7551e_row4_col0\" class=\"data row4 col0\" >275.8417</td>\n                        <td id=\"T_7551e_row4_col1\" class=\"data row4 col1\" >278639.9605</td>\n                        <td id=\"T_7551e_row4_col2\" class=\"data row4 col2\" >527.8636</td>\n                        <td id=\"T_7551e_row4_col3\" class=\"data row4 col3\" >0.9832</td>\n                        <td id=\"T_7551e_row4_col4\" class=\"data row4 col4\" >0.1000</td>\n                        <td id=\"T_7551e_row4_col5\" class=\"data row4 col5\" >0.0751</td>\n            </tr>\n            <tr>\n                        <th id=\"T_7551e_level0_row5\" class=\"row_heading level0 row5\" >5</th>\n                        <td id=\"T_7551e_row5_col0\" class=\"data row5 col0\" >280.2617</td>\n                        <td id=\"T_7551e_row5_col1\" class=\"data row5 col1\" >295994.6314</td>\n                        <td id=\"T_7551e_row5_col2\" class=\"data row5 col2\" >544.0539</td>\n                        <td id=\"T_7551e_row5_col3\" class=\"data row5 col3\" >0.9811</td>\n                        <td id=\"T_7551e_row5_col4\" class=\"data row5 col4\" >0.0956</td>\n                        <td id=\"T_7551e_row5_col5\" class=\"data row5 col5\" >0.0731</td>\n            </tr>\n            <tr>\n                        <th id=\"T_7551e_level0_row6\" class=\"row_heading level0 row6\" >6</th>\n                        <td id=\"T_7551e_row6_col0\" class=\"data row6 col0\" >270.4561</td>\n                        <td id=\"T_7551e_row6_col1\" class=\"data row6 col1\" >298332.1397</td>\n                        <td id=\"T_7551e_row6_col2\" class=\"data row6 col2\" >546.1979</td>\n                        <td id=\"T_7551e_row6_col3\" class=\"data row6 col3\" >0.9793</td>\n                        <td id=\"T_7551e_row6_col4\" class=\"data row6 col4\" >0.1004</td>\n                        <td id=\"T_7551e_row6_col5\" class=\"data row6 col5\" >0.0752</td>\n            </tr>\n            <tr>\n                        <th id=\"T_7551e_level0_row7\" class=\"row_heading level0 row7\" >7</th>\n                        <td id=\"T_7551e_row7_col0\" class=\"data row7 col0\" >290.2205</td>\n                        <td id=\"T_7551e_row7_col1\" class=\"data row7 col1\" >362717.0324</td>\n                        <td id=\"T_7551e_row7_col2\" class=\"data row7 col2\" >602.2599</td>\n                        <td id=\"T_7551e_row7_col3\" class=\"data row7 col3\" >0.9781</td>\n                        <td id=\"T_7551e_row7_col4\" class=\"data row7 col4\" >0.1013</td>\n                        <td id=\"T_7551e_row7_col5\" class=\"data row7 col5\" >0.0757</td>\n            </tr>\n            <tr>\n                        <th id=\"T_7551e_level0_row8\" class=\"row_heading level0 row8\" >8</th>\n                        <td id=\"T_7551e_row8_col0\" class=\"data row8 col0\" >266.2466</td>\n                        <td id=\"T_7551e_row8_col1\" class=\"data row8 col1\" >253932.5396</td>\n                        <td id=\"T_7551e_row8_col2\" class=\"data row8 col2\" >503.9172</td>\n                        <td id=\"T_7551e_row8_col3\" class=\"data row8 col3\" >0.9841</td>\n                        <td id=\"T_7551e_row8_col4\" class=\"data row8 col4\" >0.0939</td>\n                        <td id=\"T_7551e_row8_col5\" class=\"data row8 col5\" >0.0717</td>\n            </tr>\n            <tr>\n                        <th id=\"T_7551e_level0_row9\" class=\"row_heading level0 row9\" >9</th>\n                        <td id=\"T_7551e_row9_col0\" class=\"data row9 col0\" >272.7726</td>\n                        <td id=\"T_7551e_row9_col1\" class=\"data row9 col1\" >293194.6740</td>\n                        <td id=\"T_7551e_row9_col2\" class=\"data row9 col2\" >541.4745</td>\n                        <td id=\"T_7551e_row9_col3\" class=\"data row9 col3\" >0.9808</td>\n                        <td id=\"T_7551e_row9_col4\" class=\"data row9 col4\" >0.0990</td>\n                        <td id=\"T_7551e_row9_col5\" class=\"data row9 col5\" >0.0747</td>\n            </tr>\n            <tr>\n                        <th id=\"T_7551e_level0_row10\" class=\"row_heading level0 row10\" >Mean</th>\n                        <td id=\"T_7551e_row10_col0\" class=\"data row10 col0\" >281.6168</td>\n                        <td id=\"T_7551e_row10_col1\" class=\"data row10 col1\" >307350.8040</td>\n                        <td id=\"T_7551e_row10_col2\" class=\"data row10 col2\" >553.7013</td>\n                        <td id=\"T_7551e_row10_col3\" class=\"data row10 col3\" >0.9806</td>\n                        <td id=\"T_7551e_row10_col4\" class=\"data row10 col4\" >0.0987</td>\n                        <td id=\"T_7551e_row10_col5\" class=\"data row10 col5\" >0.0748</td>\n            </tr>\n            <tr>\n                        <th id=\"T_7551e_level0_row11\" class=\"row_heading level0 row11\" >SD</th>\n                        <td id=\"T_7551e_row11_col0\" class=\"data row11 col0\" >11.0587</td>\n                        <td id=\"T_7551e_row11_col1\" class=\"data row11 col1\" >30762.3866</td>\n                        <td id=\"T_7551e_row11_col2\" class=\"data row11 col2\" >27.6708</td>\n                        <td id=\"T_7551e_row11_col3\" class=\"data row11 col3\" >0.0018</td>\n                        <td id=\"T_7551e_row11_col4\" class=\"data row11 col4\" >0.0023</td>\n                        <td id=\"T_7551e_row11_col5\" class=\"data row11 col5\" >0.0014</td>\n            </tr>\n    </tbody></table>"
     },
     "metadata": {}
    }
   ],
   "source": [
    "tuned_lightgbm2 = tune_model(lightgbm2, custom_grid = lgbm_params)"
   ]
  },
  {
   "cell_type": "code",
   "execution_count": 23,
   "metadata": {},
   "outputs": [
    {
     "output_type": "display_data",
     "data": {
      "text/plain": "interactive(children=(ToggleButtons(description='Plot Type:', icons=('',), options=(('Hyperparameters', 'param…",
      "application/vnd.jupyter.widget-view+json": {
       "version_major": 2,
       "version_minor": 0,
       "model_id": "383c3dd107b3471498c5c82184d7d7d3"
      }
     },
     "metadata": {}
    }
   ],
   "source": [
    "evaluate_model(tuned_lightgbm)"
   ]
  },
  {
   "cell_type": "code",
   "execution_count": 25,
   "metadata": {},
   "outputs": [
    {
     "output_type": "display_data",
     "data": {
      "text/plain": "<pandas.io.formats.style.Styler at 0x1449da490>",
      "text/html": "<style  type=\"text/css\" >\n</style><table id=\"T_34b24_\" ><thead>    <tr>        <th class=\"blank level0\" ></th>        <th class=\"col_heading level0 col0\" >Model</th>        <th class=\"col_heading level0 col1\" >MAE</th>        <th class=\"col_heading level0 col2\" >MSE</th>        <th class=\"col_heading level0 col3\" >RMSE</th>        <th class=\"col_heading level0 col4\" >R2</th>        <th class=\"col_heading level0 col5\" >RMSLE</th>        <th class=\"col_heading level0 col6\" >MAPE</th>    </tr></thead><tbody>\n                <tr>\n                        <th id=\"T_34b24_level0_row0\" class=\"row_heading level0 row0\" >0</th>\n                        <td id=\"T_34b24_row0_col0\" class=\"data row0 col0\" >Light Gradient Boosting Machine</td>\n                        <td id=\"T_34b24_row0_col1\" class=\"data row0 col1\" >278.0460</td>\n                        <td id=\"T_34b24_row0_col2\" class=\"data row0 col2\" >313369.1271</td>\n                        <td id=\"T_34b24_row0_col3\" class=\"data row0 col3\" >559.7938</td>\n                        <td id=\"T_34b24_row0_col4\" class=\"data row0 col4\" >0.9802</td>\n                        <td id=\"T_34b24_row0_col5\" class=\"data row0 col5\" >0.0989</td>\n                        <td id=\"T_34b24_row0_col6\" class=\"data row0 col6\" >0.0744</td>\n            </tr>\n    </tbody></table>"
     },
     "metadata": {}
    },
    {
     "output_type": "execute_result",
     "data": {
      "text/plain": [
       "       carat      depth      table     x     y     z  shape_ratio  cut_0  \\\n",
       "0       0.34  62.500000  57.000000  4.49  4.47  2.80     0.912000    0.0   \n",
       "1       0.71  58.099998  58.000000  5.92  5.88  3.43     0.998279    0.0   \n",
       "2       0.50  61.599998  56.000000  5.08  5.11  3.14     0.909091    0.0   \n",
       "3       0.38  58.900002  58.000000  4.69  4.81  2.80     0.984720    0.0   \n",
       "4       0.34  62.700001  55.000000  4.49  4.48  2.81     0.877193    0.0   \n",
       "...      ...        ...        ...   ...   ...   ...          ...    ...   \n",
       "12099   1.22  62.200001  56.000000  6.84  6.89  4.27     0.900322    0.0   \n",
       "12100   0.92  58.700001  61.000000  6.34  6.43  3.75     1.039182    0.0   \n",
       "12101   0.90  61.900002  55.000000  6.21  6.19  3.84     0.888530    0.0   \n",
       "12102   0.56  61.799999  54.099998  5.31  5.34  3.29     0.875405    0.0   \n",
       "12103   0.27  61.700001  57.000000  4.15  4.18  2.57     0.923825    0.0   \n",
       "\n",
       "       cut_1  cut_2  ...  clarity_0  clarity_1  clarity_2  clarity_3  \\\n",
       "0        0.0    0.0  ...        1.0        0.0        0.0        0.0   \n",
       "1        0.0    0.0  ...        0.0        0.0        0.0        0.0   \n",
       "2        0.0    0.0  ...        0.0        0.0        0.0        0.0   \n",
       "3        0.0    0.0  ...        0.0        0.0        0.0        0.0   \n",
       "4        0.0    0.0  ...        0.0        0.0        0.0        1.0   \n",
       "...      ...    ...  ...        ...        ...        ...        ...   \n",
       "12099    0.0    0.0  ...        0.0        0.0        1.0        0.0   \n",
       "12100    0.0    1.0  ...        0.0        1.0        0.0        0.0   \n",
       "12101    0.0    0.0  ...        0.0        1.0        0.0        0.0   \n",
       "12102    0.0    1.0  ...        0.0        0.0        0.0        1.0   \n",
       "12103    0.0    0.0  ...        0.0        0.0        0.0        0.0   \n",
       "\n",
       "       clarity_4  clarity_5  clarity_6  clarity_7   price        Label  \n",
       "0            0.0        0.0        0.0        0.0   530.0   522.877057  \n",
       "1            0.0        0.0        1.0        0.0  3347.0  3554.680419  \n",
       "2            0.0        1.0        0.0        0.0  2052.0  2083.461957  \n",
       "3            0.0        0.0        0.0        1.0  1064.0  1035.359528  \n",
       "4            0.0        0.0        0.0        0.0   765.0   723.979566  \n",
       "...          ...        ...        ...        ...     ...          ...  \n",
       "12099        0.0        0.0        0.0        0.0  6541.0  6612.299797  \n",
       "12100        0.0        0.0        0.0        0.0  2880.0  3121.794546  \n",
       "12101        0.0        0.0        0.0        0.0  4101.0  3679.027892  \n",
       "12102        0.0        0.0        0.0        0.0  1576.0  1517.285227  \n",
       "12103        1.0        0.0        0.0        0.0   577.0   550.555887  \n",
       "\n",
       "[12104 rows x 29 columns]"
      ],
      "text/html": "<div>\n<style scoped>\n    .dataframe tbody tr th:only-of-type {\n        vertical-align: middle;\n    }\n\n    .dataframe tbody tr th {\n        vertical-align: top;\n    }\n\n    .dataframe thead th {\n        text-align: right;\n    }\n</style>\n<table border=\"1\" class=\"dataframe\">\n  <thead>\n    <tr style=\"text-align: right;\">\n      <th></th>\n      <th>carat</th>\n      <th>depth</th>\n      <th>table</th>\n      <th>x</th>\n      <th>y</th>\n      <th>z</th>\n      <th>shape_ratio</th>\n      <th>cut_0</th>\n      <th>cut_1</th>\n      <th>cut_2</th>\n      <th>...</th>\n      <th>clarity_0</th>\n      <th>clarity_1</th>\n      <th>clarity_2</th>\n      <th>clarity_3</th>\n      <th>clarity_4</th>\n      <th>clarity_5</th>\n      <th>clarity_6</th>\n      <th>clarity_7</th>\n      <th>price</th>\n      <th>Label</th>\n    </tr>\n  </thead>\n  <tbody>\n    <tr>\n      <th>0</th>\n      <td>0.34</td>\n      <td>62.500000</td>\n      <td>57.000000</td>\n      <td>4.49</td>\n      <td>4.47</td>\n      <td>2.80</td>\n      <td>0.912000</td>\n      <td>0.0</td>\n      <td>0.0</td>\n      <td>0.0</td>\n      <td>...</td>\n      <td>1.0</td>\n      <td>0.0</td>\n      <td>0.0</td>\n      <td>0.0</td>\n      <td>0.0</td>\n      <td>0.0</td>\n      <td>0.0</td>\n      <td>0.0</td>\n      <td>530.0</td>\n      <td>522.877057</td>\n    </tr>\n    <tr>\n      <th>1</th>\n      <td>0.71</td>\n      <td>58.099998</td>\n      <td>58.000000</td>\n      <td>5.92</td>\n      <td>5.88</td>\n      <td>3.43</td>\n      <td>0.998279</td>\n      <td>0.0</td>\n      <td>0.0</td>\n      <td>0.0</td>\n      <td>...</td>\n      <td>0.0</td>\n      <td>0.0</td>\n      <td>0.0</td>\n      <td>0.0</td>\n      <td>0.0</td>\n      <td>0.0</td>\n      <td>1.0</td>\n      <td>0.0</td>\n      <td>3347.0</td>\n      <td>3554.680419</td>\n    </tr>\n    <tr>\n      <th>2</th>\n      <td>0.50</td>\n      <td>61.599998</td>\n      <td>56.000000</td>\n      <td>5.08</td>\n      <td>5.11</td>\n      <td>3.14</td>\n      <td>0.909091</td>\n      <td>0.0</td>\n      <td>0.0</td>\n      <td>0.0</td>\n      <td>...</td>\n      <td>0.0</td>\n      <td>0.0</td>\n      <td>0.0</td>\n      <td>0.0</td>\n      <td>0.0</td>\n      <td>1.0</td>\n      <td>0.0</td>\n      <td>0.0</td>\n      <td>2052.0</td>\n      <td>2083.461957</td>\n    </tr>\n    <tr>\n      <th>3</th>\n      <td>0.38</td>\n      <td>58.900002</td>\n      <td>58.000000</td>\n      <td>4.69</td>\n      <td>4.81</td>\n      <td>2.80</td>\n      <td>0.984720</td>\n      <td>0.0</td>\n      <td>0.0</td>\n      <td>0.0</td>\n      <td>...</td>\n      <td>0.0</td>\n      <td>0.0</td>\n      <td>0.0</td>\n      <td>0.0</td>\n      <td>0.0</td>\n      <td>0.0</td>\n      <td>0.0</td>\n      <td>1.0</td>\n      <td>1064.0</td>\n      <td>1035.359528</td>\n    </tr>\n    <tr>\n      <th>4</th>\n      <td>0.34</td>\n      <td>62.700001</td>\n      <td>55.000000</td>\n      <td>4.49</td>\n      <td>4.48</td>\n      <td>2.81</td>\n      <td>0.877193</td>\n      <td>0.0</td>\n      <td>0.0</td>\n      <td>0.0</td>\n      <td>...</td>\n      <td>0.0</td>\n      <td>0.0</td>\n      <td>0.0</td>\n      <td>1.0</td>\n      <td>0.0</td>\n      <td>0.0</td>\n      <td>0.0</td>\n      <td>0.0</td>\n      <td>765.0</td>\n      <td>723.979566</td>\n    </tr>\n    <tr>\n      <th>...</th>\n      <td>...</td>\n      <td>...</td>\n      <td>...</td>\n      <td>...</td>\n      <td>...</td>\n      <td>...</td>\n      <td>...</td>\n      <td>...</td>\n      <td>...</td>\n      <td>...</td>\n      <td>...</td>\n      <td>...</td>\n      <td>...</td>\n      <td>...</td>\n      <td>...</td>\n      <td>...</td>\n      <td>...</td>\n      <td>...</td>\n      <td>...</td>\n      <td>...</td>\n      <td>...</td>\n    </tr>\n    <tr>\n      <th>12099</th>\n      <td>1.22</td>\n      <td>62.200001</td>\n      <td>56.000000</td>\n      <td>6.84</td>\n      <td>6.89</td>\n      <td>4.27</td>\n      <td>0.900322</td>\n      <td>0.0</td>\n      <td>0.0</td>\n      <td>0.0</td>\n      <td>...</td>\n      <td>0.0</td>\n      <td>0.0</td>\n      <td>1.0</td>\n      <td>0.0</td>\n      <td>0.0</td>\n      <td>0.0</td>\n      <td>0.0</td>\n      <td>0.0</td>\n      <td>6541.0</td>\n      <td>6612.299797</td>\n    </tr>\n    <tr>\n      <th>12100</th>\n      <td>0.92</td>\n      <td>58.700001</td>\n      <td>61.000000</td>\n      <td>6.34</td>\n      <td>6.43</td>\n      <td>3.75</td>\n      <td>1.039182</td>\n      <td>0.0</td>\n      <td>0.0</td>\n      <td>1.0</td>\n      <td>...</td>\n      <td>0.0</td>\n      <td>1.0</td>\n      <td>0.0</td>\n      <td>0.0</td>\n      <td>0.0</td>\n      <td>0.0</td>\n      <td>0.0</td>\n      <td>0.0</td>\n      <td>2880.0</td>\n      <td>3121.794546</td>\n    </tr>\n    <tr>\n      <th>12101</th>\n      <td>0.90</td>\n      <td>61.900002</td>\n      <td>55.000000</td>\n      <td>6.21</td>\n      <td>6.19</td>\n      <td>3.84</td>\n      <td>0.888530</td>\n      <td>0.0</td>\n      <td>0.0</td>\n      <td>0.0</td>\n      <td>...</td>\n      <td>0.0</td>\n      <td>1.0</td>\n      <td>0.0</td>\n      <td>0.0</td>\n      <td>0.0</td>\n      <td>0.0</td>\n      <td>0.0</td>\n      <td>0.0</td>\n      <td>4101.0</td>\n      <td>3679.027892</td>\n    </tr>\n    <tr>\n      <th>12102</th>\n      <td>0.56</td>\n      <td>61.799999</td>\n      <td>54.099998</td>\n      <td>5.31</td>\n      <td>5.34</td>\n      <td>3.29</td>\n      <td>0.875405</td>\n      <td>0.0</td>\n      <td>0.0</td>\n      <td>1.0</td>\n      <td>...</td>\n      <td>0.0</td>\n      <td>0.0</td>\n      <td>0.0</td>\n      <td>1.0</td>\n      <td>0.0</td>\n      <td>0.0</td>\n      <td>0.0</td>\n      <td>0.0</td>\n      <td>1576.0</td>\n      <td>1517.285227</td>\n    </tr>\n    <tr>\n      <th>12103</th>\n      <td>0.27</td>\n      <td>61.700001</td>\n      <td>57.000000</td>\n      <td>4.15</td>\n      <td>4.18</td>\n      <td>2.57</td>\n      <td>0.923825</td>\n      <td>0.0</td>\n      <td>0.0</td>\n      <td>0.0</td>\n      <td>...</td>\n      <td>0.0</td>\n      <td>0.0</td>\n      <td>0.0</td>\n      <td>0.0</td>\n      <td>1.0</td>\n      <td>0.0</td>\n      <td>0.0</td>\n      <td>0.0</td>\n      <td>577.0</td>\n      <td>550.555887</td>\n    </tr>\n  </tbody>\n</table>\n<p>12104 rows × 29 columns</p>\n</div>"
     },
     "metadata": {},
     "execution_count": 25
    }
   ],
   "source": [
    "predict_model(tuned_lightgbm2)"
   ]
  },
  {
   "cell_type": "code",
   "execution_count": 27,
   "metadata": {},
   "outputs": [],
   "source": [
    "final_lightgbm2 = finalize_model(tuned_lightgbm2)"
   ]
  },
  {
   "cell_type": "code",
   "execution_count": 28,
   "metadata": {},
   "outputs": [
    {
     "output_type": "stream",
     "name": "stdout",
     "text": [
      "Transformation Pipeline and Model Succesfully Saved\n"
     ]
    },
    {
     "output_type": "execute_result",
     "data": {
      "text/plain": [
       "(Pipeline(memory=None,\n",
       "          steps=[('dtypes',\n",
       "                  DataTypes_Auto_infer(categorical_features=[],\n",
       "                                       display_types=True, features_todrop=[],\n",
       "                                       id_columns=['Unnamed: 0'],\n",
       "                                       ml_usecase='regression',\n",
       "                                       numerical_features=[], target='price',\n",
       "                                       time_features=[])),\n",
       "                 ('imputer',\n",
       "                  Simple_Imputer(categorical_strategy='not_available',\n",
       "                                 fill_value_categorical=None,\n",
       "                                 fill_value_numerical=None,\n",
       "                                 numeric...\n",
       "                  LGBMRegressor(boosting_type='gbdt', class_weight=None,\n",
       "                                colsample_bytree=1.0, importance_type='split',\n",
       "                                learning_rate=0.1, max_depth=90,\n",
       "                                min_child_samples=20, min_child_weight=0.001,\n",
       "                                min_split_gain=0.0, n_estimators=100, n_jobs=-1,\n",
       "                                num_leaves=110, objective=None,\n",
       "                                random_state=7632, reg_alpha=0.0, reg_lambda=0.0,\n",
       "                                silent=True, subsample=1.0,\n",
       "                                subsample_for_bin=200000, subsample_freq=0)]],\n",
       "          verbose=False),\n",
       " 'Final lightgbm2 Model 19Jun2021.pkl')"
      ]
     },
     "metadata": {},
     "execution_count": 28
    }
   ],
   "source": [
    "save_model(final_lightgbm2,'Final lightgbm2 Model 19Jun2021')"
   ]
  },
  {
   "cell_type": "code",
   "execution_count": 32,
   "metadata": {},
   "outputs": [
    {
     "output_type": "execute_result",
     "data": {
      "text/plain": [
       "   Unnamed: 0  carat  cut  color  clarity  depth  table     x     y     z  \\\n",
       "0           0   0.30    4      2        1   60.0   56.0  4.41  4.43  2.65   \n",
       "1           1   0.34    4      6        7   62.1   57.0  4.52  4.46  2.79   \n",
       "2           2   1.57    2      1        3   60.3   58.0  7.58  7.55  4.56   \n",
       "3           3   0.31    4      2        3   61.8   57.0  4.32  4.36  2.68   \n",
       "4           4   1.51    1      1        6   64.0   60.0  7.26  7.21  4.63   \n",
       "\n",
       "   shape_ratio         Label  \n",
       "0     0.933333    457.673413  \n",
       "1     0.917874   1803.326939  \n",
       "2     0.961857   9227.285520  \n",
       "3     0.922330    570.923453  \n",
       "4     0.937500  10021.526522  "
      ],
      "text/html": "<div>\n<style scoped>\n    .dataframe tbody tr th:only-of-type {\n        vertical-align: middle;\n    }\n\n    .dataframe tbody tr th {\n        vertical-align: top;\n    }\n\n    .dataframe thead th {\n        text-align: right;\n    }\n</style>\n<table border=\"1\" class=\"dataframe\">\n  <thead>\n    <tr style=\"text-align: right;\">\n      <th></th>\n      <th>Unnamed: 0</th>\n      <th>carat</th>\n      <th>cut</th>\n      <th>color</th>\n      <th>clarity</th>\n      <th>depth</th>\n      <th>table</th>\n      <th>x</th>\n      <th>y</th>\n      <th>z</th>\n      <th>shape_ratio</th>\n      <th>Label</th>\n    </tr>\n  </thead>\n  <tbody>\n    <tr>\n      <th>0</th>\n      <td>0</td>\n      <td>0.30</td>\n      <td>4</td>\n      <td>2</td>\n      <td>1</td>\n      <td>60.0</td>\n      <td>56.0</td>\n      <td>4.41</td>\n      <td>4.43</td>\n      <td>2.65</td>\n      <td>0.933333</td>\n      <td>457.673413</td>\n    </tr>\n    <tr>\n      <th>1</th>\n      <td>1</td>\n      <td>0.34</td>\n      <td>4</td>\n      <td>6</td>\n      <td>7</td>\n      <td>62.1</td>\n      <td>57.0</td>\n      <td>4.52</td>\n      <td>4.46</td>\n      <td>2.79</td>\n      <td>0.917874</td>\n      <td>1803.326939</td>\n    </tr>\n    <tr>\n      <th>2</th>\n      <td>2</td>\n      <td>1.57</td>\n      <td>2</td>\n      <td>1</td>\n      <td>3</td>\n      <td>60.3</td>\n      <td>58.0</td>\n      <td>7.58</td>\n      <td>7.55</td>\n      <td>4.56</td>\n      <td>0.961857</td>\n      <td>9227.285520</td>\n    </tr>\n    <tr>\n      <th>3</th>\n      <td>3</td>\n      <td>0.31</td>\n      <td>4</td>\n      <td>2</td>\n      <td>3</td>\n      <td>61.8</td>\n      <td>57.0</td>\n      <td>4.32</td>\n      <td>4.36</td>\n      <td>2.68</td>\n      <td>0.922330</td>\n      <td>570.923453</td>\n    </tr>\n    <tr>\n      <th>4</th>\n      <td>4</td>\n      <td>1.51</td>\n      <td>1</td>\n      <td>1</td>\n      <td>6</td>\n      <td>64.0</td>\n      <td>60.0</td>\n      <td>7.26</td>\n      <td>7.21</td>\n      <td>4.63</td>\n      <td>0.937500</td>\n      <td>10021.526522</td>\n    </tr>\n  </tbody>\n</table>\n</div>"
     },
     "metadata": {},
     "execution_count": 32
    }
   ],
   "source": [
    "unseen_predictions = predict_model(final_lightgbm2, data=data_pred_modified)\n",
    "unseen_predictions.head()"
   ]
  },
  {
   "cell_type": "code",
   "execution_count": 51,
   "metadata": {},
   "outputs": [
    {
     "output_type": "stream",
     "name": "stdout",
     "text": [
      "You're ready to submit!\n"
     ]
    }
   ],
   "source": [
    "respuesta3 = unseen_predictions['Label'].values\n",
    "submission3 = pd.DataFrame({\"id\": range(len(respuesta3)), \"price\": respuesta3})\n",
    "chequeator(submission3, sample)\n",
    "submission3.to_csv('resultado_3.csv', index=False)"
   ]
  },
  {
   "cell_type": "code",
   "execution_count": null,
   "metadata": {},
   "outputs": [],
   "source": []
  },
  {
   "cell_type": "code",
   "execution_count": null,
   "metadata": {},
   "outputs": [],
   "source": []
  },
  {
   "cell_type": "code",
   "execution_count": null,
   "metadata": {},
   "outputs": [],
   "source": []
  },
  {
   "cell_type": "code",
   "execution_count": null,
   "metadata": {},
   "outputs": [],
   "source": []
  },
  {
   "cell_type": "code",
   "execution_count": 45,
   "metadata": {},
   "outputs": [
    {
     "output_type": "display_data",
     "data": {
      "text/plain": "<pandas.io.formats.style.Styler at 0x148970e90>",
      "text/html": "<style  type=\"text/css\" >\n#T_0cc67_row10_col0,#T_0cc67_row10_col1,#T_0cc67_row10_col2,#T_0cc67_row10_col3,#T_0cc67_row10_col4,#T_0cc67_row10_col5{\n            background:  yellow;\n        }</style><table id=\"T_0cc67_\" ><thead>    <tr>        <th class=\"blank level0\" ></th>        <th class=\"col_heading level0 col0\" >MAE</th>        <th class=\"col_heading level0 col1\" >MSE</th>        <th class=\"col_heading level0 col2\" >RMSE</th>        <th class=\"col_heading level0 col3\" >R2</th>        <th class=\"col_heading level0 col4\" >RMSLE</th>        <th class=\"col_heading level0 col5\" >MAPE</th>    </tr></thead><tbody>\n                <tr>\n                        <th id=\"T_0cc67_level0_row0\" class=\"row_heading level0 row0\" >0</th>\n                        <td id=\"T_0cc67_row0_col0\" class=\"data row0 col0\" >298.2854</td>\n                        <td id=\"T_0cc67_row0_col1\" class=\"data row0 col1\" >314751.0691</td>\n                        <td id=\"T_0cc67_row0_col2\" class=\"data row0 col2\" >561.0268</td>\n                        <td id=\"T_0cc67_row0_col3\" class=\"data row0 col3\" >0.9813</td>\n                        <td id=\"T_0cc67_row0_col4\" class=\"data row0 col4\" >0.1063</td>\n                        <td id=\"T_0cc67_row0_col5\" class=\"data row0 col5\" >0.0827</td>\n            </tr>\n            <tr>\n                        <th id=\"T_0cc67_level0_row1\" class=\"row_heading level0 row1\" >1</th>\n                        <td id=\"T_0cc67_row1_col0\" class=\"data row1 col0\" >302.5005</td>\n                        <td id=\"T_0cc67_row1_col1\" class=\"data row1 col1\" >316350.1803</td>\n                        <td id=\"T_0cc67_row1_col2\" class=\"data row1 col2\" >562.4502</td>\n                        <td id=\"T_0cc67_row1_col3\" class=\"data row1 col3\" >0.9817</td>\n                        <td id=\"T_0cc67_row1_col4\" class=\"data row1 col4\" >0.1085</td>\n                        <td id=\"T_0cc67_row1_col5\" class=\"data row1 col5\" >0.0833</td>\n            </tr>\n            <tr>\n                        <th id=\"T_0cc67_level0_row2\" class=\"row_heading level0 row2\" >2</th>\n                        <td id=\"T_0cc67_row2_col0\" class=\"data row2 col0\" >279.6268</td>\n                        <td id=\"T_0cc67_row2_col1\" class=\"data row2 col1\" >278953.1907</td>\n                        <td id=\"T_0cc67_row2_col2\" class=\"data row2 col2\" >528.1602</td>\n                        <td id=\"T_0cc67_row2_col3\" class=\"data row2 col3\" >0.9813</td>\n                        <td id=\"T_0cc67_row2_col4\" class=\"data row2 col4\" >0.1050</td>\n                        <td id=\"T_0cc67_row2_col5\" class=\"data row2 col5\" >0.0817</td>\n            </tr>\n            <tr>\n                        <th id=\"T_0cc67_level0_row3\" class=\"row_heading level0 row3\" >3</th>\n                        <td id=\"T_0cc67_row3_col0\" class=\"data row3 col0\" >277.8250</td>\n                        <td id=\"T_0cc67_row3_col1\" class=\"data row3 col1\" >294303.5833</td>\n                        <td id=\"T_0cc67_row3_col2\" class=\"data row3 col2\" >542.4975</td>\n                        <td id=\"T_0cc67_row3_col3\" class=\"data row3 col3\" >0.9803</td>\n                        <td id=\"T_0cc67_row3_col4\" class=\"data row3 col4\" >0.1084</td>\n                        <td id=\"T_0cc67_row3_col5\" class=\"data row3 col5\" >0.0834</td>\n            </tr>\n            <tr>\n                        <th id=\"T_0cc67_level0_row4\" class=\"row_heading level0 row4\" >4</th>\n                        <td id=\"T_0cc67_row4_col0\" class=\"data row4 col0\" >279.8434</td>\n                        <td id=\"T_0cc67_row4_col1\" class=\"data row4 col1\" >266478.8198</td>\n                        <td id=\"T_0cc67_row4_col2\" class=\"data row4 col2\" >516.2159</td>\n                        <td id=\"T_0cc67_row4_col3\" class=\"data row4 col3\" >0.9840</td>\n                        <td id=\"T_0cc67_row4_col4\" class=\"data row4 col4\" >0.1090</td>\n                        <td id=\"T_0cc67_row4_col5\" class=\"data row4 col5\" >0.0831</td>\n            </tr>\n            <tr>\n                        <th id=\"T_0cc67_level0_row5\" class=\"row_heading level0 row5\" >5</th>\n                        <td id=\"T_0cc67_row5_col0\" class=\"data row5 col0\" >282.0840</td>\n                        <td id=\"T_0cc67_row5_col1\" class=\"data row5 col1\" >282551.9714</td>\n                        <td id=\"T_0cc67_row5_col2\" class=\"data row5 col2\" >531.5562</td>\n                        <td id=\"T_0cc67_row5_col3\" class=\"data row5 col3\" >0.9820</td>\n                        <td id=\"T_0cc67_row5_col4\" class=\"data row5 col4\" >0.1036</td>\n                        <td id=\"T_0cc67_row5_col5\" class=\"data row5 col5\" >0.0805</td>\n            </tr>\n            <tr>\n                        <th id=\"T_0cc67_level0_row6\" class=\"row_heading level0 row6\" >6</th>\n                        <td id=\"T_0cc67_row6_col0\" class=\"data row6 col0\" >275.8587</td>\n                        <td id=\"T_0cc67_row6_col1\" class=\"data row6 col1\" >291034.2123</td>\n                        <td id=\"T_0cc67_row6_col2\" class=\"data row6 col2\" >539.4759</td>\n                        <td id=\"T_0cc67_row6_col3\" class=\"data row6 col3\" >0.9798</td>\n                        <td id=\"T_0cc67_row6_col4\" class=\"data row6 col4\" >0.1128</td>\n                        <td id=\"T_0cc67_row6_col5\" class=\"data row6 col5\" >0.0844</td>\n            </tr>\n            <tr>\n                        <th id=\"T_0cc67_level0_row7\" class=\"row_heading level0 row7\" >7</th>\n                        <td id=\"T_0cc67_row7_col0\" class=\"data row7 col0\" >301.0756</td>\n                        <td id=\"T_0cc67_row7_col1\" class=\"data row7 col1\" >366116.3880</td>\n                        <td id=\"T_0cc67_row7_col2\" class=\"data row7 col2\" >605.0755</td>\n                        <td id=\"T_0cc67_row7_col3\" class=\"data row7 col3\" >0.9779</td>\n                        <td id=\"T_0cc67_row7_col4\" class=\"data row7 col4\" >0.1112</td>\n                        <td id=\"T_0cc67_row7_col5\" class=\"data row7 col5\" >0.0848</td>\n            </tr>\n            <tr>\n                        <th id=\"T_0cc67_level0_row8\" class=\"row_heading level0 row8\" >8</th>\n                        <td id=\"T_0cc67_row8_col0\" class=\"data row8 col0\" >275.4558</td>\n                        <td id=\"T_0cc67_row8_col1\" class=\"data row8 col1\" >246908.6305</td>\n                        <td id=\"T_0cc67_row8_col2\" class=\"data row8 col2\" >496.8990</td>\n                        <td id=\"T_0cc67_row8_col3\" class=\"data row8 col3\" >0.9845</td>\n                        <td id=\"T_0cc67_row8_col4\" class=\"data row8 col4\" >0.1040</td>\n                        <td id=\"T_0cc67_row8_col5\" class=\"data row8 col5\" >0.0806</td>\n            </tr>\n            <tr>\n                        <th id=\"T_0cc67_level0_row9\" class=\"row_heading level0 row9\" >9</th>\n                        <td id=\"T_0cc67_row9_col0\" class=\"data row9 col0\" >274.2956</td>\n                        <td id=\"T_0cc67_row9_col1\" class=\"data row9 col1\" >279596.7688</td>\n                        <td id=\"T_0cc67_row9_col2\" class=\"data row9 col2\" >528.7691</td>\n                        <td id=\"T_0cc67_row9_col3\" class=\"data row9 col3\" >0.9817</td>\n                        <td id=\"T_0cc67_row9_col4\" class=\"data row9 col4\" >0.1072</td>\n                        <td id=\"T_0cc67_row9_col5\" class=\"data row9 col5\" >0.0821</td>\n            </tr>\n            <tr>\n                        <th id=\"T_0cc67_level0_row10\" class=\"row_heading level0 row10\" >Mean</th>\n                        <td id=\"T_0cc67_row10_col0\" class=\"data row10 col0\" >284.6851</td>\n                        <td id=\"T_0cc67_row10_col1\" class=\"data row10 col1\" >293704.4814</td>\n                        <td id=\"T_0cc67_row10_col2\" class=\"data row10 col2\" >541.2126</td>\n                        <td id=\"T_0cc67_row10_col3\" class=\"data row10 col3\" >0.9814</td>\n                        <td id=\"T_0cc67_row10_col4\" class=\"data row10 col4\" >0.1076</td>\n                        <td id=\"T_0cc67_row10_col5\" class=\"data row10 col5\" >0.0827</td>\n            </tr>\n            <tr>\n                        <th id=\"T_0cc67_level0_row11\" class=\"row_heading level0 row11\" >SD</th>\n                        <td id=\"T_0cc67_row11_col0\" class=\"data row11 col0\" >10.6999</td>\n                        <td id=\"T_0cc67_row11_col1\" class=\"data row11 col1\" >31110.8581</td>\n                        <td id=\"T_0cc67_row11_col2\" class=\"data row11 col2\" >28.1669</td>\n                        <td id=\"T_0cc67_row11_col3\" class=\"data row11 col3\" >0.0018</td>\n                        <td id=\"T_0cc67_row11_col4\" class=\"data row11 col4\" >0.0028</td>\n                        <td id=\"T_0cc67_row11_col5\" class=\"data row11 col5\" >0.0014</td>\n            </tr>\n    </tbody></table>"
     },
     "metadata": {}
    }
   ],
   "source": [
    "exp_reg104 = setup(data = data_modified, target = 'price', session_id=7632, numeric_features = ['cut', 'color', 'clarity'],)\n",
    "lightgbm4 = create_model('lightgbm')"
   ]
  },
  {
   "cell_type": "code",
   "execution_count": 46,
   "metadata": {},
   "outputs": [
    {
     "output_type": "display_data",
     "data": {
      "text/plain": "<pandas.io.formats.style.Styler at 0x148982850>",
      "text/html": "<style  type=\"text/css\" >\n#T_2ed2d_row10_col0,#T_2ed2d_row10_col1,#T_2ed2d_row10_col2,#T_2ed2d_row10_col3,#T_2ed2d_row10_col4,#T_2ed2d_row10_col5{\n            background:  yellow;\n        }</style><table id=\"T_2ed2d_\" ><thead>    <tr>        <th class=\"blank level0\" ></th>        <th class=\"col_heading level0 col0\" >MAE</th>        <th class=\"col_heading level0 col1\" >MSE</th>        <th class=\"col_heading level0 col2\" >RMSE</th>        <th class=\"col_heading level0 col3\" >R2</th>        <th class=\"col_heading level0 col4\" >RMSLE</th>        <th class=\"col_heading level0 col5\" >MAPE</th>    </tr></thead><tbody>\n                <tr>\n                        <th id=\"T_2ed2d_level0_row0\" class=\"row_heading level0 row0\" >0</th>\n                        <td id=\"T_2ed2d_row0_col0\" class=\"data row0 col0\" >287.6059</td>\n                        <td id=\"T_2ed2d_row0_col1\" class=\"data row0 col1\" >319172.6840</td>\n                        <td id=\"T_2ed2d_row0_col2\" class=\"data row0 col2\" >564.9537</td>\n                        <td id=\"T_2ed2d_row0_col3\" class=\"data row0 col3\" >0.9810</td>\n                        <td id=\"T_2ed2d_row0_col4\" class=\"data row0 col4\" >0.0961</td>\n                        <td id=\"T_2ed2d_row0_col5\" class=\"data row0 col5\" >0.0736</td>\n            </tr>\n            <tr>\n                        <th id=\"T_2ed2d_level0_row1\" class=\"row_heading level0 row1\" >1</th>\n                        <td id=\"T_2ed2d_row1_col0\" class=\"data row1 col0\" >293.3432</td>\n                        <td id=\"T_2ed2d_row1_col1\" class=\"data row1 col1\" >316836.8127</td>\n                        <td id=\"T_2ed2d_row1_col2\" class=\"data row1 col2\" >562.8826</td>\n                        <td id=\"T_2ed2d_row1_col3\" class=\"data row1 col3\" >0.9817</td>\n                        <td id=\"T_2ed2d_row1_col4\" class=\"data row1 col4\" >0.0963</td>\n                        <td id=\"T_2ed2d_row1_col5\" class=\"data row1 col5\" >0.0728</td>\n            </tr>\n            <tr>\n                        <th id=\"T_2ed2d_level0_row2\" class=\"row_heading level0 row2\" >2</th>\n                        <td id=\"T_2ed2d_row2_col0\" class=\"data row2 col0\" >274.6188</td>\n                        <td id=\"T_2ed2d_row2_col1\" class=\"data row2 col1\" >300802.3279</td>\n                        <td id=\"T_2ed2d_row2_col2\" class=\"data row2 col2\" >548.4545</td>\n                        <td id=\"T_2ed2d_row2_col3\" class=\"data row2 col3\" >0.9799</td>\n                        <td id=\"T_2ed2d_row2_col4\" class=\"data row2 col4\" >0.0950</td>\n                        <td id=\"T_2ed2d_row2_col5\" class=\"data row2 col5\" >0.0725</td>\n            </tr>\n            <tr>\n                        <th id=\"T_2ed2d_level0_row3\" class=\"row_heading level0 row3\" >3</th>\n                        <td id=\"T_2ed2d_row3_col0\" class=\"data row3 col0\" >269.6978</td>\n                        <td id=\"T_2ed2d_row3_col1\" class=\"data row3 col1\" >297426.3764</td>\n                        <td id=\"T_2ed2d_row3_col2\" class=\"data row3 col2\" >545.3681</td>\n                        <td id=\"T_2ed2d_row3_col3\" class=\"data row3 col3\" >0.9800</td>\n                        <td id=\"T_2ed2d_row3_col4\" class=\"data row3 col4\" >0.0970</td>\n                        <td id=\"T_2ed2d_row3_col5\" class=\"data row3 col5\" >0.0736</td>\n            </tr>\n            <tr>\n                        <th id=\"T_2ed2d_level0_row4\" class=\"row_heading level0 row4\" >4</th>\n                        <td id=\"T_2ed2d_row4_col0\" class=\"data row4 col0\" >269.9496</td>\n                        <td id=\"T_2ed2d_row4_col1\" class=\"data row4 col1\" >269435.6190</td>\n                        <td id=\"T_2ed2d_row4_col2\" class=\"data row4 col2\" >519.0719</td>\n                        <td id=\"T_2ed2d_row4_col3\" class=\"data row4 col3\" >0.9838</td>\n                        <td id=\"T_2ed2d_row4_col4\" class=\"data row4 col4\" >0.0976</td>\n                        <td id=\"T_2ed2d_row4_col5\" class=\"data row4 col5\" >0.0724</td>\n            </tr>\n            <tr>\n                        <th id=\"T_2ed2d_level0_row5\" class=\"row_heading level0 row5\" >5</th>\n                        <td id=\"T_2ed2d_row5_col0\" class=\"data row5 col0\" >275.2445</td>\n                        <td id=\"T_2ed2d_row5_col1\" class=\"data row5 col1\" >281965.8523</td>\n                        <td id=\"T_2ed2d_row5_col2\" class=\"data row5 col2\" >531.0046</td>\n                        <td id=\"T_2ed2d_row5_col3\" class=\"data row5 col3\" >0.9820</td>\n                        <td id=\"T_2ed2d_row5_col4\" class=\"data row5 col4\" >0.0925</td>\n                        <td id=\"T_2ed2d_row5_col5\" class=\"data row5 col5\" >0.0712</td>\n            </tr>\n            <tr>\n                        <th id=\"T_2ed2d_level0_row6\" class=\"row_heading level0 row6\" >6</th>\n                        <td id=\"T_2ed2d_row6_col0\" class=\"data row6 col0\" >267.8414</td>\n                        <td id=\"T_2ed2d_row6_col1\" class=\"data row6 col1\" >297861.2799</td>\n                        <td id=\"T_2ed2d_row6_col2\" class=\"data row6 col2\" >545.7667</td>\n                        <td id=\"T_2ed2d_row6_col3\" class=\"data row6 col3\" >0.9794</td>\n                        <td id=\"T_2ed2d_row6_col4\" class=\"data row6 col4\" >0.0983</td>\n                        <td id=\"T_2ed2d_row6_col5\" class=\"data row6 col5\" >0.0728</td>\n            </tr>\n            <tr>\n                        <th id=\"T_2ed2d_level0_row7\" class=\"row_heading level0 row7\" >7</th>\n                        <td id=\"T_2ed2d_row7_col0\" class=\"data row7 col0\" >288.2303</td>\n                        <td id=\"T_2ed2d_row7_col1\" class=\"data row7 col1\" >357264.6258</td>\n                        <td id=\"T_2ed2d_row7_col2\" class=\"data row7 col2\" >597.7162</td>\n                        <td id=\"T_2ed2d_row7_col3\" class=\"data row7 col3\" >0.9784</td>\n                        <td id=\"T_2ed2d_row7_col4\" class=\"data row7 col4\" >0.0999</td>\n                        <td id=\"T_2ed2d_row7_col5\" class=\"data row7 col5\" >0.0747</td>\n            </tr>\n            <tr>\n                        <th id=\"T_2ed2d_level0_row8\" class=\"row_heading level0 row8\" >8</th>\n                        <td id=\"T_2ed2d_row8_col0\" class=\"data row8 col0\" >262.5876</td>\n                        <td id=\"T_2ed2d_row8_col1\" class=\"data row8 col1\" >244725.6226</td>\n                        <td id=\"T_2ed2d_row8_col2\" class=\"data row8 col2\" >494.6975</td>\n                        <td id=\"T_2ed2d_row8_col3\" class=\"data row8 col3\" >0.9846</td>\n                        <td id=\"T_2ed2d_row8_col4\" class=\"data row8 col4\" >0.0931</td>\n                        <td id=\"T_2ed2d_row8_col5\" class=\"data row8 col5\" >0.0701</td>\n            </tr>\n            <tr>\n                        <th id=\"T_2ed2d_level0_row9\" class=\"row_heading level0 row9\" >9</th>\n                        <td id=\"T_2ed2d_row9_col0\" class=\"data row9 col0\" >265.3748</td>\n                        <td id=\"T_2ed2d_row9_col1\" class=\"data row9 col1\" >280458.1158</td>\n                        <td id=\"T_2ed2d_row9_col2\" class=\"data row9 col2\" >529.5830</td>\n                        <td id=\"T_2ed2d_row9_col3\" class=\"data row9 col3\" >0.9817</td>\n                        <td id=\"T_2ed2d_row9_col4\" class=\"data row9 col4\" >0.0955</td>\n                        <td id=\"T_2ed2d_row9_col5\" class=\"data row9 col5\" >0.0719</td>\n            </tr>\n            <tr>\n                        <th id=\"T_2ed2d_level0_row10\" class=\"row_heading level0 row10\" >Mean</th>\n                        <td id=\"T_2ed2d_row10_col0\" class=\"data row10 col0\" >275.4494</td>\n                        <td id=\"T_2ed2d_row10_col1\" class=\"data row10 col1\" >296594.9316</td>\n                        <td id=\"T_2ed2d_row10_col2\" class=\"data row10 col2\" >543.9499</td>\n                        <td id=\"T_2ed2d_row10_col3\" class=\"data row10 col3\" >0.9812</td>\n                        <td id=\"T_2ed2d_row10_col4\" class=\"data row10 col4\" >0.0961</td>\n                        <td id=\"T_2ed2d_row10_col5\" class=\"data row10 col5\" >0.0726</td>\n            </tr>\n            <tr>\n                        <th id=\"T_2ed2d_level0_row11\" class=\"row_heading level0 row11\" >SD</th>\n                        <td id=\"T_2ed2d_row11_col0\" class=\"data row11 col0\" >10.1004</td>\n                        <td id=\"T_2ed2d_row11_col1\" class=\"data row11 col1\" >29193.7628</td>\n                        <td id=\"T_2ed2d_row11_col2\" class=\"data row11 col2\" >26.7109</td>\n                        <td id=\"T_2ed2d_row11_col3\" class=\"data row11 col3\" >0.0018</td>\n                        <td id=\"T_2ed2d_row11_col4\" class=\"data row11 col4\" >0.0021</td>\n                        <td id=\"T_2ed2d_row11_col5\" class=\"data row11 col5\" >0.0012</td>\n            </tr>\n    </tbody></table>"
     },
     "metadata": {}
    }
   ],
   "source": [
    "lgbm_params = {'num_leaves': np.arange(10,200,10),\n",
    "                        'max_depth': [int(x) for x in np.linspace(10, 110, num = 11)],\n",
    "                        'learning_rate': np.arange(0.1,1,0.1)\n",
    "                        }\n",
    "tuned_lightgbm4 = tune_model(lightgbm2, custom_grid = lgbm_params)"
   ]
  },
  {
   "cell_type": "code",
   "execution_count": 47,
   "metadata": {},
   "outputs": [
    {
     "output_type": "display_data",
     "data": {
      "text/plain": "interactive(children=(ToggleButtons(description='Plot Type:', icons=('',), options=(('Hyperparameters', 'param…",
      "application/vnd.jupyter.widget-view+json": {
       "version_major": 2,
       "version_minor": 0,
       "model_id": "36c2ca4070e94adda791c63b85ea38dc"
      }
     },
     "metadata": {}
    },
    {
     "output_type": "display_data",
     "data": {
      "text/plain": "<pandas.io.formats.style.Styler at 0x143e14f50>",
      "text/html": "<style  type=\"text/css\" >\n</style><table id=\"T_44737_\" ><thead>    <tr>        <th class=\"blank level0\" ></th>        <th class=\"col_heading level0 col0\" >Model</th>        <th class=\"col_heading level0 col1\" >MAE</th>        <th class=\"col_heading level0 col2\" >MSE</th>        <th class=\"col_heading level0 col3\" >RMSE</th>        <th class=\"col_heading level0 col4\" >R2</th>        <th class=\"col_heading level0 col5\" >RMSLE</th>        <th class=\"col_heading level0 col6\" >MAPE</th>    </tr></thead><tbody>\n                <tr>\n                        <th id=\"T_44737_level0_row0\" class=\"row_heading level0 row0\" >0</th>\n                        <td id=\"T_44737_row0_col0\" class=\"data row0 col0\" >Light Gradient Boosting Machine</td>\n                        <td id=\"T_44737_row0_col1\" class=\"data row0 col1\" >272.0567</td>\n                        <td id=\"T_44737_row0_col2\" class=\"data row0 col2\" >299168.6060</td>\n                        <td id=\"T_44737_row0_col3\" class=\"data row0 col3\" >546.9631</td>\n                        <td id=\"T_44737_row0_col4\" class=\"data row0 col4\" >0.9811</td>\n                        <td id=\"T_44737_row0_col5\" class=\"data row0 col5\" >0.0957</td>\n                        <td id=\"T_44737_row0_col6\" class=\"data row0 col6\" >0.0721</td>\n            </tr>\n    </tbody></table>"
     },
     "metadata": {}
    },
    {
     "output_type": "execute_result",
     "data": {
      "text/plain": [
       "       carat  cut  color  clarity      depth      table     x     y     z  \\\n",
       "0       0.34  4.0    6.0      0.0  62.500000  57.000000  4.49  4.47  2.80   \n",
       "1       0.71  3.0    4.0      6.0  58.099998  58.000000  5.92  5.88  3.43   \n",
       "2       0.50  4.0    4.0      5.0  61.599998  56.000000  5.08  5.11  3.14   \n",
       "3       0.38  4.0    2.0      7.0  58.900002  58.000000  4.69  4.81  2.80   \n",
       "4       0.34  4.0    3.0      3.0  62.700001  55.000000  4.49  4.48  2.81   \n",
       "...      ...  ...    ...      ...        ...        ...   ...   ...   ...   \n",
       "12099   1.22  4.0    2.0      2.0  62.200001  56.000000  6.84  6.89  4.27   \n",
       "12100   0.92  2.0    0.0      1.0  58.700001  61.000000  6.34  6.43  3.75   \n",
       "12101   0.90  4.0    2.0      1.0  61.900002  55.000000  6.21  6.19  3.84   \n",
       "12102   0.56  2.0    2.0      3.0  61.799999  54.099998  5.31  5.34  3.29   \n",
       "12103   0.27  4.0    4.0      4.0  61.700001  57.000000  4.15  4.18  2.57   \n",
       "\n",
       "       shape_ratio   price        Label  \n",
       "0         0.912000   530.0   584.583655  \n",
       "1         0.998279  3347.0  3599.633504  \n",
       "2         0.909091  2052.0  2107.319204  \n",
       "3         0.984720  1064.0  1059.139953  \n",
       "4         0.877193   765.0   734.309044  \n",
       "...            ...     ...          ...  \n",
       "12099     0.900322  6541.0  6815.644890  \n",
       "12100     1.039182  2880.0  2992.536801  \n",
       "12101     0.888530  4101.0  3593.827268  \n",
       "12102     0.875405  1576.0  1438.463764  \n",
       "12103     0.923825   577.0   563.973061  \n",
       "\n",
       "[12104 rows x 12 columns]"
      ],
      "text/html": "<div>\n<style scoped>\n    .dataframe tbody tr th:only-of-type {\n        vertical-align: middle;\n    }\n\n    .dataframe tbody tr th {\n        vertical-align: top;\n    }\n\n    .dataframe thead th {\n        text-align: right;\n    }\n</style>\n<table border=\"1\" class=\"dataframe\">\n  <thead>\n    <tr style=\"text-align: right;\">\n      <th></th>\n      <th>carat</th>\n      <th>cut</th>\n      <th>color</th>\n      <th>clarity</th>\n      <th>depth</th>\n      <th>table</th>\n      <th>x</th>\n      <th>y</th>\n      <th>z</th>\n      <th>shape_ratio</th>\n      <th>price</th>\n      <th>Label</th>\n    </tr>\n  </thead>\n  <tbody>\n    <tr>\n      <th>0</th>\n      <td>0.34</td>\n      <td>4.0</td>\n      <td>6.0</td>\n      <td>0.0</td>\n      <td>62.500000</td>\n      <td>57.000000</td>\n      <td>4.49</td>\n      <td>4.47</td>\n      <td>2.80</td>\n      <td>0.912000</td>\n      <td>530.0</td>\n      <td>584.583655</td>\n    </tr>\n    <tr>\n      <th>1</th>\n      <td>0.71</td>\n      <td>3.0</td>\n      <td>4.0</td>\n      <td>6.0</td>\n      <td>58.099998</td>\n      <td>58.000000</td>\n      <td>5.92</td>\n      <td>5.88</td>\n      <td>3.43</td>\n      <td>0.998279</td>\n      <td>3347.0</td>\n      <td>3599.633504</td>\n    </tr>\n    <tr>\n      <th>2</th>\n      <td>0.50</td>\n      <td>4.0</td>\n      <td>4.0</td>\n      <td>5.0</td>\n      <td>61.599998</td>\n      <td>56.000000</td>\n      <td>5.08</td>\n      <td>5.11</td>\n      <td>3.14</td>\n      <td>0.909091</td>\n      <td>2052.0</td>\n      <td>2107.319204</td>\n    </tr>\n    <tr>\n      <th>3</th>\n      <td>0.38</td>\n      <td>4.0</td>\n      <td>2.0</td>\n      <td>7.0</td>\n      <td>58.900002</td>\n      <td>58.000000</td>\n      <td>4.69</td>\n      <td>4.81</td>\n      <td>2.80</td>\n      <td>0.984720</td>\n      <td>1064.0</td>\n      <td>1059.139953</td>\n    </tr>\n    <tr>\n      <th>4</th>\n      <td>0.34</td>\n      <td>4.0</td>\n      <td>3.0</td>\n      <td>3.0</td>\n      <td>62.700001</td>\n      <td>55.000000</td>\n      <td>4.49</td>\n      <td>4.48</td>\n      <td>2.81</td>\n      <td>0.877193</td>\n      <td>765.0</td>\n      <td>734.309044</td>\n    </tr>\n    <tr>\n      <th>...</th>\n      <td>...</td>\n      <td>...</td>\n      <td>...</td>\n      <td>...</td>\n      <td>...</td>\n      <td>...</td>\n      <td>...</td>\n      <td>...</td>\n      <td>...</td>\n      <td>...</td>\n      <td>...</td>\n      <td>...</td>\n    </tr>\n    <tr>\n      <th>12099</th>\n      <td>1.22</td>\n      <td>4.0</td>\n      <td>2.0</td>\n      <td>2.0</td>\n      <td>62.200001</td>\n      <td>56.000000</td>\n      <td>6.84</td>\n      <td>6.89</td>\n      <td>4.27</td>\n      <td>0.900322</td>\n      <td>6541.0</td>\n      <td>6815.644890</td>\n    </tr>\n    <tr>\n      <th>12100</th>\n      <td>0.92</td>\n      <td>2.0</td>\n      <td>0.0</td>\n      <td>1.0</td>\n      <td>58.700001</td>\n      <td>61.000000</td>\n      <td>6.34</td>\n      <td>6.43</td>\n      <td>3.75</td>\n      <td>1.039182</td>\n      <td>2880.0</td>\n      <td>2992.536801</td>\n    </tr>\n    <tr>\n      <th>12101</th>\n      <td>0.90</td>\n      <td>4.0</td>\n      <td>2.0</td>\n      <td>1.0</td>\n      <td>61.900002</td>\n      <td>55.000000</td>\n      <td>6.21</td>\n      <td>6.19</td>\n      <td>3.84</td>\n      <td>0.888530</td>\n      <td>4101.0</td>\n      <td>3593.827268</td>\n    </tr>\n    <tr>\n      <th>12102</th>\n      <td>0.56</td>\n      <td>2.0</td>\n      <td>2.0</td>\n      <td>3.0</td>\n      <td>61.799999</td>\n      <td>54.099998</td>\n      <td>5.31</td>\n      <td>5.34</td>\n      <td>3.29</td>\n      <td>0.875405</td>\n      <td>1576.0</td>\n      <td>1438.463764</td>\n    </tr>\n    <tr>\n      <th>12103</th>\n      <td>0.27</td>\n      <td>4.0</td>\n      <td>4.0</td>\n      <td>4.0</td>\n      <td>61.700001</td>\n      <td>57.000000</td>\n      <td>4.15</td>\n      <td>4.18</td>\n      <td>2.57</td>\n      <td>0.923825</td>\n      <td>577.0</td>\n      <td>563.973061</td>\n    </tr>\n  </tbody>\n</table>\n<p>12104 rows × 12 columns</p>\n</div>"
     },
     "metadata": {},
     "execution_count": 47
    }
   ],
   "source": [
    "evaluate_model(tuned_lightgbm4)\n",
    "predict_model(tuned_lightgbm4)"
   ]
  },
  {
   "cell_type": "code",
   "execution_count": 48,
   "metadata": {},
   "outputs": [],
   "source": [
    "final_lightgbm4 = finalize_model(tuned_lightgbm4)"
   ]
  },
  {
   "cell_type": "code",
   "execution_count": 49,
   "metadata": {},
   "outputs": [
    {
     "output_type": "stream",
     "name": "stdout",
     "text": [
      "Transformation Pipeline and Model Succesfully Saved\n"
     ]
    },
    {
     "output_type": "execute_result",
     "data": {
      "text/plain": [
       "(Pipeline(memory=None,\n",
       "          steps=[('dtypes',\n",
       "                  DataTypes_Auto_infer(categorical_features=[],\n",
       "                                       display_types=True, features_todrop=[],\n",
       "                                       id_columns=['Unnamed: 0'],\n",
       "                                       ml_usecase='regression',\n",
       "                                       numerical_features=['cut', 'color',\n",
       "                                                           'clarity'],\n",
       "                                       target='price', time_features=[])),\n",
       "                 ('imputer',\n",
       "                  Simple_Imputer(categorical_strategy='not_available',\n",
       "                                 fill_value_categorical=None,\n",
       "                                 fill_value...\n",
       "                  LGBMRegressor(boosting_type='gbdt', class_weight=None,\n",
       "                                colsample_bytree=1.0, importance_type='split',\n",
       "                                learning_rate=0.1, max_depth=90,\n",
       "                                min_child_samples=20, min_child_weight=0.001,\n",
       "                                min_split_gain=0.0, n_estimators=100, n_jobs=-1,\n",
       "                                num_leaves=110, objective=None,\n",
       "                                random_state=7632, reg_alpha=0.0, reg_lambda=0.0,\n",
       "                                silent=True, subsample=1.0,\n",
       "                                subsample_for_bin=200000, subsample_freq=0)]],\n",
       "          verbose=False),\n",
       " 'Final lightgbm4 Model 19Jun2021.pkl')"
      ]
     },
     "metadata": {},
     "execution_count": 49
    }
   ],
   "source": [
    "save_model(final_lightgbm4,'Final lightgbm4 Model 19Jun2021')"
   ]
  },
  {
   "cell_type": "code",
   "execution_count": 52,
   "metadata": {},
   "outputs": [
    {
     "output_type": "stream",
     "name": "stdout",
     "text": [
      "You're ready to submit!\n"
     ]
    }
   ],
   "source": [
    "unseen_predictions4 = predict_model(final_lightgbm4, data=data_pred_modified)\n",
    "respuesta4 = unseen_predictions['Label'].values\n",
    "submission4 = pd.DataFrame({\"id\": range(len(respuesta4)), \"price\": respuesta4})\n",
    "chequeator(submission4, sample)\n",
    "submission4.to_csv('resultado_4.csv', index=False)"
   ]
  },
  {
   "cell_type": "code",
   "execution_count": 73,
   "metadata": {},
   "outputs": [],
   "source": [
    "data_modified2 = data_modified.copy()"
   ]
  },
  {
   "cell_type": "code",
   "execution_count": 74,
   "metadata": {},
   "outputs": [],
   "source": [
    "data_modified2['cut'] = data_modified2['cut'] ** 2"
   ]
  },
  {
   "cell_type": "code",
   "execution_count": 59,
   "metadata": {},
   "outputs": [
    {
     "output_type": "display_data",
     "data": {
      "text/plain": "<pandas.io.formats.style.Styler at 0x144fe2050>",
      "text/html": "<style  type=\"text/css\" >\n#T_1e7dd_row10_col0,#T_1e7dd_row10_col1,#T_1e7dd_row10_col2,#T_1e7dd_row10_col3,#T_1e7dd_row10_col4,#T_1e7dd_row10_col5{\n            background:  yellow;\n        }</style><table id=\"T_1e7dd_\" ><thead>    <tr>        <th class=\"blank level0\" ></th>        <th class=\"col_heading level0 col0\" >MAE</th>        <th class=\"col_heading level0 col1\" >MSE</th>        <th class=\"col_heading level0 col2\" >RMSE</th>        <th class=\"col_heading level0 col3\" >R2</th>        <th class=\"col_heading level0 col4\" >RMSLE</th>        <th class=\"col_heading level0 col5\" >MAPE</th>    </tr></thead><tbody>\n                <tr>\n                        <th id=\"T_1e7dd_level0_row0\" class=\"row_heading level0 row0\" >0</th>\n                        <td id=\"T_1e7dd_row0_col0\" class=\"data row0 col0\" >269.0352</td>\n                        <td id=\"T_1e7dd_row0_col1\" class=\"data row0 col1\" >277967.0662</td>\n                        <td id=\"T_1e7dd_row0_col2\" class=\"data row0 col2\" >527.2258</td>\n                        <td id=\"T_1e7dd_row0_col3\" class=\"data row0 col3\" >0.9821</td>\n                        <td id=\"T_1e7dd_row0_col4\" class=\"data row0 col4\" >0.0922</td>\n                        <td id=\"T_1e7dd_row0_col5\" class=\"data row0 col5\" >0.0703</td>\n            </tr>\n            <tr>\n                        <th id=\"T_1e7dd_level0_row1\" class=\"row_heading level0 row1\" >1</th>\n                        <td id=\"T_1e7dd_row1_col0\" class=\"data row1 col0\" >281.6131</td>\n                        <td id=\"T_1e7dd_row1_col1\" class=\"data row1 col1\" >313139.9976</td>\n                        <td id=\"T_1e7dd_row1_col2\" class=\"data row1 col2\" >559.5891</td>\n                        <td id=\"T_1e7dd_row1_col3\" class=\"data row1 col3\" >0.9799</td>\n                        <td id=\"T_1e7dd_row1_col4\" class=\"data row1 col4\" >0.0961</td>\n                        <td id=\"T_1e7dd_row1_col5\" class=\"data row1 col5\" >0.0729</td>\n            </tr>\n            <tr>\n                        <th id=\"T_1e7dd_level0_row2\" class=\"row_heading level0 row2\" >2</th>\n                        <td id=\"T_1e7dd_row2_col0\" class=\"data row2 col0\" >276.9009</td>\n                        <td id=\"T_1e7dd_row2_col1\" class=\"data row2 col1\" >293385.6357</td>\n                        <td id=\"T_1e7dd_row2_col2\" class=\"data row2 col2\" >541.6508</td>\n                        <td id=\"T_1e7dd_row2_col3\" class=\"data row2 col3\" >0.9819</td>\n                        <td id=\"T_1e7dd_row2_col4\" class=\"data row2 col4\" >0.0926</td>\n                        <td id=\"T_1e7dd_row2_col5\" class=\"data row2 col5\" >0.0698</td>\n            </tr>\n            <tr>\n                        <th id=\"T_1e7dd_level0_row3\" class=\"row_heading level0 row3\" >3</th>\n                        <td id=\"T_1e7dd_row3_col0\" class=\"data row3 col0\" >256.3607</td>\n                        <td id=\"T_1e7dd_row3_col1\" class=\"data row3 col1\" >264480.6663</td>\n                        <td id=\"T_1e7dd_row3_col2\" class=\"data row3 col2\" >514.2768</td>\n                        <td id=\"T_1e7dd_row3_col3\" class=\"data row3 col3\" >0.9828</td>\n                        <td id=\"T_1e7dd_row3_col4\" class=\"data row3 col4\" >0.0915</td>\n                        <td id=\"T_1e7dd_row3_col5\" class=\"data row3 col5\" >0.0683</td>\n            </tr>\n            <tr>\n                        <th id=\"T_1e7dd_level0_row4\" class=\"row_heading level0 row4\" >4</th>\n                        <td id=\"T_1e7dd_row4_col0\" class=\"data row4 col0\" >267.6498</td>\n                        <td id=\"T_1e7dd_row4_col1\" class=\"data row4 col1\" >281658.1959</td>\n                        <td id=\"T_1e7dd_row4_col2\" class=\"data row4 col2\" >530.7148</td>\n                        <td id=\"T_1e7dd_row4_col3\" class=\"data row4 col3\" >0.9822</td>\n                        <td id=\"T_1e7dd_row4_col4\" class=\"data row4 col4\" >0.0917</td>\n                        <td id=\"T_1e7dd_row4_col5\" class=\"data row4 col5\" >0.0705</td>\n            </tr>\n            <tr>\n                        <th id=\"T_1e7dd_level0_row5\" class=\"row_heading level0 row5\" >5</th>\n                        <td id=\"T_1e7dd_row5_col0\" class=\"data row5 col0\" >281.0159</td>\n                        <td id=\"T_1e7dd_row5_col1\" class=\"data row5 col1\" >312264.4066</td>\n                        <td id=\"T_1e7dd_row5_col2\" class=\"data row5 col2\" >558.8062</td>\n                        <td id=\"T_1e7dd_row5_col3\" class=\"data row5 col3\" >0.9816</td>\n                        <td id=\"T_1e7dd_row5_col4\" class=\"data row5 col4\" >0.1015</td>\n                        <td id=\"T_1e7dd_row5_col5\" class=\"data row5 col5\" >0.0734</td>\n            </tr>\n            <tr>\n                        <th id=\"T_1e7dd_level0_row6\" class=\"row_heading level0 row6\" >6</th>\n                        <td id=\"T_1e7dd_row6_col0\" class=\"data row6 col0\" >259.1195</td>\n                        <td id=\"T_1e7dd_row6_col1\" class=\"data row6 col1\" >255704.0544</td>\n                        <td id=\"T_1e7dd_row6_col2\" class=\"data row6 col2\" >505.6719</td>\n                        <td id=\"T_1e7dd_row6_col3\" class=\"data row6 col3\" >0.9837</td>\n                        <td id=\"T_1e7dd_row6_col4\" class=\"data row6 col4\" >0.0962</td>\n                        <td id=\"T_1e7dd_row6_col5\" class=\"data row6 col5\" >0.0702</td>\n            </tr>\n            <tr>\n                        <th id=\"T_1e7dd_level0_row7\" class=\"row_heading level0 row7\" >7</th>\n                        <td id=\"T_1e7dd_row7_col0\" class=\"data row7 col0\" >260.1925</td>\n                        <td id=\"T_1e7dd_row7_col1\" class=\"data row7 col1\" >256172.4819</td>\n                        <td id=\"T_1e7dd_row7_col2\" class=\"data row7 col2\" >506.1348</td>\n                        <td id=\"T_1e7dd_row7_col3\" class=\"data row7 col3\" >0.9838</td>\n                        <td id=\"T_1e7dd_row7_col4\" class=\"data row7 col4\" >0.0970</td>\n                        <td id=\"T_1e7dd_row7_col5\" class=\"data row7 col5\" >0.0711</td>\n            </tr>\n            <tr>\n                        <th id=\"T_1e7dd_level0_row8\" class=\"row_heading level0 row8\" >8</th>\n                        <td id=\"T_1e7dd_row8_col0\" class=\"data row8 col0\" >268.7275</td>\n                        <td id=\"T_1e7dd_row8_col1\" class=\"data row8 col1\" >288122.2633</td>\n                        <td id=\"T_1e7dd_row8_col2\" class=\"data row8 col2\" >536.7702</td>\n                        <td id=\"T_1e7dd_row8_col3\" class=\"data row8 col3\" >0.9822</td>\n                        <td id=\"T_1e7dd_row8_col4\" class=\"data row8 col4\" >0.0942</td>\n                        <td id=\"T_1e7dd_row8_col5\" class=\"data row8 col5\" >0.0713</td>\n            </tr>\n            <tr>\n                        <th id=\"T_1e7dd_level0_row9\" class=\"row_heading level0 row9\" >9</th>\n                        <td id=\"T_1e7dd_row9_col0\" class=\"data row9 col0\" >262.8858</td>\n                        <td id=\"T_1e7dd_row9_col1\" class=\"data row9 col1\" >271437.6537</td>\n                        <td id=\"T_1e7dd_row9_col2\" class=\"data row9 col2\" >520.9968</td>\n                        <td id=\"T_1e7dd_row9_col3\" class=\"data row9 col3\" >0.9816</td>\n                        <td id=\"T_1e7dd_row9_col4\" class=\"data row9 col4\" >0.0933</td>\n                        <td id=\"T_1e7dd_row9_col5\" class=\"data row9 col5\" >0.0712</td>\n            </tr>\n            <tr>\n                        <th id=\"T_1e7dd_level0_row10\" class=\"row_heading level0 row10\" >Mean</th>\n                        <td id=\"T_1e7dd_row10_col0\" class=\"data row10 col0\" >268.3501</td>\n                        <td id=\"T_1e7dd_row10_col1\" class=\"data row10 col1\" >281433.2422</td>\n                        <td id=\"T_1e7dd_row10_col2\" class=\"data row10 col2\" >530.1837</td>\n                        <td id=\"T_1e7dd_row10_col3\" class=\"data row10 col3\" >0.9822</td>\n                        <td id=\"T_1e7dd_row10_col4\" class=\"data row10 col4\" >0.0946</td>\n                        <td id=\"T_1e7dd_row10_col5\" class=\"data row10 col5\" >0.0709</td>\n            </tr>\n            <tr>\n                        <th id=\"T_1e7dd_level0_row11\" class=\"row_heading level0 row11\" >SD</th>\n                        <td id=\"T_1e7dd_row11_col0\" class=\"data row11 col0\" >8.5785</td>\n                        <td id=\"T_1e7dd_row11_col1\" class=\"data row11 col1\" >19603.4320</td>\n                        <td id=\"T_1e7dd_row11_col2\" class=\"data row11 col2\" >18.3969</td>\n                        <td id=\"T_1e7dd_row11_col3\" class=\"data row11 col3\" >0.0011</td>\n                        <td id=\"T_1e7dd_row11_col4\" class=\"data row11 col4\" >0.0030</td>\n                        <td id=\"T_1e7dd_row11_col5\" class=\"data row11 col5\" >0.0014</td>\n            </tr>\n    </tbody></table>"
     },
     "metadata": {}
    },
    {
     "output_type": "display_data",
     "data": {
      "text/plain": "interactive(children=(ToggleButtons(description='Plot Type:', icons=('',), options=(('Hyperparameters', 'param…",
      "application/vnd.jupyter.widget-view+json": {
       "version_major": 2,
       "version_minor": 0,
       "model_id": "578bdc583e5f44aca1522ac0b4f2d748"
      }
     },
     "metadata": {}
    },
    {
     "output_type": "display_data",
     "data": {
      "text/plain": "<pandas.io.formats.style.Styler at 0x144fe2d50>",
      "text/html": "<style  type=\"text/css\" >\n</style><table id=\"T_e5d9d_\" ><thead>    <tr>        <th class=\"blank level0\" ></th>        <th class=\"col_heading level0 col0\" >Model</th>        <th class=\"col_heading level0 col1\" >MAE</th>        <th class=\"col_heading level0 col2\" >MSE</th>        <th class=\"col_heading level0 col3\" >RMSE</th>        <th class=\"col_heading level0 col4\" >R2</th>        <th class=\"col_heading level0 col5\" >RMSLE</th>        <th class=\"col_heading level0 col6\" >MAPE</th>    </tr></thead><tbody>\n                <tr>\n                        <th id=\"T_e5d9d_level0_row0\" class=\"row_heading level0 row0\" >0</th>\n                        <td id=\"T_e5d9d_row0_col0\" class=\"data row0 col0\" >Light Gradient Boosting Machine</td>\n                        <td id=\"T_e5d9d_row0_col1\" class=\"data row0 col1\" >280.0466</td>\n                        <td id=\"T_e5d9d_row0_col2\" class=\"data row0 col2\" >310816.0322</td>\n                        <td id=\"T_e5d9d_row0_col3\" class=\"data row0 col3\" >557.5088</td>\n                        <td id=\"T_e5d9d_row0_col4\" class=\"data row0 col4\" >0.9806</td>\n                        <td id=\"T_e5d9d_row0_col5\" class=\"data row0 col5\" >0.0952</td>\n                        <td id=\"T_e5d9d_row0_col6\" class=\"data row0 col6\" >0.0728</td>\n            </tr>\n    </tbody></table>"
     },
     "metadata": {}
    },
    {
     "output_type": "execute_result",
     "data": {
      "text/plain": [
       "       carat  cut  color  clarity      depth      table     x     y     z  \\\n",
       "0       1.21  3.0    4.0      1.0  59.000000  60.000000  6.99  6.94  4.11   \n",
       "1       1.33  4.0    2.0      4.0  59.299999  57.000000  7.22  7.18  4.27   \n",
       "2       1.42  2.0    4.0      6.0  58.400002  62.000000  7.35  7.38  4.30   \n",
       "3       0.38  4.0    2.0      5.0  62.299999  53.299999  4.65  4.69  2.91   \n",
       "4       1.01  1.0    3.0      1.0  64.000000  59.000000  6.34  6.31  4.05   \n",
       "...      ...  ...    ...      ...        ...        ...   ...   ...   ...   \n",
       "12099   1.13  4.0    4.0      2.0  59.599998  57.000000  6.83  6.79  4.06   \n",
       "12100   0.76  3.0    5.0      3.0  60.299999  60.000000  5.97  5.94  3.59   \n",
       "12101   0.54  2.0    5.0      2.0  60.200001  58.000000  5.23  5.37  3.19   \n",
       "12102   0.53  3.0    5.0      1.0  60.500000  60.000000  5.21  5.24  3.16   \n",
       "12103   1.86  3.0    3.0      1.0  62.799999  58.000000  7.83  7.75  4.89   \n",
       "\n",
       "       shape_ratio    price         Label  \n",
       "0         1.016949   6092.0   5363.525891  \n",
       "1         0.961214   8714.0   8013.095774  \n",
       "2         1.061644  15665.0  13754.733765  \n",
       "3         0.855538    832.0    866.684766  \n",
       "4         0.921875   3461.0   3841.628653  \n",
       "...            ...      ...           ...  \n",
       "12099     0.956376   6391.0   5883.224387  \n",
       "12100     0.995025   3107.0   3145.318183  \n",
       "12101     0.963455   1358.0   1417.771684  \n",
       "12102     0.991736   1141.0   1216.062583  \n",
       "12103     0.923567  13420.0  11843.628333  \n",
       "\n",
       "[12104 rows x 12 columns]"
      ],
      "text/html": "<div>\n<style scoped>\n    .dataframe tbody tr th:only-of-type {\n        vertical-align: middle;\n    }\n\n    .dataframe tbody tr th {\n        vertical-align: top;\n    }\n\n    .dataframe thead th {\n        text-align: right;\n    }\n</style>\n<table border=\"1\" class=\"dataframe\">\n  <thead>\n    <tr style=\"text-align: right;\">\n      <th></th>\n      <th>carat</th>\n      <th>cut</th>\n      <th>color</th>\n      <th>clarity</th>\n      <th>depth</th>\n      <th>table</th>\n      <th>x</th>\n      <th>y</th>\n      <th>z</th>\n      <th>shape_ratio</th>\n      <th>price</th>\n      <th>Label</th>\n    </tr>\n  </thead>\n  <tbody>\n    <tr>\n      <th>0</th>\n      <td>1.21</td>\n      <td>3.0</td>\n      <td>4.0</td>\n      <td>1.0</td>\n      <td>59.000000</td>\n      <td>60.000000</td>\n      <td>6.99</td>\n      <td>6.94</td>\n      <td>4.11</td>\n      <td>1.016949</td>\n      <td>6092.0</td>\n      <td>5363.525891</td>\n    </tr>\n    <tr>\n      <th>1</th>\n      <td>1.33</td>\n      <td>4.0</td>\n      <td>2.0</td>\n      <td>4.0</td>\n      <td>59.299999</td>\n      <td>57.000000</td>\n      <td>7.22</td>\n      <td>7.18</td>\n      <td>4.27</td>\n      <td>0.961214</td>\n      <td>8714.0</td>\n      <td>8013.095774</td>\n    </tr>\n    <tr>\n      <th>2</th>\n      <td>1.42</td>\n      <td>2.0</td>\n      <td>4.0</td>\n      <td>6.0</td>\n      <td>58.400002</td>\n      <td>62.000000</td>\n      <td>7.35</td>\n      <td>7.38</td>\n      <td>4.30</td>\n      <td>1.061644</td>\n      <td>15665.0</td>\n      <td>13754.733765</td>\n    </tr>\n    <tr>\n      <th>3</th>\n      <td>0.38</td>\n      <td>4.0</td>\n      <td>2.0</td>\n      <td>5.0</td>\n      <td>62.299999</td>\n      <td>53.299999</td>\n      <td>4.65</td>\n      <td>4.69</td>\n      <td>2.91</td>\n      <td>0.855538</td>\n      <td>832.0</td>\n      <td>866.684766</td>\n    </tr>\n    <tr>\n      <th>4</th>\n      <td>1.01</td>\n      <td>1.0</td>\n      <td>3.0</td>\n      <td>1.0</td>\n      <td>64.000000</td>\n      <td>59.000000</td>\n      <td>6.34</td>\n      <td>6.31</td>\n      <td>4.05</td>\n      <td>0.921875</td>\n      <td>3461.0</td>\n      <td>3841.628653</td>\n    </tr>\n    <tr>\n      <th>...</th>\n      <td>...</td>\n      <td>...</td>\n      <td>...</td>\n      <td>...</td>\n      <td>...</td>\n      <td>...</td>\n      <td>...</td>\n      <td>...</td>\n      <td>...</td>\n      <td>...</td>\n      <td>...</td>\n      <td>...</td>\n    </tr>\n    <tr>\n      <th>12099</th>\n      <td>1.13</td>\n      <td>4.0</td>\n      <td>4.0</td>\n      <td>2.0</td>\n      <td>59.599998</td>\n      <td>57.000000</td>\n      <td>6.83</td>\n      <td>6.79</td>\n      <td>4.06</td>\n      <td>0.956376</td>\n      <td>6391.0</td>\n      <td>5883.224387</td>\n    </tr>\n    <tr>\n      <th>12100</th>\n      <td>0.76</td>\n      <td>3.0</td>\n      <td>5.0</td>\n      <td>3.0</td>\n      <td>60.299999</td>\n      <td>60.000000</td>\n      <td>5.97</td>\n      <td>5.94</td>\n      <td>3.59</td>\n      <td>0.995025</td>\n      <td>3107.0</td>\n      <td>3145.318183</td>\n    </tr>\n    <tr>\n      <th>12101</th>\n      <td>0.54</td>\n      <td>2.0</td>\n      <td>5.0</td>\n      <td>2.0</td>\n      <td>60.200001</td>\n      <td>58.000000</td>\n      <td>5.23</td>\n      <td>5.37</td>\n      <td>3.19</td>\n      <td>0.963455</td>\n      <td>1358.0</td>\n      <td>1417.771684</td>\n    </tr>\n    <tr>\n      <th>12102</th>\n      <td>0.53</td>\n      <td>3.0</td>\n      <td>5.0</td>\n      <td>1.0</td>\n      <td>60.500000</td>\n      <td>60.000000</td>\n      <td>5.21</td>\n      <td>5.24</td>\n      <td>3.16</td>\n      <td>0.991736</td>\n      <td>1141.0</td>\n      <td>1216.062583</td>\n    </tr>\n    <tr>\n      <th>12103</th>\n      <td>1.86</td>\n      <td>3.0</td>\n      <td>3.0</td>\n      <td>1.0</td>\n      <td>62.799999</td>\n      <td>58.000000</td>\n      <td>7.83</td>\n      <td>7.75</td>\n      <td>4.89</td>\n      <td>0.923567</td>\n      <td>13420.0</td>\n      <td>11843.628333</td>\n    </tr>\n  </tbody>\n</table>\n<p>12104 rows × 12 columns</p>\n</div>"
     },
     "metadata": {},
     "execution_count": 59
    }
   ],
   "source": [
    "exp_reg105 = setup(data = data_modified, target = 'price', session_id=72048, numeric_features = ['cut', 'color', 'clarity'],)\n",
    "lightgbm5 = create_model('lightgbm')\n",
    "lgbm_params = {'num_leaves': np.arange(10,200,10),\n",
    "                        'max_depth': [int(x) for x in np.linspace(10, 110, num = 11)],\n",
    "                        'learning_rate': np.arange(0.1,1,0.1)}\n",
    "tuned_lightgbm5 = tune_model(lightgbm5, custom_grid = lgbm_params)\n",
    "evaluate_model(tuned_lightgbm5)\n",
    "predict_model(tuned_lightgbm5)"
   ]
  },
  {
   "cell_type": "code",
   "execution_count": 62,
   "metadata": {},
   "outputs": [
    {
     "output_type": "stream",
     "name": "stdout",
     "text": [
      "Transformation Pipeline and Model Succesfully Saved\n",
      "You're ready to submit!\n"
     ]
    }
   ],
   "source": [
    "final_lightgbm5 = finalize_model(tuned_lightgbm5)\n",
    "save_model(final_lightgbm5,'Final lightgbm5 Model 19Jun2021')\n",
    "unseen_predictions5 = predict_model(final_lightgbm5, data=data_pred_modified)\n",
    "respuesta5 = unseen_predictions5['Label'].values\n",
    "submission5 = pd.DataFrame({\"id\": range(len(respuesta5)), \"price\": respuesta5})\n",
    "chequeator(submission5, sample)\n",
    "submission5.to_csv('resultado_5.csv', index=False)"
   ]
  },
  {
   "cell_type": "code",
   "execution_count": null,
   "metadata": {},
   "outputs": [],
   "source": [
    "data_modified2 = data_modified.copy()\n",
    "data_modified2['cut'] = data_modified2['cut'] ** 2"
   ]
  },
  {
   "cell_type": "code",
   "execution_count": 75,
   "metadata": {},
   "outputs": [
    {
     "output_type": "display_data",
     "data": {
      "text/plain": "<pandas.io.formats.style.Styler at 0x146f5ce50>",
      "text/html": "<style  type=\"text/css\" >\n#T_2538f_row10_col0,#T_2538f_row10_col1,#T_2538f_row10_col2,#T_2538f_row10_col3,#T_2538f_row10_col4,#T_2538f_row10_col5{\n            background:  yellow;\n        }</style><table id=\"T_2538f_\" ><thead>    <tr>        <th class=\"blank level0\" ></th>        <th class=\"col_heading level0 col0\" >MAE</th>        <th class=\"col_heading level0 col1\" >MSE</th>        <th class=\"col_heading level0 col2\" >RMSE</th>        <th class=\"col_heading level0 col3\" >R2</th>        <th class=\"col_heading level0 col4\" >RMSLE</th>        <th class=\"col_heading level0 col5\" >MAPE</th>    </tr></thead><tbody>\n                <tr>\n                        <th id=\"T_2538f_level0_row0\" class=\"row_heading level0 row0\" >0</th>\n                        <td id=\"T_2538f_row0_col0\" class=\"data row0 col0\" >269.0352</td>\n                        <td id=\"T_2538f_row0_col1\" class=\"data row0 col1\" >277967.0662</td>\n                        <td id=\"T_2538f_row0_col2\" class=\"data row0 col2\" >527.2258</td>\n                        <td id=\"T_2538f_row0_col3\" class=\"data row0 col3\" >0.9821</td>\n                        <td id=\"T_2538f_row0_col4\" class=\"data row0 col4\" >0.0922</td>\n                        <td id=\"T_2538f_row0_col5\" class=\"data row0 col5\" >0.0703</td>\n            </tr>\n            <tr>\n                        <th id=\"T_2538f_level0_row1\" class=\"row_heading level0 row1\" >1</th>\n                        <td id=\"T_2538f_row1_col0\" class=\"data row1 col0\" >281.6131</td>\n                        <td id=\"T_2538f_row1_col1\" class=\"data row1 col1\" >313139.9976</td>\n                        <td id=\"T_2538f_row1_col2\" class=\"data row1 col2\" >559.5891</td>\n                        <td id=\"T_2538f_row1_col3\" class=\"data row1 col3\" >0.9799</td>\n                        <td id=\"T_2538f_row1_col4\" class=\"data row1 col4\" >0.0961</td>\n                        <td id=\"T_2538f_row1_col5\" class=\"data row1 col5\" >0.0729</td>\n            </tr>\n            <tr>\n                        <th id=\"T_2538f_level0_row2\" class=\"row_heading level0 row2\" >2</th>\n                        <td id=\"T_2538f_row2_col0\" class=\"data row2 col0\" >276.9009</td>\n                        <td id=\"T_2538f_row2_col1\" class=\"data row2 col1\" >293385.6357</td>\n                        <td id=\"T_2538f_row2_col2\" class=\"data row2 col2\" >541.6508</td>\n                        <td id=\"T_2538f_row2_col3\" class=\"data row2 col3\" >0.9819</td>\n                        <td id=\"T_2538f_row2_col4\" class=\"data row2 col4\" >0.0926</td>\n                        <td id=\"T_2538f_row2_col5\" class=\"data row2 col5\" >0.0698</td>\n            </tr>\n            <tr>\n                        <th id=\"T_2538f_level0_row3\" class=\"row_heading level0 row3\" >3</th>\n                        <td id=\"T_2538f_row3_col0\" class=\"data row3 col0\" >256.3607</td>\n                        <td id=\"T_2538f_row3_col1\" class=\"data row3 col1\" >264480.6663</td>\n                        <td id=\"T_2538f_row3_col2\" class=\"data row3 col2\" >514.2768</td>\n                        <td id=\"T_2538f_row3_col3\" class=\"data row3 col3\" >0.9828</td>\n                        <td id=\"T_2538f_row3_col4\" class=\"data row3 col4\" >0.0915</td>\n                        <td id=\"T_2538f_row3_col5\" class=\"data row3 col5\" >0.0683</td>\n            </tr>\n            <tr>\n                        <th id=\"T_2538f_level0_row4\" class=\"row_heading level0 row4\" >4</th>\n                        <td id=\"T_2538f_row4_col0\" class=\"data row4 col0\" >267.6498</td>\n                        <td id=\"T_2538f_row4_col1\" class=\"data row4 col1\" >281658.1959</td>\n                        <td id=\"T_2538f_row4_col2\" class=\"data row4 col2\" >530.7148</td>\n                        <td id=\"T_2538f_row4_col3\" class=\"data row4 col3\" >0.9822</td>\n                        <td id=\"T_2538f_row4_col4\" class=\"data row4 col4\" >0.0917</td>\n                        <td id=\"T_2538f_row4_col5\" class=\"data row4 col5\" >0.0705</td>\n            </tr>\n            <tr>\n                        <th id=\"T_2538f_level0_row5\" class=\"row_heading level0 row5\" >5</th>\n                        <td id=\"T_2538f_row5_col0\" class=\"data row5 col0\" >281.0159</td>\n                        <td id=\"T_2538f_row5_col1\" class=\"data row5 col1\" >312264.4066</td>\n                        <td id=\"T_2538f_row5_col2\" class=\"data row5 col2\" >558.8062</td>\n                        <td id=\"T_2538f_row5_col3\" class=\"data row5 col3\" >0.9816</td>\n                        <td id=\"T_2538f_row5_col4\" class=\"data row5 col4\" >0.1015</td>\n                        <td id=\"T_2538f_row5_col5\" class=\"data row5 col5\" >0.0734</td>\n            </tr>\n            <tr>\n                        <th id=\"T_2538f_level0_row6\" class=\"row_heading level0 row6\" >6</th>\n                        <td id=\"T_2538f_row6_col0\" class=\"data row6 col0\" >259.1195</td>\n                        <td id=\"T_2538f_row6_col1\" class=\"data row6 col1\" >255704.0544</td>\n                        <td id=\"T_2538f_row6_col2\" class=\"data row6 col2\" >505.6719</td>\n                        <td id=\"T_2538f_row6_col3\" class=\"data row6 col3\" >0.9837</td>\n                        <td id=\"T_2538f_row6_col4\" class=\"data row6 col4\" >0.0962</td>\n                        <td id=\"T_2538f_row6_col5\" class=\"data row6 col5\" >0.0702</td>\n            </tr>\n            <tr>\n                        <th id=\"T_2538f_level0_row7\" class=\"row_heading level0 row7\" >7</th>\n                        <td id=\"T_2538f_row7_col0\" class=\"data row7 col0\" >260.1925</td>\n                        <td id=\"T_2538f_row7_col1\" class=\"data row7 col1\" >256172.4819</td>\n                        <td id=\"T_2538f_row7_col2\" class=\"data row7 col2\" >506.1348</td>\n                        <td id=\"T_2538f_row7_col3\" class=\"data row7 col3\" >0.9838</td>\n                        <td id=\"T_2538f_row7_col4\" class=\"data row7 col4\" >0.0970</td>\n                        <td id=\"T_2538f_row7_col5\" class=\"data row7 col5\" >0.0711</td>\n            </tr>\n            <tr>\n                        <th id=\"T_2538f_level0_row8\" class=\"row_heading level0 row8\" >8</th>\n                        <td id=\"T_2538f_row8_col0\" class=\"data row8 col0\" >268.7275</td>\n                        <td id=\"T_2538f_row8_col1\" class=\"data row8 col1\" >288122.2633</td>\n                        <td id=\"T_2538f_row8_col2\" class=\"data row8 col2\" >536.7702</td>\n                        <td id=\"T_2538f_row8_col3\" class=\"data row8 col3\" >0.9822</td>\n                        <td id=\"T_2538f_row8_col4\" class=\"data row8 col4\" >0.0942</td>\n                        <td id=\"T_2538f_row8_col5\" class=\"data row8 col5\" >0.0713</td>\n            </tr>\n            <tr>\n                        <th id=\"T_2538f_level0_row9\" class=\"row_heading level0 row9\" >9</th>\n                        <td id=\"T_2538f_row9_col0\" class=\"data row9 col0\" >262.8858</td>\n                        <td id=\"T_2538f_row9_col1\" class=\"data row9 col1\" >271437.6537</td>\n                        <td id=\"T_2538f_row9_col2\" class=\"data row9 col2\" >520.9968</td>\n                        <td id=\"T_2538f_row9_col3\" class=\"data row9 col3\" >0.9816</td>\n                        <td id=\"T_2538f_row9_col4\" class=\"data row9 col4\" >0.0933</td>\n                        <td id=\"T_2538f_row9_col5\" class=\"data row9 col5\" >0.0712</td>\n            </tr>\n            <tr>\n                        <th id=\"T_2538f_level0_row10\" class=\"row_heading level0 row10\" >Mean</th>\n                        <td id=\"T_2538f_row10_col0\" class=\"data row10 col0\" >268.3501</td>\n                        <td id=\"T_2538f_row10_col1\" class=\"data row10 col1\" >281433.2422</td>\n                        <td id=\"T_2538f_row10_col2\" class=\"data row10 col2\" >530.1837</td>\n                        <td id=\"T_2538f_row10_col3\" class=\"data row10 col3\" >0.9822</td>\n                        <td id=\"T_2538f_row10_col4\" class=\"data row10 col4\" >0.0946</td>\n                        <td id=\"T_2538f_row10_col5\" class=\"data row10 col5\" >0.0709</td>\n            </tr>\n            <tr>\n                        <th id=\"T_2538f_level0_row11\" class=\"row_heading level0 row11\" >SD</th>\n                        <td id=\"T_2538f_row11_col0\" class=\"data row11 col0\" >8.5785</td>\n                        <td id=\"T_2538f_row11_col1\" class=\"data row11 col1\" >19603.4320</td>\n                        <td id=\"T_2538f_row11_col2\" class=\"data row11 col2\" >18.3969</td>\n                        <td id=\"T_2538f_row11_col3\" class=\"data row11 col3\" >0.0011</td>\n                        <td id=\"T_2538f_row11_col4\" class=\"data row11 col4\" >0.0030</td>\n                        <td id=\"T_2538f_row11_col5\" class=\"data row11 col5\" >0.0014</td>\n            </tr>\n    </tbody></table>"
     },
     "metadata": {}
    },
    {
     "output_type": "display_data",
     "data": {
      "text/plain": "interactive(children=(ToggleButtons(description='Plot Type:', icons=('',), options=(('Hyperparameters', 'param…",
      "application/vnd.jupyter.widget-view+json": {
       "version_major": 2,
       "version_minor": 0,
       "model_id": "f0490d5b1efd494d8972cbf6a008cddb"
      }
     },
     "metadata": {}
    },
    {
     "output_type": "display_data",
     "data": {
      "text/plain": "<pandas.io.formats.style.Styler at 0x1465e1910>",
      "text/html": "<style  type=\"text/css\" >\n</style><table id=\"T_c27bd_\" ><thead>    <tr>        <th class=\"blank level0\" ></th>        <th class=\"col_heading level0 col0\" >Model</th>        <th class=\"col_heading level0 col1\" >MAE</th>        <th class=\"col_heading level0 col2\" >MSE</th>        <th class=\"col_heading level0 col3\" >RMSE</th>        <th class=\"col_heading level0 col4\" >R2</th>        <th class=\"col_heading level0 col5\" >RMSLE</th>        <th class=\"col_heading level0 col6\" >MAPE</th>    </tr></thead><tbody>\n                <tr>\n                        <th id=\"T_c27bd_level0_row0\" class=\"row_heading level0 row0\" >0</th>\n                        <td id=\"T_c27bd_row0_col0\" class=\"data row0 col0\" >Light Gradient Boosting Machine</td>\n                        <td id=\"T_c27bd_row0_col1\" class=\"data row0 col1\" >280.0466</td>\n                        <td id=\"T_c27bd_row0_col2\" class=\"data row0 col2\" >310816.0322</td>\n                        <td id=\"T_c27bd_row0_col3\" class=\"data row0 col3\" >557.5088</td>\n                        <td id=\"T_c27bd_row0_col4\" class=\"data row0 col4\" >0.9806</td>\n                        <td id=\"T_c27bd_row0_col5\" class=\"data row0 col5\" >0.0952</td>\n                        <td id=\"T_c27bd_row0_col6\" class=\"data row0 col6\" >0.0728</td>\n            </tr>\n    </tbody></table>"
     },
     "metadata": {}
    },
    {
     "output_type": "execute_result",
     "data": {
      "text/plain": [
       "       carat   cut  color  clarity      depth      table     x     y     z  \\\n",
       "0       1.21   9.0    4.0      1.0  59.000000  60.000000  6.99  6.94  4.11   \n",
       "1       1.33  16.0    2.0      4.0  59.299999  57.000000  7.22  7.18  4.27   \n",
       "2       1.42   4.0    4.0      6.0  58.400002  62.000000  7.35  7.38  4.30   \n",
       "3       0.38  16.0    2.0      5.0  62.299999  53.299999  4.65  4.69  2.91   \n",
       "4       1.01   1.0    3.0      1.0  64.000000  59.000000  6.34  6.31  4.05   \n",
       "...      ...   ...    ...      ...        ...        ...   ...   ...   ...   \n",
       "12099   1.13  16.0    4.0      2.0  59.599998  57.000000  6.83  6.79  4.06   \n",
       "12100   0.76   9.0    5.0      3.0  60.299999  60.000000  5.97  5.94  3.59   \n",
       "12101   0.54   4.0    5.0      2.0  60.200001  58.000000  5.23  5.37  3.19   \n",
       "12102   0.53   9.0    5.0      1.0  60.500000  60.000000  5.21  5.24  3.16   \n",
       "12103   1.86   9.0    3.0      1.0  62.799999  58.000000  7.83  7.75  4.89   \n",
       "\n",
       "       shape_ratio    price         Label  \n",
       "0         1.016949   6092.0   5363.525891  \n",
       "1         0.961214   8714.0   8013.095774  \n",
       "2         1.061644  15665.0  13754.733765  \n",
       "3         0.855538    832.0    866.684766  \n",
       "4         0.921875   3461.0   3841.628653  \n",
       "...            ...      ...           ...  \n",
       "12099     0.956376   6391.0   5883.224387  \n",
       "12100     0.995025   3107.0   3145.318183  \n",
       "12101     0.963455   1358.0   1417.771684  \n",
       "12102     0.991736   1141.0   1216.062583  \n",
       "12103     0.923567  13420.0  11843.628333  \n",
       "\n",
       "[12104 rows x 12 columns]"
      ],
      "text/html": "<div>\n<style scoped>\n    .dataframe tbody tr th:only-of-type {\n        vertical-align: middle;\n    }\n\n    .dataframe tbody tr th {\n        vertical-align: top;\n    }\n\n    .dataframe thead th {\n        text-align: right;\n    }\n</style>\n<table border=\"1\" class=\"dataframe\">\n  <thead>\n    <tr style=\"text-align: right;\">\n      <th></th>\n      <th>carat</th>\n      <th>cut</th>\n      <th>color</th>\n      <th>clarity</th>\n      <th>depth</th>\n      <th>table</th>\n      <th>x</th>\n      <th>y</th>\n      <th>z</th>\n      <th>shape_ratio</th>\n      <th>price</th>\n      <th>Label</th>\n    </tr>\n  </thead>\n  <tbody>\n    <tr>\n      <th>0</th>\n      <td>1.21</td>\n      <td>9.0</td>\n      <td>4.0</td>\n      <td>1.0</td>\n      <td>59.000000</td>\n      <td>60.000000</td>\n      <td>6.99</td>\n      <td>6.94</td>\n      <td>4.11</td>\n      <td>1.016949</td>\n      <td>6092.0</td>\n      <td>5363.525891</td>\n    </tr>\n    <tr>\n      <th>1</th>\n      <td>1.33</td>\n      <td>16.0</td>\n      <td>2.0</td>\n      <td>4.0</td>\n      <td>59.299999</td>\n      <td>57.000000</td>\n      <td>7.22</td>\n      <td>7.18</td>\n      <td>4.27</td>\n      <td>0.961214</td>\n      <td>8714.0</td>\n      <td>8013.095774</td>\n    </tr>\n    <tr>\n      <th>2</th>\n      <td>1.42</td>\n      <td>4.0</td>\n      <td>4.0</td>\n      <td>6.0</td>\n      <td>58.400002</td>\n      <td>62.000000</td>\n      <td>7.35</td>\n      <td>7.38</td>\n      <td>4.30</td>\n      <td>1.061644</td>\n      <td>15665.0</td>\n      <td>13754.733765</td>\n    </tr>\n    <tr>\n      <th>3</th>\n      <td>0.38</td>\n      <td>16.0</td>\n      <td>2.0</td>\n      <td>5.0</td>\n      <td>62.299999</td>\n      <td>53.299999</td>\n      <td>4.65</td>\n      <td>4.69</td>\n      <td>2.91</td>\n      <td>0.855538</td>\n      <td>832.0</td>\n      <td>866.684766</td>\n    </tr>\n    <tr>\n      <th>4</th>\n      <td>1.01</td>\n      <td>1.0</td>\n      <td>3.0</td>\n      <td>1.0</td>\n      <td>64.000000</td>\n      <td>59.000000</td>\n      <td>6.34</td>\n      <td>6.31</td>\n      <td>4.05</td>\n      <td>0.921875</td>\n      <td>3461.0</td>\n      <td>3841.628653</td>\n    </tr>\n    <tr>\n      <th>...</th>\n      <td>...</td>\n      <td>...</td>\n      <td>...</td>\n      <td>...</td>\n      <td>...</td>\n      <td>...</td>\n      <td>...</td>\n      <td>...</td>\n      <td>...</td>\n      <td>...</td>\n      <td>...</td>\n      <td>...</td>\n    </tr>\n    <tr>\n      <th>12099</th>\n      <td>1.13</td>\n      <td>16.0</td>\n      <td>4.0</td>\n      <td>2.0</td>\n      <td>59.599998</td>\n      <td>57.000000</td>\n      <td>6.83</td>\n      <td>6.79</td>\n      <td>4.06</td>\n      <td>0.956376</td>\n      <td>6391.0</td>\n      <td>5883.224387</td>\n    </tr>\n    <tr>\n      <th>12100</th>\n      <td>0.76</td>\n      <td>9.0</td>\n      <td>5.0</td>\n      <td>3.0</td>\n      <td>60.299999</td>\n      <td>60.000000</td>\n      <td>5.97</td>\n      <td>5.94</td>\n      <td>3.59</td>\n      <td>0.995025</td>\n      <td>3107.0</td>\n      <td>3145.318183</td>\n    </tr>\n    <tr>\n      <th>12101</th>\n      <td>0.54</td>\n      <td>4.0</td>\n      <td>5.0</td>\n      <td>2.0</td>\n      <td>60.200001</td>\n      <td>58.000000</td>\n      <td>5.23</td>\n      <td>5.37</td>\n      <td>3.19</td>\n      <td>0.963455</td>\n      <td>1358.0</td>\n      <td>1417.771684</td>\n    </tr>\n    <tr>\n      <th>12102</th>\n      <td>0.53</td>\n      <td>9.0</td>\n      <td>5.0</td>\n      <td>1.0</td>\n      <td>60.500000</td>\n      <td>60.000000</td>\n      <td>5.21</td>\n      <td>5.24</td>\n      <td>3.16</td>\n      <td>0.991736</td>\n      <td>1141.0</td>\n      <td>1216.062583</td>\n    </tr>\n    <tr>\n      <th>12103</th>\n      <td>1.86</td>\n      <td>9.0</td>\n      <td>3.0</td>\n      <td>1.0</td>\n      <td>62.799999</td>\n      <td>58.000000</td>\n      <td>7.83</td>\n      <td>7.75</td>\n      <td>4.89</td>\n      <td>0.923567</td>\n      <td>13420.0</td>\n      <td>11843.628333</td>\n    </tr>\n  </tbody>\n</table>\n<p>12104 rows × 12 columns</p>\n</div>"
     },
     "metadata": {},
     "execution_count": 75
    }
   ],
   "source": [
    "exp_reg105 = setup(data = data_modified2, target = 'price', session_id=72048, numeric_features = ['cut', 'color', 'clarity'])\n",
    "lightgbm6 = create_model('lightgbm')\n",
    "lgbm_params = {'num_leaves': np.arange(10,200,10),\n",
    "                        'max_depth': [int(x) for x in np.linspace(10, 110, num = 11)],\n",
    "                        'learning_rate': np.arange(0.1,1,0.1)}\n",
    "tuned_lightgbm6 = tune_model(lightgbm6, custom_grid = lgbm_params)\n",
    "evaluate_model(tuned_lightgbm6)\n",
    "predict_model(tuned_lightgbm6)"
   ]
  },
  {
   "cell_type": "code",
   "execution_count": null,
   "metadata": {},
   "outputs": [],
   "source": []
  },
  {
   "cell_type": "code",
   "execution_count": 93,
   "metadata": {},
   "outputs": [],
   "source": [
    "data_modified2 = data_modified.copy()\n",
    "# data_modified2['cut'] = data_modified2['cut'] ** 2\n",
    "scaler = StandardScaler()\n",
    "scaler.fit(data_modified2['cut'].values.reshape(-1, 1))\n",
    "data_modified2['cut'] = scaler.transform(data_modified2['cut'].values.reshape(-1, 1))\n"
   ]
  },
  {
   "cell_type": "code",
   "execution_count": 95,
   "metadata": {},
   "outputs": [],
   "source": [
    "df = data_modified.copy()"
   ]
  },
  {
   "cell_type": "code",
   "execution_count": 15,
   "metadata": {},
   "outputs": [],
   "source": [
    "df = data_modified.copy()\n",
    "df = df.drop(df[df[\"x\"]==0].index)\n",
    "df = df.drop(df[df[\"y\"]==0].index)\n",
    "df = df.drop(df[df[\"z\"]==0].index)\n",
    "df = df[(df[\"depth\"]<75)&(df[\"depth\"]>45)]\n",
    "df = df[(df[\"table\"]<80)&(df[\"table\"]>40)]\n",
    "df = df[(df[\"x\"]<30)]\n",
    "df = df[(df[\"y\"]<30)]\n",
    "df = df[(df[\"z\"]<30)&(df[\"z\"]>2)]"
   ]
  },
  {
   "cell_type": "code",
   "execution_count": 16,
   "metadata": {},
   "outputs": [
    {
     "output_type": "display_data",
     "data": {
      "text/plain": "<pandas.io.formats.style.Styler at 0x145274f50>",
      "text/html": "<style  type=\"text/css\" >\n#T_74d96_row10_col0,#T_74d96_row10_col1,#T_74d96_row10_col2,#T_74d96_row10_col3,#T_74d96_row10_col4,#T_74d96_row10_col5{\n            background:  yellow;\n        }</style><table id=\"T_74d96_\" ><thead>    <tr>        <th class=\"blank level0\" ></th>        <th class=\"col_heading level0 col0\" >MAE</th>        <th class=\"col_heading level0 col1\" >MSE</th>        <th class=\"col_heading level0 col2\" >RMSE</th>        <th class=\"col_heading level0 col3\" >R2</th>        <th class=\"col_heading level0 col4\" >RMSLE</th>        <th class=\"col_heading level0 col5\" >MAPE</th>    </tr></thead><tbody>\n                <tr>\n                        <th id=\"T_74d96_level0_row0\" class=\"row_heading level0 row0\" >0</th>\n                        <td id=\"T_74d96_row0_col0\" class=\"data row0 col0\" >277.2871</td>\n                        <td id=\"T_74d96_row0_col1\" class=\"data row0 col1\" >292751.7617</td>\n                        <td id=\"T_74d96_row0_col2\" class=\"data row0 col2\" >541.0654</td>\n                        <td id=\"T_74d96_row0_col3\" class=\"data row0 col3\" >0.9806</td>\n                        <td id=\"T_74d96_row0_col4\" class=\"data row0 col4\" >0.1038</td>\n                        <td id=\"T_74d96_row0_col5\" class=\"data row0 col5\" >0.0798</td>\n            </tr>\n            <tr>\n                        <th id=\"T_74d96_level0_row1\" class=\"row_heading level0 row1\" >1</th>\n                        <td id=\"T_74d96_row1_col0\" class=\"data row1 col0\" >272.5791</td>\n                        <td id=\"T_74d96_row1_col1\" class=\"data row1 col1\" >272606.5123</td>\n                        <td id=\"T_74d96_row1_col2\" class=\"data row1 col2\" >522.1173</td>\n                        <td id=\"T_74d96_row1_col3\" class=\"data row1 col3\" >0.9821</td>\n                        <td id=\"T_74d96_row1_col4\" class=\"data row1 col4\" >0.1022</td>\n                        <td id=\"T_74d96_row1_col5\" class=\"data row1 col5\" >0.0774</td>\n            </tr>\n            <tr>\n                        <th id=\"T_74d96_level0_row2\" class=\"row_heading level0 row2\" >2</th>\n                        <td id=\"T_74d96_row2_col0\" class=\"data row2 col0\" >288.6826</td>\n                        <td id=\"T_74d96_row2_col1\" class=\"data row2 col1\" >308818.1283</td>\n                        <td id=\"T_74d96_row2_col2\" class=\"data row2 col2\" >555.7141</td>\n                        <td id=\"T_74d96_row2_col3\" class=\"data row2 col3\" >0.9812</td>\n                        <td id=\"T_74d96_row2_col4\" class=\"data row2 col4\" >0.0988</td>\n                        <td id=\"T_74d96_row2_col5\" class=\"data row2 col5\" >0.0778</td>\n            </tr>\n            <tr>\n                        <th id=\"T_74d96_level0_row3\" class=\"row_heading level0 row3\" >3</th>\n                        <td id=\"T_74d96_row3_col0\" class=\"data row3 col0\" >283.8115</td>\n                        <td id=\"T_74d96_row3_col1\" class=\"data row3 col1\" >300828.3237</td>\n                        <td id=\"T_74d96_row3_col2\" class=\"data row3 col2\" >548.4782</td>\n                        <td id=\"T_74d96_row3_col3\" class=\"data row3 col3\" >0.9812</td>\n                        <td id=\"T_74d96_row3_col4\" class=\"data row3 col4\" >0.1042</td>\n                        <td id=\"T_74d96_row3_col5\" class=\"data row3 col5\" >0.0783</td>\n            </tr>\n            <tr>\n                        <th id=\"T_74d96_level0_row4\" class=\"row_heading level0 row4\" >4</th>\n                        <td id=\"T_74d96_row4_col0\" class=\"data row4 col0\" >278.3653</td>\n                        <td id=\"T_74d96_row4_col1\" class=\"data row4 col1\" >263835.3438</td>\n                        <td id=\"T_74d96_row4_col2\" class=\"data row4 col2\" >513.6490</td>\n                        <td id=\"T_74d96_row4_col3\" class=\"data row4 col3\" >0.9839</td>\n                        <td id=\"T_74d96_row4_col4\" class=\"data row4 col4\" >0.0984</td>\n                        <td id=\"T_74d96_row4_col5\" class=\"data row4 col5\" >0.0772</td>\n            </tr>\n            <tr>\n                        <th id=\"T_74d96_level0_row5\" class=\"row_heading level0 row5\" >5</th>\n                        <td id=\"T_74d96_row5_col0\" class=\"data row5 col0\" >279.1100</td>\n                        <td id=\"T_74d96_row5_col1\" class=\"data row5 col1\" >287373.8953</td>\n                        <td id=\"T_74d96_row5_col2\" class=\"data row5 col2\" >536.0727</td>\n                        <td id=\"T_74d96_row5_col3\" class=\"data row5 col3\" >0.9816</td>\n                        <td id=\"T_74d96_row5_col4\" class=\"data row5 col4\" >0.1030</td>\n                        <td id=\"T_74d96_row5_col5\" class=\"data row5 col5\" >0.0798</td>\n            </tr>\n            <tr>\n                        <th id=\"T_74d96_level0_row6\" class=\"row_heading level0 row6\" >6</th>\n                        <td id=\"T_74d96_row6_col0\" class=\"data row6 col0\" >274.6286</td>\n                        <td id=\"T_74d96_row6_col1\" class=\"data row6 col1\" >307626.4007</td>\n                        <td id=\"T_74d96_row6_col2\" class=\"data row6 col2\" >554.6408</td>\n                        <td id=\"T_74d96_row6_col3\" class=\"data row6 col3\" >0.9807</td>\n                        <td id=\"T_74d96_row6_col4\" class=\"data row6 col4\" >0.0997</td>\n                        <td id=\"T_74d96_row6_col5\" class=\"data row6 col5\" >0.0762</td>\n            </tr>\n            <tr>\n                        <th id=\"T_74d96_level0_row7\" class=\"row_heading level0 row7\" >7</th>\n                        <td id=\"T_74d96_row7_col0\" class=\"data row7 col0\" >272.2009</td>\n                        <td id=\"T_74d96_row7_col1\" class=\"data row7 col1\" >267079.3913</td>\n                        <td id=\"T_74d96_row7_col2\" class=\"data row7 col2\" >516.7972</td>\n                        <td id=\"T_74d96_row7_col3\" class=\"data row7 col3\" >0.9823</td>\n                        <td id=\"T_74d96_row7_col4\" class=\"data row7 col4\" >0.0991</td>\n                        <td id=\"T_74d96_row7_col5\" class=\"data row7 col5\" >0.0763</td>\n            </tr>\n            <tr>\n                        <th id=\"T_74d96_level0_row8\" class=\"row_heading level0 row8\" >8</th>\n                        <td id=\"T_74d96_row8_col0\" class=\"data row8 col0\" >280.5065</td>\n                        <td id=\"T_74d96_row8_col1\" class=\"data row8 col1\" >299180.1372</td>\n                        <td id=\"T_74d96_row8_col2\" class=\"data row8 col2\" >546.9736</td>\n                        <td id=\"T_74d96_row8_col3\" class=\"data row8 col3\" >0.9807</td>\n                        <td id=\"T_74d96_row8_col4\" class=\"data row8 col4\" >0.1019</td>\n                        <td id=\"T_74d96_row8_col5\" class=\"data row8 col5\" >0.0801</td>\n            </tr>\n            <tr>\n                        <th id=\"T_74d96_level0_row9\" class=\"row_heading level0 row9\" >9</th>\n                        <td id=\"T_74d96_row9_col0\" class=\"data row9 col0\" >293.6132</td>\n                        <td id=\"T_74d96_row9_col1\" class=\"data row9 col1\" >357898.2710</td>\n                        <td id=\"T_74d96_row9_col2\" class=\"data row9 col2\" >598.2460</td>\n                        <td id=\"T_74d96_row9_col3\" class=\"data row9 col3\" >0.9773</td>\n                        <td id=\"T_74d96_row9_col4\" class=\"data row9 col4\" >0.1041</td>\n                        <td id=\"T_74d96_row9_col5\" class=\"data row9 col5\" >0.0792</td>\n            </tr>\n            <tr>\n                        <th id=\"T_74d96_level0_row10\" class=\"row_heading level0 row10\" >Mean</th>\n                        <td id=\"T_74d96_row10_col0\" class=\"data row10 col0\" >280.0785</td>\n                        <td id=\"T_74d96_row10_col1\" class=\"data row10 col1\" >295799.8165</td>\n                        <td id=\"T_74d96_row10_col2\" class=\"data row10 col2\" >543.3754</td>\n                        <td id=\"T_74d96_row10_col3\" class=\"data row10 col3\" >0.9812</td>\n                        <td id=\"T_74d96_row10_col4\" class=\"data row10 col4\" >0.1015</td>\n                        <td id=\"T_74d96_row10_col5\" class=\"data row10 col5\" >0.0782</td>\n            </tr>\n            <tr>\n                        <th id=\"T_74d96_level0_row11\" class=\"row_heading level0 row11\" >SD</th>\n                        <td id=\"T_74d96_row11_col0\" class=\"data row11 col0\" >6.5651</td>\n                        <td id=\"T_74d96_row11_col1\" class=\"data row11 col1\" >25820.6923</td>\n                        <td id=\"T_74d96_row11_col2\" class=\"data row11 col2\" >23.3014</td>\n                        <td id=\"T_74d96_row11_col3\" class=\"data row11 col3\" >0.0016</td>\n                        <td id=\"T_74d96_row11_col4\" class=\"data row11 col4\" >0.0022</td>\n                        <td id=\"T_74d96_row11_col5\" class=\"data row11 col5\" >0.0014</td>\n            </tr>\n    </tbody></table>"
     },
     "metadata": {}
    },
    {
     "output_type": "display_data",
     "data": {
      "text/plain": "interactive(children=(ToggleButtons(description='Plot Type:', icons=('',), options=(('Hyperparameters', 'param…",
      "application/vnd.jupyter.widget-view+json": {
       "version_major": 2,
       "version_minor": 0,
       "model_id": "e52078eeb3704eddbbc1328542c8186c"
      }
     },
     "metadata": {}
    },
    {
     "output_type": "display_data",
     "data": {
      "text/plain": "<pandas.io.formats.style.Styler at 0x13e8f4e10>",
      "text/html": "<style  type=\"text/css\" >\n</style><table id=\"T_9e15f_\" ><thead>    <tr>        <th class=\"blank level0\" ></th>        <th class=\"col_heading level0 col0\" >Model</th>        <th class=\"col_heading level0 col1\" >MAE</th>        <th class=\"col_heading level0 col2\" >MSE</th>        <th class=\"col_heading level0 col3\" >RMSE</th>        <th class=\"col_heading level0 col4\" >R2</th>        <th class=\"col_heading level0 col5\" >RMSLE</th>        <th class=\"col_heading level0 col6\" >MAPE</th>    </tr></thead><tbody>\n                <tr>\n                        <th id=\"T_9e15f_level0_row0\" class=\"row_heading level0 row0\" >0</th>\n                        <td id=\"T_9e15f_row0_col0\" class=\"data row0 col0\" >Light Gradient Boosting Machine</td>\n                        <td id=\"T_9e15f_row0_col1\" class=\"data row0 col1\" >280.0233</td>\n                        <td id=\"T_9e15f_row0_col2\" class=\"data row0 col2\" >294408.9473</td>\n                        <td id=\"T_9e15f_row0_col3\" class=\"data row0 col3\" >542.5946</td>\n                        <td id=\"T_9e15f_row0_col4\" class=\"data row0 col4\" >0.9818</td>\n                        <td id=\"T_9e15f_row0_col5\" class=\"data row0 col5\" >0.1025</td>\n                        <td id=\"T_9e15f_row0_col6\" class=\"data row0 col6\" >0.0800</td>\n            </tr>\n    </tbody></table>"
     },
     "metadata": {}
    },
    {
     "output_type": "execute_result",
     "data": {
      "text/plain": [
       "       Unnamed 0  carat  cut  color  clarity      depth  table     y     z  \\\n",
       "0        32910.0   0.73  4.0    1.0      3.0  61.599998   54.0  5.84  3.59   \n",
       "1         5708.0   2.01  1.0    1.0      3.0  63.599998   57.0  7.95  5.03   \n",
       "2        38936.0   0.31  4.0    4.0      3.0  61.299999   57.0  4.34  2.65   \n",
       "3        25088.0   0.61  2.0    3.0      3.0  62.000000   57.0  5.47  3.38   \n",
       "4        32406.0   1.18  1.0    6.0      1.0  61.700001   63.0  6.72  4.13   \n",
       "...          ...    ...  ...    ...      ...        ...    ...   ...   ...   \n",
       "12091    26670.0   0.90  3.0    1.0      4.0  61.200001   61.0  6.15  3.78   \n",
       "12092    10173.0   2.14  2.0    0.0      2.0  62.299999   59.0  8.26  5.14   \n",
       "12093    37734.0   0.72  4.0    2.0      4.0  62.299999   55.0  5.74  3.57   \n",
       "12094     3371.0   0.93  1.0    3.0      2.0  63.799999   58.0  6.09  3.90   \n",
       "12095     1573.0   0.41  4.0    0.0      4.0  62.200001   55.0  4.79  2.97   \n",
       "\n",
       "       shape_ratio    price         Label  \n",
       "0         0.876623   2327.0   2425.379003  \n",
       "1         0.896226  16003.0  15382.172542  \n",
       "2         0.929853    625.0    727.472938  \n",
       "3         0.919355   1861.0   1830.478399  \n",
       "4         1.021070   5315.0   5208.796097  \n",
       "...            ...      ...           ...  \n",
       "12091     0.996732   3484.0   3463.920880  \n",
       "12092     0.947030  14556.0  14171.940941  \n",
       "12093     0.882825   2949.0   2862.178284  \n",
       "12094     0.909091   4375.0   3760.584207  \n",
       "12095     0.884244    604.0    706.310734  \n",
       "\n",
       "[12096 rows x 12 columns]"
      ],
      "text/html": "<div>\n<style scoped>\n    .dataframe tbody tr th:only-of-type {\n        vertical-align: middle;\n    }\n\n    .dataframe tbody tr th {\n        vertical-align: top;\n    }\n\n    .dataframe thead th {\n        text-align: right;\n    }\n</style>\n<table border=\"1\" class=\"dataframe\">\n  <thead>\n    <tr style=\"text-align: right;\">\n      <th></th>\n      <th>Unnamed 0</th>\n      <th>carat</th>\n      <th>cut</th>\n      <th>color</th>\n      <th>clarity</th>\n      <th>depth</th>\n      <th>table</th>\n      <th>y</th>\n      <th>z</th>\n      <th>shape_ratio</th>\n      <th>price</th>\n      <th>Label</th>\n    </tr>\n  </thead>\n  <tbody>\n    <tr>\n      <th>0</th>\n      <td>32910.0</td>\n      <td>0.73</td>\n      <td>4.0</td>\n      <td>1.0</td>\n      <td>3.0</td>\n      <td>61.599998</td>\n      <td>54.0</td>\n      <td>5.84</td>\n      <td>3.59</td>\n      <td>0.876623</td>\n      <td>2327.0</td>\n      <td>2425.379003</td>\n    </tr>\n    <tr>\n      <th>1</th>\n      <td>5708.0</td>\n      <td>2.01</td>\n      <td>1.0</td>\n      <td>1.0</td>\n      <td>3.0</td>\n      <td>63.599998</td>\n      <td>57.0</td>\n      <td>7.95</td>\n      <td>5.03</td>\n      <td>0.896226</td>\n      <td>16003.0</td>\n      <td>15382.172542</td>\n    </tr>\n    <tr>\n      <th>2</th>\n      <td>38936.0</td>\n      <td>0.31</td>\n      <td>4.0</td>\n      <td>4.0</td>\n      <td>3.0</td>\n      <td>61.299999</td>\n      <td>57.0</td>\n      <td>4.34</td>\n      <td>2.65</td>\n      <td>0.929853</td>\n      <td>625.0</td>\n      <td>727.472938</td>\n    </tr>\n    <tr>\n      <th>3</th>\n      <td>25088.0</td>\n      <td>0.61</td>\n      <td>2.0</td>\n      <td>3.0</td>\n      <td>3.0</td>\n      <td>62.000000</td>\n      <td>57.0</td>\n      <td>5.47</td>\n      <td>3.38</td>\n      <td>0.919355</td>\n      <td>1861.0</td>\n      <td>1830.478399</td>\n    </tr>\n    <tr>\n      <th>4</th>\n      <td>32406.0</td>\n      <td>1.18</td>\n      <td>1.0</td>\n      <td>6.0</td>\n      <td>1.0</td>\n      <td>61.700001</td>\n      <td>63.0</td>\n      <td>6.72</td>\n      <td>4.13</td>\n      <td>1.021070</td>\n      <td>5315.0</td>\n      <td>5208.796097</td>\n    </tr>\n    <tr>\n      <th>...</th>\n      <td>...</td>\n      <td>...</td>\n      <td>...</td>\n      <td>...</td>\n      <td>...</td>\n      <td>...</td>\n      <td>...</td>\n      <td>...</td>\n      <td>...</td>\n      <td>...</td>\n      <td>...</td>\n      <td>...</td>\n    </tr>\n    <tr>\n      <th>12091</th>\n      <td>26670.0</td>\n      <td>0.90</td>\n      <td>3.0</td>\n      <td>1.0</td>\n      <td>4.0</td>\n      <td>61.200001</td>\n      <td>61.0</td>\n      <td>6.15</td>\n      <td>3.78</td>\n      <td>0.996732</td>\n      <td>3484.0</td>\n      <td>3463.920880</td>\n    </tr>\n    <tr>\n      <th>12092</th>\n      <td>10173.0</td>\n      <td>2.14</td>\n      <td>2.0</td>\n      <td>0.0</td>\n      <td>2.0</td>\n      <td>62.299999</td>\n      <td>59.0</td>\n      <td>8.26</td>\n      <td>5.14</td>\n      <td>0.947030</td>\n      <td>14556.0</td>\n      <td>14171.940941</td>\n    </tr>\n    <tr>\n      <th>12093</th>\n      <td>37734.0</td>\n      <td>0.72</td>\n      <td>4.0</td>\n      <td>2.0</td>\n      <td>4.0</td>\n      <td>62.299999</td>\n      <td>55.0</td>\n      <td>5.74</td>\n      <td>3.57</td>\n      <td>0.882825</td>\n      <td>2949.0</td>\n      <td>2862.178284</td>\n    </tr>\n    <tr>\n      <th>12094</th>\n      <td>3371.0</td>\n      <td>0.93</td>\n      <td>1.0</td>\n      <td>3.0</td>\n      <td>2.0</td>\n      <td>63.799999</td>\n      <td>58.0</td>\n      <td>6.09</td>\n      <td>3.90</td>\n      <td>0.909091</td>\n      <td>4375.0</td>\n      <td>3760.584207</td>\n    </tr>\n    <tr>\n      <th>12095</th>\n      <td>1573.0</td>\n      <td>0.41</td>\n      <td>4.0</td>\n      <td>0.0</td>\n      <td>4.0</td>\n      <td>62.200001</td>\n      <td>55.0</td>\n      <td>4.79</td>\n      <td>2.97</td>\n      <td>0.884244</td>\n      <td>604.0</td>\n      <td>706.310734</td>\n    </tr>\n  </tbody>\n</table>\n<p>12096 rows × 12 columns</p>\n</div>"
     },
     "metadata": {},
     "execution_count": 16
    }
   ],
   "source": [
    "exp_reg106 = setup(data = df, target = 'price', session_id=72048, numeric_features = ['cut', 'color', 'clarity'])\n",
    "lightgbm6 = create_model('lightgbm')\n",
    "lgbm_params = {'num_leaves': np.arange(10,200,10),\n",
    "                        'max_depth': [int(x) for x in np.linspace(10, 110, num = 11)],\n",
    "                        'learning_rate': np.arange(0.1,1,0.1)}\n",
    "tuned_lightgbm6 = tune_model(lightgbm6, custom_grid = lgbm_params)\n",
    "evaluate_model(tuned_lightgbm6)\n",
    "predict_model(tuned_lightgbm6)"
   ]
  },
  {
   "cell_type": "code",
   "execution_count": 100,
   "metadata": {},
   "outputs": [
    {
     "output_type": "stream",
     "name": "stdout",
     "text": [
      "Transformation Pipeline and Model Succesfully Saved\n",
      "You're ready to submit!\n"
     ]
    }
   ],
   "source": [
    "final_lightgbm6 = finalize_model(tuned_lightgbm6)\n",
    "save_model(final_lightgbm6,'Final lightgbm6 Model 19Jun2021')\n",
    "unseen_predictions6 = predict_model(final_lightgbm6, data=data_pred_modified)\n",
    "respuesta6 = unseen_predictions6['Label'].values\n",
    "submission6 = pd.DataFrame({\"id\": range(len(respuesta6)), \"price\": respuesta6})\n",
    "chequeator(submission6, sample)\n",
    "submission6.to_csv('resultado_6.csv', index=False)"
   ]
  },
  {
   "cell_type": "code",
   "execution_count": 104,
   "metadata": {},
   "outputs": [
    {
     "output_type": "display_data",
     "data": {
      "text/plain": "<pandas.io.formats.style.Styler at 0x1537c1710>",
      "text/html": "<style  type=\"text/css\" >\n#T_13587_row10_col0,#T_13587_row10_col1,#T_13587_row10_col2,#T_13587_row10_col3,#T_13587_row10_col4,#T_13587_row10_col5{\n            background:  yellow;\n        }</style><table id=\"T_13587_\" ><thead>    <tr>        <th class=\"blank level0\" ></th>        <th class=\"col_heading level0 col0\" >MAE</th>        <th class=\"col_heading level0 col1\" >MSE</th>        <th class=\"col_heading level0 col2\" >RMSE</th>        <th class=\"col_heading level0 col3\" >R2</th>        <th class=\"col_heading level0 col4\" >RMSLE</th>        <th class=\"col_heading level0 col5\" >MAPE</th>    </tr></thead><tbody>\n                <tr>\n                        <th id=\"T_13587_level0_row0\" class=\"row_heading level0 row0\" >0</th>\n                        <td id=\"T_13587_row0_col0\" class=\"data row0 col0\" >293.3085</td>\n                        <td id=\"T_13587_row0_col1\" class=\"data row0 col1\" >319311.2233</td>\n                        <td id=\"T_13587_row0_col2\" class=\"data row0 col2\" >565.0763</td>\n                        <td id=\"T_13587_row0_col3\" class=\"data row0 col3\" >0.9808</td>\n                        <td id=\"T_13587_row0_col4\" class=\"data row0 col4\" >0.1089</td>\n                        <td id=\"T_13587_row0_col5\" class=\"data row0 col5\" >0.0839</td>\n            </tr>\n            <tr>\n                        <th id=\"T_13587_level0_row1\" class=\"row_heading level0 row1\" >1</th>\n                        <td id=\"T_13587_row1_col0\" class=\"data row1 col0\" >279.2883</td>\n                        <td id=\"T_13587_row1_col1\" class=\"data row1 col1\" >279547.3293</td>\n                        <td id=\"T_13587_row1_col2\" class=\"data row1 col2\" >528.7224</td>\n                        <td id=\"T_13587_row1_col3\" class=\"data row1 col3\" >0.9822</td>\n                        <td id=\"T_13587_row1_col4\" class=\"data row1 col4\" >0.1095</td>\n                        <td id=\"T_13587_row1_col5\" class=\"data row1 col5\" >0.0831</td>\n            </tr>\n            <tr>\n                        <th id=\"T_13587_level0_row2\" class=\"row_heading level0 row2\" >2</th>\n                        <td id=\"T_13587_row2_col0\" class=\"data row2 col0\" >278.6666</td>\n                        <td id=\"T_13587_row2_col1\" class=\"data row2 col1\" >256898.3548</td>\n                        <td id=\"T_13587_row2_col2\" class=\"data row2 col2\" >506.8514</td>\n                        <td id=\"T_13587_row2_col3\" class=\"data row2 col3\" >0.9839</td>\n                        <td id=\"T_13587_row2_col4\" class=\"data row2 col4\" >0.1042</td>\n                        <td id=\"T_13587_row2_col5\" class=\"data row2 col5\" >0.0804</td>\n            </tr>\n            <tr>\n                        <th id=\"T_13587_level0_row3\" class=\"row_heading level0 row3\" >3</th>\n                        <td id=\"T_13587_row3_col0\" class=\"data row3 col0\" >274.5182</td>\n                        <td id=\"T_13587_row3_col1\" class=\"data row3 col1\" >273134.6741</td>\n                        <td id=\"T_13587_row3_col2\" class=\"data row3 col2\" >522.6229</td>\n                        <td id=\"T_13587_row3_col3\" class=\"data row3 col3\" >0.9826</td>\n                        <td id=\"T_13587_row3_col4\" class=\"data row3 col4\" >0.1053</td>\n                        <td id=\"T_13587_row3_col5\" class=\"data row3 col5\" >0.0823</td>\n            </tr>\n            <tr>\n                        <th id=\"T_13587_level0_row4\" class=\"row_heading level0 row4\" >4</th>\n                        <td id=\"T_13587_row4_col0\" class=\"data row4 col0\" >297.6205</td>\n                        <td id=\"T_13587_row4_col1\" class=\"data row4 col1\" >378433.4339</td>\n                        <td id=\"T_13587_row4_col2\" class=\"data row4 col2\" >615.1694</td>\n                        <td id=\"T_13587_row4_col3\" class=\"data row4 col3\" >0.9759</td>\n                        <td id=\"T_13587_row4_col4\" class=\"data row4 col4\" >0.1087</td>\n                        <td id=\"T_13587_row4_col5\" class=\"data row4 col5\" >0.0826</td>\n            </tr>\n            <tr>\n                        <th id=\"T_13587_level0_row5\" class=\"row_heading level0 row5\" >5</th>\n                        <td id=\"T_13587_row5_col0\" class=\"data row5 col0\" >278.2426</td>\n                        <td id=\"T_13587_row5_col1\" class=\"data row5 col1\" >262910.5156</td>\n                        <td id=\"T_13587_row5_col2\" class=\"data row5 col2\" >512.7480</td>\n                        <td id=\"T_13587_row5_col3\" class=\"data row5 col3\" >0.9838</td>\n                        <td id=\"T_13587_row5_col4\" class=\"data row5 col4\" >0.1048</td>\n                        <td id=\"T_13587_row5_col5\" class=\"data row5 col5\" >0.0823</td>\n            </tr>\n            <tr>\n                        <th id=\"T_13587_level0_row6\" class=\"row_heading level0 row6\" >6</th>\n                        <td id=\"T_13587_row6_col0\" class=\"data row6 col0\" >290.0015</td>\n                        <td id=\"T_13587_row6_col1\" class=\"data row6 col1\" >310413.2956</td>\n                        <td id=\"T_13587_row6_col2\" class=\"data row6 col2\" >557.1475</td>\n                        <td id=\"T_13587_row6_col3\" class=\"data row6 col3\" >0.9802</td>\n                        <td id=\"T_13587_row6_col4\" class=\"data row6 col4\" >0.1090</td>\n                        <td id=\"T_13587_row6_col5\" class=\"data row6 col5\" >0.0842</td>\n            </tr>\n            <tr>\n                        <th id=\"T_13587_level0_row7\" class=\"row_heading level0 row7\" >7</th>\n                        <td id=\"T_13587_row7_col0\" class=\"data row7 col0\" >286.9162</td>\n                        <td id=\"T_13587_row7_col1\" class=\"data row7 col1\" >294947.7634</td>\n                        <td id=\"T_13587_row7_col2\" class=\"data row7 col2\" >543.0909</td>\n                        <td id=\"T_13587_row7_col3\" class=\"data row7 col3\" >0.9820</td>\n                        <td id=\"T_13587_row7_col4\" class=\"data row7 col4\" >0.1134</td>\n                        <td id=\"T_13587_row7_col5\" class=\"data row7 col5\" >0.0856</td>\n            </tr>\n            <tr>\n                        <th id=\"T_13587_level0_row8\" class=\"row_heading level0 row8\" >8</th>\n                        <td id=\"T_13587_row8_col0\" class=\"data row8 col0\" >270.7615</td>\n                        <td id=\"T_13587_row8_col1\" class=\"data row8 col1\" >270541.1290</td>\n                        <td id=\"T_13587_row8_col2\" class=\"data row8 col2\" >520.1357</td>\n                        <td id=\"T_13587_row8_col3\" class=\"data row8 col3\" >0.9826</td>\n                        <td id=\"T_13587_row8_col4\" class=\"data row8 col4\" >0.1045</td>\n                        <td id=\"T_13587_row8_col5\" class=\"data row8 col5\" >0.0813</td>\n            </tr>\n            <tr>\n                        <th id=\"T_13587_level0_row9\" class=\"row_heading level0 row9\" >9</th>\n                        <td id=\"T_13587_row9_col0\" class=\"data row9 col0\" >293.0947</td>\n                        <td id=\"T_13587_row9_col1\" class=\"data row9 col1\" >316347.4072</td>\n                        <td id=\"T_13587_row9_col2\" class=\"data row9 col2\" >562.4477</td>\n                        <td id=\"T_13587_row9_col3\" class=\"data row9 col3\" >0.9807</td>\n                        <td id=\"T_13587_row9_col4\" class=\"data row9 col4\" >0.1051</td>\n                        <td id=\"T_13587_row9_col5\" class=\"data row9 col5\" >0.0819</td>\n            </tr>\n            <tr>\n                        <th id=\"T_13587_level0_row10\" class=\"row_heading level0 row10\" >Mean</th>\n                        <td id=\"T_13587_row10_col0\" class=\"data row10 col0\" >284.2419</td>\n                        <td id=\"T_13587_row10_col1\" class=\"data row10 col1\" >296248.5126</td>\n                        <td id=\"T_13587_row10_col2\" class=\"data row10 col2\" >543.4012</td>\n                        <td id=\"T_13587_row10_col3\" class=\"data row10 col3\" >0.9815</td>\n                        <td id=\"T_13587_row10_col4\" class=\"data row10 col4\" >0.1073</td>\n                        <td id=\"T_13587_row10_col5\" class=\"data row10 col5\" >0.0828</td>\n            </tr>\n            <tr>\n                        <th id=\"T_13587_level0_row11\" class=\"row_heading level0 row11\" >SD</th>\n                        <td id=\"T_13587_row11_col0\" class=\"data row11 col0\" >8.6474</td>\n                        <td id=\"T_13587_row11_col1\" class=\"data row11 col1\" >34679.1783</td>\n                        <td id=\"T_13587_row11_col2\" class=\"data row11 col2\" >31.0424</td>\n                        <td id=\"T_13587_row11_col3\" class=\"data row11 col3\" >0.0022</td>\n                        <td id=\"T_13587_row11_col4\" class=\"data row11 col4\" >0.0029</td>\n                        <td id=\"T_13587_row11_col5\" class=\"data row11 col5\" >0.0014</td>\n            </tr>\n    </tbody></table>"
     },
     "metadata": {}
    },
    {
     "output_type": "display_data",
     "data": {
      "text/plain": "interactive(children=(ToggleButtons(description='Plot Type:', icons=('',), options=(('Hyperparameters', 'param…",
      "application/vnd.jupyter.widget-view+json": {
       "version_major": 2,
       "version_minor": 0,
       "model_id": "913acf79fd1b4344a4b6b31cc79e8e18"
      }
     },
     "metadata": {}
    },
    {
     "output_type": "display_data",
     "data": {
      "text/plain": "<pandas.io.formats.style.Styler at 0x151cbd790>",
      "text/html": "<style  type=\"text/css\" >\n</style><table id=\"T_50e7a_\" ><thead>    <tr>        <th class=\"blank level0\" ></th>        <th class=\"col_heading level0 col0\" >Model</th>        <th class=\"col_heading level0 col1\" >MAE</th>        <th class=\"col_heading level0 col2\" >MSE</th>        <th class=\"col_heading level0 col3\" >RMSE</th>        <th class=\"col_heading level0 col4\" >R2</th>        <th class=\"col_heading level0 col5\" >RMSLE</th>        <th class=\"col_heading level0 col6\" >MAPE</th>    </tr></thead><tbody>\n                <tr>\n                        <th id=\"T_50e7a_level0_row0\" class=\"row_heading level0 row0\" >0</th>\n                        <td id=\"T_50e7a_row0_col0\" class=\"data row0 col0\" >Light Gradient Boosting Machine</td>\n                        <td id=\"T_50e7a_row0_col1\" class=\"data row0 col1\" >275.4722</td>\n                        <td id=\"T_50e7a_row0_col2\" class=\"data row0 col2\" >266385.8196</td>\n                        <td id=\"T_50e7a_row0_col3\" class=\"data row0 col3\" >516.1258</td>\n                        <td id=\"T_50e7a_row0_col4\" class=\"data row0 col4\" >0.9828</td>\n                        <td id=\"T_50e7a_row0_col5\" class=\"data row0 col5\" >0.1069</td>\n                        <td id=\"T_50e7a_row0_col6\" class=\"data row0 col6\" >0.0836</td>\n            </tr>\n    </tbody></table>"
     },
     "metadata": {}
    },
    {
     "output_type": "execute_result",
     "data": {
      "text/plain": [
       "       Unnamed 0  carat  cut  color  clarity      depth  table     y     z  \\\n",
       "0        23113.0   1.74  4.0    5.0      1.0  62.299999   57.0  7.70  4.83   \n",
       "1        14246.0   1.18  3.0    5.0      1.0  62.500000   60.0  6.70  4.20   \n",
       "2        20539.0   0.53  4.0    5.0      3.0  61.000000   57.0  5.23  3.20   \n",
       "3        22851.0   0.82  4.0    3.0      4.0  61.500000   56.0  6.05  3.71   \n",
       "4         3922.0   0.41  0.0    3.0      5.0  64.699997   56.0  4.72  3.04   \n",
       "...          ...    ...  ...    ...      ...        ...    ...   ...   ...   \n",
       "12091      906.0   1.00  1.0    0.0      6.0  63.500000   59.0  6.34  4.01   \n",
       "12092    12475.0   0.56  4.0    2.0      2.0  61.900002   58.0  5.30  3.27   \n",
       "12093    40081.0   0.55  1.0    0.0      3.0  64.099998   54.0  5.21  3.33   \n",
       "12094     1024.0   2.10  0.0    3.0      0.0  67.400002   59.0  7.76  5.24   \n",
       "12095    28412.0   0.52  4.0    1.0      2.0  61.799999   54.0  5.19  3.20   \n",
       "\n",
       "       shape_ratio    price         Label  \n",
       "0         0.914928  10085.0  12144.808296  \n",
       "1         0.960000   5181.0   5069.231569  \n",
       "2         0.934426   1727.0   1741.572599  \n",
       "3         0.910569   3652.0   3807.412740  \n",
       "4         0.865533    833.0   1025.744165  \n",
       "...            ...      ...           ...  \n",
       "12091     0.929134   4633.0   4475.986591  \n",
       "12092     0.936995   1343.0   1358.353947  \n",
       "12093     0.842434   1034.0   1144.096684  \n",
       "12094     0.875371   6597.0   6834.566538  \n",
       "12095     0.873786   1094.0   1073.947064  \n",
       "\n",
       "[12096 rows x 12 columns]"
      ],
      "text/html": "<div>\n<style scoped>\n    .dataframe tbody tr th:only-of-type {\n        vertical-align: middle;\n    }\n\n    .dataframe tbody tr th {\n        vertical-align: top;\n    }\n\n    .dataframe thead th {\n        text-align: right;\n    }\n</style>\n<table border=\"1\" class=\"dataframe\">\n  <thead>\n    <tr style=\"text-align: right;\">\n      <th></th>\n      <th>Unnamed 0</th>\n      <th>carat</th>\n      <th>cut</th>\n      <th>color</th>\n      <th>clarity</th>\n      <th>depth</th>\n      <th>table</th>\n      <th>y</th>\n      <th>z</th>\n      <th>shape_ratio</th>\n      <th>price</th>\n      <th>Label</th>\n    </tr>\n  </thead>\n  <tbody>\n    <tr>\n      <th>0</th>\n      <td>23113.0</td>\n      <td>1.74</td>\n      <td>4.0</td>\n      <td>5.0</td>\n      <td>1.0</td>\n      <td>62.299999</td>\n      <td>57.0</td>\n      <td>7.70</td>\n      <td>4.83</td>\n      <td>0.914928</td>\n      <td>10085.0</td>\n      <td>12144.808296</td>\n    </tr>\n    <tr>\n      <th>1</th>\n      <td>14246.0</td>\n      <td>1.18</td>\n      <td>3.0</td>\n      <td>5.0</td>\n      <td>1.0</td>\n      <td>62.500000</td>\n      <td>60.0</td>\n      <td>6.70</td>\n      <td>4.20</td>\n      <td>0.960000</td>\n      <td>5181.0</td>\n      <td>5069.231569</td>\n    </tr>\n    <tr>\n      <th>2</th>\n      <td>20539.0</td>\n      <td>0.53</td>\n      <td>4.0</td>\n      <td>5.0</td>\n      <td>3.0</td>\n      <td>61.000000</td>\n      <td>57.0</td>\n      <td>5.23</td>\n      <td>3.20</td>\n      <td>0.934426</td>\n      <td>1727.0</td>\n      <td>1741.572599</td>\n    </tr>\n    <tr>\n      <th>3</th>\n      <td>22851.0</td>\n      <td>0.82</td>\n      <td>4.0</td>\n      <td>3.0</td>\n      <td>4.0</td>\n      <td>61.500000</td>\n      <td>56.0</td>\n      <td>6.05</td>\n      <td>3.71</td>\n      <td>0.910569</td>\n      <td>3652.0</td>\n      <td>3807.412740</td>\n    </tr>\n    <tr>\n      <th>4</th>\n      <td>3922.0</td>\n      <td>0.41</td>\n      <td>0.0</td>\n      <td>3.0</td>\n      <td>5.0</td>\n      <td>64.699997</td>\n      <td>56.0</td>\n      <td>4.72</td>\n      <td>3.04</td>\n      <td>0.865533</td>\n      <td>833.0</td>\n      <td>1025.744165</td>\n    </tr>\n    <tr>\n      <th>...</th>\n      <td>...</td>\n      <td>...</td>\n      <td>...</td>\n      <td>...</td>\n      <td>...</td>\n      <td>...</td>\n      <td>...</td>\n      <td>...</td>\n      <td>...</td>\n      <td>...</td>\n      <td>...</td>\n      <td>...</td>\n    </tr>\n    <tr>\n      <th>12091</th>\n      <td>906.0</td>\n      <td>1.00</td>\n      <td>1.0</td>\n      <td>0.0</td>\n      <td>6.0</td>\n      <td>63.500000</td>\n      <td>59.0</td>\n      <td>6.34</td>\n      <td>4.01</td>\n      <td>0.929134</td>\n      <td>4633.0</td>\n      <td>4475.986591</td>\n    </tr>\n    <tr>\n      <th>12092</th>\n      <td>12475.0</td>\n      <td>0.56</td>\n      <td>4.0</td>\n      <td>2.0</td>\n      <td>2.0</td>\n      <td>61.900002</td>\n      <td>58.0</td>\n      <td>5.30</td>\n      <td>3.27</td>\n      <td>0.936995</td>\n      <td>1343.0</td>\n      <td>1358.353947</td>\n    </tr>\n    <tr>\n      <th>12093</th>\n      <td>40081.0</td>\n      <td>0.55</td>\n      <td>1.0</td>\n      <td>0.0</td>\n      <td>3.0</td>\n      <td>64.099998</td>\n      <td>54.0</td>\n      <td>5.21</td>\n      <td>3.33</td>\n      <td>0.842434</td>\n      <td>1034.0</td>\n      <td>1144.096684</td>\n    </tr>\n    <tr>\n      <th>12094</th>\n      <td>1024.0</td>\n      <td>2.10</td>\n      <td>0.0</td>\n      <td>3.0</td>\n      <td>0.0</td>\n      <td>67.400002</td>\n      <td>59.0</td>\n      <td>7.76</td>\n      <td>5.24</td>\n      <td>0.875371</td>\n      <td>6597.0</td>\n      <td>6834.566538</td>\n    </tr>\n    <tr>\n      <th>12095</th>\n      <td>28412.0</td>\n      <td>0.52</td>\n      <td>4.0</td>\n      <td>1.0</td>\n      <td>2.0</td>\n      <td>61.799999</td>\n      <td>54.0</td>\n      <td>5.19</td>\n      <td>3.20</td>\n      <td>0.873786</td>\n      <td>1094.0</td>\n      <td>1073.947064</td>\n    </tr>\n  </tbody>\n</table>\n<p>12096 rows × 12 columns</p>\n</div>"
     },
     "metadata": {},
     "execution_count": 104
    }
   ],
   "source": [
    "exp_reg107 = setup(data = df, target = 'price', session_id=65, numeric_features = ['cut', 'color', 'clarity'])\n",
    "lightgbm7 = create_model('lightgbm')\n",
    "lgbm_params = {'num_leaves': np.arange(10,200,10),\n",
    "                        'max_depth': [int(x) for x in np.linspace(10, 110, num = 11)],\n",
    "                        'learning_rate': np.arange(0.1,1,0.1)}\n",
    "tuned_lightgbm7 = tune_model(lightgbm7, custom_grid = lgbm_params)\n",
    "evaluate_model(tuned_lightgbm7)\n",
    "predict_model(tuned_lightgbm7)"
   ]
  },
  {
   "cell_type": "code",
   "execution_count": 105,
   "metadata": {},
   "outputs": [
    {
     "output_type": "stream",
     "name": "stdout",
     "text": [
      "Transformation Pipeline and Model Succesfully Saved\n",
      "You're ready to submit!\n"
     ]
    }
   ],
   "source": [
    "final_lightgbm7 = finalize_model(tuned_lightgbm7)\n",
    "save_model(final_lightgbm7,'Final lightgbm7 Model 19Jun2021')\n",
    "unseen_predictions7 = predict_model(final_lightgbm7, data=data_pred_modified)\n",
    "respuesta7 = unseen_predictions7['Label'].values\n",
    "submission7 = pd.DataFrame({\"id\": range(len(respuesta7)), \"price\": respuesta7})\n",
    "chequeator(submission7, sample)\n",
    "submission7.to_csv('resultado_7.csv', index=False)"
   ]
  },
  {
   "cell_type": "code",
   "execution_count": 106,
   "metadata": {},
   "outputs": [
    {
     "output_type": "execute_result",
     "data": {
      "text/plain": [
       "       Unnamed: 0  carat  cut  color  clarity  depth  table     x     y     z  \\\n",
       "0               0   1.21    4      2        3   63.0   57.0  6.73  6.70  4.23   \n",
       "1               1   0.28    2      6        5   64.0   56.0  4.14  4.17  2.66   \n",
       "2               2   0.42    3      4        4   61.2   58.0  4.86  4.82  2.96   \n",
       "3               3   0.26    4      2        7   61.1   57.0  4.16  4.12  2.53   \n",
       "4               4   1.10    1      3        2   63.4   57.0  6.52  6.55  4.14   \n",
       "...           ...    ...  ...    ...      ...    ...    ...   ...   ...   ...   \n",
       "40340       40340   1.55    3      2        3   61.3   61.0  7.46  7.39  4.55   \n",
       "40341       40341   0.36    4      6        2   60.6   56.0  4.58  4.63  2.79   \n",
       "40342       40342   0.57    2      1        3   62.2   55.0  5.33  5.34  3.32   \n",
       "40343       40343   1.01    2      4        7   59.6   62.0  6.47  6.56  3.88   \n",
       "40344       40344   0.54    4      5        1   60.4   57.0  5.33  5.27  3.20   \n",
       "\n",
       "       price  shape_ratio  \n",
       "0       6134     0.904762  \n",
       "1        532     0.875000  \n",
       "2       1103     0.947712  \n",
       "3        600     0.932897  \n",
       "4       4997     0.899054  \n",
       "...      ...          ...  \n",
       "40340  11708     0.995106  \n",
       "40341    619     0.924092  \n",
       "40342   1267     0.884244  \n",
       "40343   9965     1.040268  \n",
       "40344   1340     0.943709  \n",
       "\n",
       "[40317 rows x 12 columns]"
      ],
      "text/html": "<div>\n<style scoped>\n    .dataframe tbody tr th:only-of-type {\n        vertical-align: middle;\n    }\n\n    .dataframe tbody tr th {\n        vertical-align: top;\n    }\n\n    .dataframe thead th {\n        text-align: right;\n    }\n</style>\n<table border=\"1\" class=\"dataframe\">\n  <thead>\n    <tr style=\"text-align: right;\">\n      <th></th>\n      <th>Unnamed: 0</th>\n      <th>carat</th>\n      <th>cut</th>\n      <th>color</th>\n      <th>clarity</th>\n      <th>depth</th>\n      <th>table</th>\n      <th>x</th>\n      <th>y</th>\n      <th>z</th>\n      <th>price</th>\n      <th>shape_ratio</th>\n    </tr>\n  </thead>\n  <tbody>\n    <tr>\n      <th>0</th>\n      <td>0</td>\n      <td>1.21</td>\n      <td>4</td>\n      <td>2</td>\n      <td>3</td>\n      <td>63.0</td>\n      <td>57.0</td>\n      <td>6.73</td>\n      <td>6.70</td>\n      <td>4.23</td>\n      <td>6134</td>\n      <td>0.904762</td>\n    </tr>\n    <tr>\n      <th>1</th>\n      <td>1</td>\n      <td>0.28</td>\n      <td>2</td>\n      <td>6</td>\n      <td>5</td>\n      <td>64.0</td>\n      <td>56.0</td>\n      <td>4.14</td>\n      <td>4.17</td>\n      <td>2.66</td>\n      <td>532</td>\n      <td>0.875000</td>\n    </tr>\n    <tr>\n      <th>2</th>\n      <td>2</td>\n      <td>0.42</td>\n      <td>3</td>\n      <td>4</td>\n      <td>4</td>\n      <td>61.2</td>\n      <td>58.0</td>\n      <td>4.86</td>\n      <td>4.82</td>\n      <td>2.96</td>\n      <td>1103</td>\n      <td>0.947712</td>\n    </tr>\n    <tr>\n      <th>3</th>\n      <td>3</td>\n      <td>0.26</td>\n      <td>4</td>\n      <td>2</td>\n      <td>7</td>\n      <td>61.1</td>\n      <td>57.0</td>\n      <td>4.16</td>\n      <td>4.12</td>\n      <td>2.53</td>\n      <td>600</td>\n      <td>0.932897</td>\n    </tr>\n    <tr>\n      <th>4</th>\n      <td>4</td>\n      <td>1.10</td>\n      <td>1</td>\n      <td>3</td>\n      <td>2</td>\n      <td>63.4</td>\n      <td>57.0</td>\n      <td>6.52</td>\n      <td>6.55</td>\n      <td>4.14</td>\n      <td>4997</td>\n      <td>0.899054</td>\n    </tr>\n    <tr>\n      <th>...</th>\n      <td>...</td>\n      <td>...</td>\n      <td>...</td>\n      <td>...</td>\n      <td>...</td>\n      <td>...</td>\n      <td>...</td>\n      <td>...</td>\n      <td>...</td>\n      <td>...</td>\n      <td>...</td>\n      <td>...</td>\n    </tr>\n    <tr>\n      <th>40340</th>\n      <td>40340</td>\n      <td>1.55</td>\n      <td>3</td>\n      <td>2</td>\n      <td>3</td>\n      <td>61.3</td>\n      <td>61.0</td>\n      <td>7.46</td>\n      <td>7.39</td>\n      <td>4.55</td>\n      <td>11708</td>\n      <td>0.995106</td>\n    </tr>\n    <tr>\n      <th>40341</th>\n      <td>40341</td>\n      <td>0.36</td>\n      <td>4</td>\n      <td>6</td>\n      <td>2</td>\n      <td>60.6</td>\n      <td>56.0</td>\n      <td>4.58</td>\n      <td>4.63</td>\n      <td>2.79</td>\n      <td>619</td>\n      <td>0.924092</td>\n    </tr>\n    <tr>\n      <th>40342</th>\n      <td>40342</td>\n      <td>0.57</td>\n      <td>2</td>\n      <td>1</td>\n      <td>3</td>\n      <td>62.2</td>\n      <td>55.0</td>\n      <td>5.33</td>\n      <td>5.34</td>\n      <td>3.32</td>\n      <td>1267</td>\n      <td>0.884244</td>\n    </tr>\n    <tr>\n      <th>40343</th>\n      <td>40343</td>\n      <td>1.01</td>\n      <td>2</td>\n      <td>4</td>\n      <td>7</td>\n      <td>59.6</td>\n      <td>62.0</td>\n      <td>6.47</td>\n      <td>6.56</td>\n      <td>3.88</td>\n      <td>9965</td>\n      <td>1.040268</td>\n    </tr>\n    <tr>\n      <th>40344</th>\n      <td>40344</td>\n      <td>0.54</td>\n      <td>4</td>\n      <td>5</td>\n      <td>1</td>\n      <td>60.4</td>\n      <td>57.0</td>\n      <td>5.33</td>\n      <td>5.27</td>\n      <td>3.20</td>\n      <td>1340</td>\n      <td>0.943709</td>\n    </tr>\n  </tbody>\n</table>\n<p>40317 rows × 12 columns</p>\n</div>"
     },
     "metadata": {},
     "execution_count": 106
    }
   ],
   "source": [
    "df"
   ]
  },
  {
   "cell_type": "code",
   "execution_count": 20,
   "metadata": {},
   "outputs": [],
   "source": [
    "df = data_modified.copy()\n",
    "df = df.drop(df[df[\"x\"]==0].index)\n",
    "df = df.drop(df[df[\"y\"]==0].index)\n",
    "df = df.drop(df[df[\"z\"]==0].index)\n",
    "df = df[(df[\"depth\"]<75)&(df[\"depth\"]>45)]\n",
    "df = df[(df[\"table\"]<80)&(df[\"table\"]>40)]\n",
    "df = df[(df[\"x\"]<30)]\n",
    "df = df[(df[\"y\"]<30)]\n",
    "df = df[(df[\"z\"]<30)&(df[\"z\"]>2)]\n",
    "df['peso_esp'] = df['carat'] / (df['x'] * df['y'] * df['z'])"
   ]
  },
  {
   "cell_type": "code",
   "execution_count": 10,
   "metadata": {},
   "outputs": [
    {
     "output_type": "display_data",
     "data": {
      "text/plain": "<pandas.io.formats.style.Styler at 0x1468ce710>",
      "text/html": "<style  type=\"text/css\" >\n#T_28862_row10_col0,#T_28862_row10_col1,#T_28862_row10_col2,#T_28862_row10_col3,#T_28862_row10_col4,#T_28862_row10_col5{\n            background:  yellow;\n        }</style><table id=\"T_28862_\" ><thead>    <tr>        <th class=\"blank level0\" ></th>        <th class=\"col_heading level0 col0\" >MAE</th>        <th class=\"col_heading level0 col1\" >MSE</th>        <th class=\"col_heading level0 col2\" >RMSE</th>        <th class=\"col_heading level0 col3\" >R2</th>        <th class=\"col_heading level0 col4\" >RMSLE</th>        <th class=\"col_heading level0 col5\" >MAPE</th>    </tr></thead><tbody>\n                <tr>\n                        <th id=\"T_28862_level0_row0\" class=\"row_heading level0 row0\" >0</th>\n                        <td id=\"T_28862_row0_col0\" class=\"data row0 col0\" >281.2034</td>\n                        <td id=\"T_28862_row0_col1\" class=\"data row0 col1\" >298508.8305</td>\n                        <td id=\"T_28862_row0_col2\" class=\"data row0 col2\" >546.3596</td>\n                        <td id=\"T_28862_row0_col3\" class=\"data row0 col3\" >0.9802</td>\n                        <td id=\"T_28862_row0_col4\" class=\"data row0 col4\" >0.1051</td>\n                        <td id=\"T_28862_row0_col5\" class=\"data row0 col5\" >0.0809</td>\n            </tr>\n            <tr>\n                        <th id=\"T_28862_level0_row1\" class=\"row_heading level0 row1\" >1</th>\n                        <td id=\"T_28862_row1_col0\" class=\"data row1 col0\" >271.9961</td>\n                        <td id=\"T_28862_row1_col1\" class=\"data row1 col1\" >276258.0040</td>\n                        <td id=\"T_28862_row1_col2\" class=\"data row1 col2\" >525.6025</td>\n                        <td id=\"T_28862_row1_col3\" class=\"data row1 col3\" >0.9819</td>\n                        <td id=\"T_28862_row1_col4\" class=\"data row1 col4\" >0.1034</td>\n                        <td id=\"T_28862_row1_col5\" class=\"data row1 col5\" >0.0782</td>\n            </tr>\n            <tr>\n                        <th id=\"T_28862_level0_row2\" class=\"row_heading level0 row2\" >2</th>\n                        <td id=\"T_28862_row2_col0\" class=\"data row2 col0\" >287.0079</td>\n                        <td id=\"T_28862_row2_col1\" class=\"data row2 col1\" >307994.4091</td>\n                        <td id=\"T_28862_row2_col2\" class=\"data row2 col2\" >554.9724</td>\n                        <td id=\"T_28862_row2_col3\" class=\"data row2 col3\" >0.9813</td>\n                        <td id=\"T_28862_row2_col4\" class=\"data row2 col4\" >0.0993</td>\n                        <td id=\"T_28862_row2_col5\" class=\"data row2 col5\" >0.0780</td>\n            </tr>\n            <tr>\n                        <th id=\"T_28862_level0_row3\" class=\"row_heading level0 row3\" >3</th>\n                        <td id=\"T_28862_row3_col0\" class=\"data row3 col0\" >281.9845</td>\n                        <td id=\"T_28862_row3_col1\" class=\"data row3 col1\" >302664.1365</td>\n                        <td id=\"T_28862_row3_col2\" class=\"data row3 col2\" >550.1492</td>\n                        <td id=\"T_28862_row3_col3\" class=\"data row3 col3\" >0.9811</td>\n                        <td id=\"T_28862_row3_col4\" class=\"data row3 col4\" >0.1050</td>\n                        <td id=\"T_28862_row3_col5\" class=\"data row3 col5\" >0.0792</td>\n            </tr>\n            <tr>\n                        <th id=\"T_28862_level0_row4\" class=\"row_heading level0 row4\" >4</th>\n                        <td id=\"T_28862_row4_col0\" class=\"data row4 col0\" >276.4356</td>\n                        <td id=\"T_28862_row4_col1\" class=\"data row4 col1\" >268513.6503</td>\n                        <td id=\"T_28862_row4_col2\" class=\"data row4 col2\" >518.1830</td>\n                        <td id=\"T_28862_row4_col3\" class=\"data row4 col3\" >0.9836</td>\n                        <td id=\"T_28862_row4_col4\" class=\"data row4 col4\" >0.0999</td>\n                        <td id=\"T_28862_row4_col5\" class=\"data row4 col5\" >0.0781</td>\n            </tr>\n            <tr>\n                        <th id=\"T_28862_level0_row5\" class=\"row_heading level0 row5\" >5</th>\n                        <td id=\"T_28862_row5_col0\" class=\"data row5 col0\" >277.9205</td>\n                        <td id=\"T_28862_row5_col1\" class=\"data row5 col1\" >282857.3771</td>\n                        <td id=\"T_28862_row5_col2\" class=\"data row5 col2\" >531.8434</td>\n                        <td id=\"T_28862_row5_col3\" class=\"data row5 col3\" >0.9819</td>\n                        <td id=\"T_28862_row5_col4\" class=\"data row5 col4\" >0.1036</td>\n                        <td id=\"T_28862_row5_col5\" class=\"data row5 col5\" >0.0803</td>\n            </tr>\n            <tr>\n                        <th id=\"T_28862_level0_row6\" class=\"row_heading level0 row6\" >6</th>\n                        <td id=\"T_28862_row6_col0\" class=\"data row6 col0\" >273.8413</td>\n                        <td id=\"T_28862_row6_col1\" class=\"data row6 col1\" >296460.8828</td>\n                        <td id=\"T_28862_row6_col2\" class=\"data row6 col2\" >544.4822</td>\n                        <td id=\"T_28862_row6_col3\" class=\"data row6 col3\" >0.9814</td>\n                        <td id=\"T_28862_row6_col4\" class=\"data row6 col4\" >0.1014</td>\n                        <td id=\"T_28862_row6_col5\" class=\"data row6 col5\" >0.0775</td>\n            </tr>\n            <tr>\n                        <th id=\"T_28862_level0_row7\" class=\"row_heading level0 row7\" >7</th>\n                        <td id=\"T_28862_row7_col0\" class=\"data row7 col0\" >275.5288</td>\n                        <td id=\"T_28862_row7_col1\" class=\"data row7 col1\" >265862.2856</td>\n                        <td id=\"T_28862_row7_col2\" class=\"data row7 col2\" >515.6184</td>\n                        <td id=\"T_28862_row7_col3\" class=\"data row7 col3\" >0.9824</td>\n                        <td id=\"T_28862_row7_col4\" class=\"data row7 col4\" >0.1006</td>\n                        <td id=\"T_28862_row7_col5\" class=\"data row7 col5\" >0.0778</td>\n            </tr>\n            <tr>\n                        <th id=\"T_28862_level0_row8\" class=\"row_heading level0 row8\" >8</th>\n                        <td id=\"T_28862_row8_col0\" class=\"data row8 col0\" >279.3553</td>\n                        <td id=\"T_28862_row8_col1\" class=\"data row8 col1\" >293314.9493</td>\n                        <td id=\"T_28862_row8_col2\" class=\"data row8 col2\" >541.5856</td>\n                        <td id=\"T_28862_row8_col3\" class=\"data row8 col3\" >0.9810</td>\n                        <td id=\"T_28862_row8_col4\" class=\"data row8 col4\" >0.1016</td>\n                        <td id=\"T_28862_row8_col5\" class=\"data row8 col5\" >0.0796</td>\n            </tr>\n            <tr>\n                        <th id=\"T_28862_level0_row9\" class=\"row_heading level0 row9\" >9</th>\n                        <td id=\"T_28862_row9_col0\" class=\"data row9 col0\" >292.3112</td>\n                        <td id=\"T_28862_row9_col1\" class=\"data row9 col1\" >340594.6118</td>\n                        <td id=\"T_28862_row9_col2\" class=\"data row9 col2\" >583.6048</td>\n                        <td id=\"T_28862_row9_col3\" class=\"data row9 col3\" >0.9784</td>\n                        <td id=\"T_28862_row9_col4\" class=\"data row9 col4\" >0.1045</td>\n                        <td id=\"T_28862_row9_col5\" class=\"data row9 col5\" >0.0794</td>\n            </tr>\n            <tr>\n                        <th id=\"T_28862_level0_row10\" class=\"row_heading level0 row10\" >Mean</th>\n                        <td id=\"T_28862_row10_col0\" class=\"data row10 col0\" >279.7584</td>\n                        <td id=\"T_28862_row10_col1\" class=\"data row10 col1\" >293302.9137</td>\n                        <td id=\"T_28862_row10_col2\" class=\"data row10 col2\" >541.2401</td>\n                        <td id=\"T_28862_row10_col3\" class=\"data row10 col3\" >0.9813</td>\n                        <td id=\"T_28862_row10_col4\" class=\"data row10 col4\" >0.1024</td>\n                        <td id=\"T_28862_row10_col5\" class=\"data row10 col5\" >0.0789</td>\n            </tr>\n            <tr>\n                        <th id=\"T_28862_level0_row11\" class=\"row_heading level0 row11\" >SD</th>\n                        <td id=\"T_28862_row11_col0\" class=\"data row11 col0\" >5.8729</td>\n                        <td id=\"T_28862_row11_col1\" class=\"data row11 col1\" >20842.7099</td>\n                        <td id=\"T_28862_row11_col2\" class=\"data row11 col2\" >19.0276</td>\n                        <td id=\"T_28862_row11_col3\" class=\"data row11 col3\" >0.0013</td>\n                        <td id=\"T_28862_row11_col4\" class=\"data row11 col4\" >0.0020</td>\n                        <td id=\"T_28862_row11_col5\" class=\"data row11 col5\" >0.0011</td>\n            </tr>\n    </tbody></table>"
     },
     "metadata": {}
    },
    {
     "output_type": "display_data",
     "data": {
      "text/plain": "interactive(children=(ToggleButtons(description='Plot Type:', icons=('',), options=(('Hyperparameters', 'param…",
      "application/vnd.jupyter.widget-view+json": {
       "version_major": 2,
       "version_minor": 0,
       "model_id": "4229e4ab4d5144359f9065b3a98beb0e"
      }
     },
     "metadata": {}
    },
    {
     "output_type": "display_data",
     "data": {
      "text/plain": "<pandas.io.formats.style.Styler at 0x146c4fe90>",
      "text/html": "<style  type=\"text/css\" >\n</style><table id=\"T_4ad54_\" ><thead>    <tr>        <th class=\"blank level0\" ></th>        <th class=\"col_heading level0 col0\" >Model</th>        <th class=\"col_heading level0 col1\" >MAE</th>        <th class=\"col_heading level0 col2\" >MSE</th>        <th class=\"col_heading level0 col3\" >RMSE</th>        <th class=\"col_heading level0 col4\" >R2</th>        <th class=\"col_heading level0 col5\" >RMSLE</th>        <th class=\"col_heading level0 col6\" >MAPE</th>    </tr></thead><tbody>\n                <tr>\n                        <th id=\"T_4ad54_level0_row0\" class=\"row_heading level0 row0\" >0</th>\n                        <td id=\"T_4ad54_row0_col0\" class=\"data row0 col0\" >Light Gradient Boosting Machine</td>\n                        <td id=\"T_4ad54_row0_col1\" class=\"data row0 col1\" >276.9673</td>\n                        <td id=\"T_4ad54_row0_col2\" class=\"data row0 col2\" >287862.1760</td>\n                        <td id=\"T_4ad54_row0_col3\" class=\"data row0 col3\" >536.5279</td>\n                        <td id=\"T_4ad54_row0_col4\" class=\"data row0 col4\" >0.9822</td>\n                        <td id=\"T_4ad54_row0_col5\" class=\"data row0 col5\" >0.1030</td>\n                        <td id=\"T_4ad54_row0_col6\" class=\"data row0 col6\" >0.0802</td>\n            </tr>\n    </tbody></table>"
     },
     "metadata": {}
    },
    {
     "output_type": "execute_result",
     "data": {
      "text/plain": [
       "       Unnamed 0  carat  cut  color  clarity      depth  table     y     z  \\\n",
       "0        32910.0   0.73  4.0    1.0      3.0  61.599998   54.0  5.84  3.59   \n",
       "1         5708.0   2.01  1.0    1.0      3.0  63.599998   57.0  7.95  5.03   \n",
       "2        38936.0   0.31  4.0    4.0      3.0  61.299999   57.0  4.34  2.65   \n",
       "3        25088.0   0.61  2.0    3.0      3.0  62.000000   57.0  5.47  3.38   \n",
       "4        32406.0   1.18  1.0    6.0      1.0  61.700001   63.0  6.72  4.13   \n",
       "...          ...    ...  ...    ...      ...        ...    ...   ...   ...   \n",
       "12091    26670.0   0.90  3.0    1.0      4.0  61.200001   61.0  6.15  3.78   \n",
       "12092    10173.0   2.14  2.0    0.0      2.0  62.299999   59.0  8.26  5.14   \n",
       "12093    37734.0   0.72  4.0    2.0      4.0  62.299999   55.0  5.74  3.57   \n",
       "12094     3371.0   0.93  1.0    3.0      2.0  63.799999   58.0  6.09  3.90   \n",
       "12095     1573.0   0.41  4.0    0.0      4.0  62.200001   55.0  4.79  2.97   \n",
       "\n",
       "       shape_ratio  peso_esp    price         Label  \n",
       "0         0.876623  0.005993   2327.0   2408.171167  \n",
       "1         0.896226  0.006387  16003.0  15332.489228  \n",
       "2         0.929853  0.006268    625.0    722.589863  \n",
       "3         0.919355  0.006065   1861.0   1823.777586  \n",
       "4         1.021070  0.006374   5315.0   5321.294511  \n",
       "...            ...       ...      ...           ...  \n",
       "12091     0.996732  0.006244   3484.0   3466.475003  \n",
       "12092     0.947030  0.006117  14556.0  14373.858819  \n",
       "12093     0.882825  0.006143   2949.0   2854.792441  \n",
       "12094     0.909091  0.006377   4375.0   3846.929837  \n",
       "12095     0.884244  0.006055    604.0    689.963408  \n",
       "\n",
       "[12096 rows x 13 columns]"
      ],
      "text/html": "<div>\n<style scoped>\n    .dataframe tbody tr th:only-of-type {\n        vertical-align: middle;\n    }\n\n    .dataframe tbody tr th {\n        vertical-align: top;\n    }\n\n    .dataframe thead th {\n        text-align: right;\n    }\n</style>\n<table border=\"1\" class=\"dataframe\">\n  <thead>\n    <tr style=\"text-align: right;\">\n      <th></th>\n      <th>Unnamed 0</th>\n      <th>carat</th>\n      <th>cut</th>\n      <th>color</th>\n      <th>clarity</th>\n      <th>depth</th>\n      <th>table</th>\n      <th>y</th>\n      <th>z</th>\n      <th>shape_ratio</th>\n      <th>peso_esp</th>\n      <th>price</th>\n      <th>Label</th>\n    </tr>\n  </thead>\n  <tbody>\n    <tr>\n      <th>0</th>\n      <td>32910.0</td>\n      <td>0.73</td>\n      <td>4.0</td>\n      <td>1.0</td>\n      <td>3.0</td>\n      <td>61.599998</td>\n      <td>54.0</td>\n      <td>5.84</td>\n      <td>3.59</td>\n      <td>0.876623</td>\n      <td>0.005993</td>\n      <td>2327.0</td>\n      <td>2408.171167</td>\n    </tr>\n    <tr>\n      <th>1</th>\n      <td>5708.0</td>\n      <td>2.01</td>\n      <td>1.0</td>\n      <td>1.0</td>\n      <td>3.0</td>\n      <td>63.599998</td>\n      <td>57.0</td>\n      <td>7.95</td>\n      <td>5.03</td>\n      <td>0.896226</td>\n      <td>0.006387</td>\n      <td>16003.0</td>\n      <td>15332.489228</td>\n    </tr>\n    <tr>\n      <th>2</th>\n      <td>38936.0</td>\n      <td>0.31</td>\n      <td>4.0</td>\n      <td>4.0</td>\n      <td>3.0</td>\n      <td>61.299999</td>\n      <td>57.0</td>\n      <td>4.34</td>\n      <td>2.65</td>\n      <td>0.929853</td>\n      <td>0.006268</td>\n      <td>625.0</td>\n      <td>722.589863</td>\n    </tr>\n    <tr>\n      <th>3</th>\n      <td>25088.0</td>\n      <td>0.61</td>\n      <td>2.0</td>\n      <td>3.0</td>\n      <td>3.0</td>\n      <td>62.000000</td>\n      <td>57.0</td>\n      <td>5.47</td>\n      <td>3.38</td>\n      <td>0.919355</td>\n      <td>0.006065</td>\n      <td>1861.0</td>\n      <td>1823.777586</td>\n    </tr>\n    <tr>\n      <th>4</th>\n      <td>32406.0</td>\n      <td>1.18</td>\n      <td>1.0</td>\n      <td>6.0</td>\n      <td>1.0</td>\n      <td>61.700001</td>\n      <td>63.0</td>\n      <td>6.72</td>\n      <td>4.13</td>\n      <td>1.021070</td>\n      <td>0.006374</td>\n      <td>5315.0</td>\n      <td>5321.294511</td>\n    </tr>\n    <tr>\n      <th>...</th>\n      <td>...</td>\n      <td>...</td>\n      <td>...</td>\n      <td>...</td>\n      <td>...</td>\n      <td>...</td>\n      <td>...</td>\n      <td>...</td>\n      <td>...</td>\n      <td>...</td>\n      <td>...</td>\n      <td>...</td>\n      <td>...</td>\n    </tr>\n    <tr>\n      <th>12091</th>\n      <td>26670.0</td>\n      <td>0.90</td>\n      <td>3.0</td>\n      <td>1.0</td>\n      <td>4.0</td>\n      <td>61.200001</td>\n      <td>61.0</td>\n      <td>6.15</td>\n      <td>3.78</td>\n      <td>0.996732</td>\n      <td>0.006244</td>\n      <td>3484.0</td>\n      <td>3466.475003</td>\n    </tr>\n    <tr>\n      <th>12092</th>\n      <td>10173.0</td>\n      <td>2.14</td>\n      <td>2.0</td>\n      <td>0.0</td>\n      <td>2.0</td>\n      <td>62.299999</td>\n      <td>59.0</td>\n      <td>8.26</td>\n      <td>5.14</td>\n      <td>0.947030</td>\n      <td>0.006117</td>\n      <td>14556.0</td>\n      <td>14373.858819</td>\n    </tr>\n    <tr>\n      <th>12093</th>\n      <td>37734.0</td>\n      <td>0.72</td>\n      <td>4.0</td>\n      <td>2.0</td>\n      <td>4.0</td>\n      <td>62.299999</td>\n      <td>55.0</td>\n      <td>5.74</td>\n      <td>3.57</td>\n      <td>0.882825</td>\n      <td>0.006143</td>\n      <td>2949.0</td>\n      <td>2854.792441</td>\n    </tr>\n    <tr>\n      <th>12094</th>\n      <td>3371.0</td>\n      <td>0.93</td>\n      <td>1.0</td>\n      <td>3.0</td>\n      <td>2.0</td>\n      <td>63.799999</td>\n      <td>58.0</td>\n      <td>6.09</td>\n      <td>3.90</td>\n      <td>0.909091</td>\n      <td>0.006377</td>\n      <td>4375.0</td>\n      <td>3846.929837</td>\n    </tr>\n    <tr>\n      <th>12095</th>\n      <td>1573.0</td>\n      <td>0.41</td>\n      <td>4.0</td>\n      <td>0.0</td>\n      <td>4.0</td>\n      <td>62.200001</td>\n      <td>55.0</td>\n      <td>4.79</td>\n      <td>2.97</td>\n      <td>0.884244</td>\n      <td>0.006055</td>\n      <td>604.0</td>\n      <td>689.963408</td>\n    </tr>\n  </tbody>\n</table>\n<p>12096 rows × 13 columns</p>\n</div>"
     },
     "metadata": {},
     "execution_count": 10
    }
   ],
   "source": [
    "exp_reg108 = setup(data = df, target = 'price', session_id=72048, numeric_features = ['cut', 'color', 'clarity'])\n",
    "lightgbm8 = create_model('lightgbm')\n",
    "lgbm_params = {'num_leaves': np.arange(10,200,10),\n",
    "                        'max_depth': [int(x) for x in np.linspace(10, 110, num = 11)],\n",
    "                        'learning_rate': np.arange(0.1,1,0.1)}\n",
    "tuned_lightgbm8 = tune_model(lightgbm8, custom_grid = lgbm_params)\n",
    "evaluate_model(tuned_lightgbm8)\n",
    "predict_model(tuned_lightgbm8)"
   ]
  },
  {
   "cell_type": "code",
   "execution_count": 14,
   "metadata": {},
   "outputs": [
    {
     "output_type": "stream",
     "name": "stdout",
     "text": [
      "Transformation Pipeline and Model Succesfully Saved\n",
      "You're ready to submit!\n"
     ]
    }
   ],
   "source": [
    "final_lightgbm8 = finalize_model(tuned_lightgbm8)\n",
    "save_model(final_lightgbm8,'Final lightgbm8 Model 19Jun2021')\n",
    "unseen_predictions8 = predict_model(final_lightgbm8, data=df_pred)\n",
    "respuesta8 = unseen_predictions8['Label'].values\n",
    "submission8 = pd.DataFrame({\"id\": range(len(respuesta8)), \"price\": respuesta8})\n",
    "chequeator(submission8, sample)\n",
    "submission8.to_csv('resultado_8.csv', index=False)"
   ]
  },
  {
   "cell_type": "code",
   "execution_count": null,
   "metadata": {},
   "outputs": [],
   "source": []
  }
 ]
}