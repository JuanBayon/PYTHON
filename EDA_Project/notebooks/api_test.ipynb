{
 "metadata": {
  "language_info": {
   "codemirror_mode": {
    "name": "ipython",
    "version": 3
   },
   "file_extension": ".py",
   "mimetype": "text/x-python",
   "name": "python",
   "nbconvert_exporter": "python",
   "pygments_lexer": "ipython3",
   "version": "3.7.4"
  },
  "orig_nbformat": 2,
  "kernelspec": {
   "name": "python374jvsc74a57bd0aee8b7b246df8f9039afb4144a1f6fd8d2ca17a180786b69acc140d282b71a49",
   "display_name": "Python 3.7.4 64-bit"
  },
  "metadata": {
   "interpreter": {
    "hash": "aee8b7b246df8f9039afb4144a1f6fd8d2ca17a180786b69acc140d282b71a49"
   }
  }
 },
 "nbformat": 4,
 "nbformat_minor": 2,
 "cells": [
  {
   "source": [
    "# DOCUMENTACIÓN PRUEBA API"
   ],
   "cell_type": "markdown",
   "metadata": {}
  },
  {
   "source": [
    "Se ha creado una API básica con una página de bienvenida donde te explica cómo obtener los datos y un endpoin codificado con token para descargar los datos del proyecto en formato json. \n",
    "\n",
    "Se procecde a las pruebas de funcionamiento."
   ],
   "cell_type": "markdown",
   "metadata": {}
  },
  {
   "cell_type": "code",
   "execution_count": 10,
   "metadata": {},
   "outputs": [],
   "source": [
    "import requests\n",
    "import webbrowser\n",
    "import pandas as pd\n",
    "import os, sys"
   ]
  },
  {
   "cell_type": "code",
   "execution_count": 2,
   "metadata": {},
   "outputs": [],
   "source": [
    "ruta = os.path.dirname(os.getcwd())"
   ]
  },
  {
   "cell_type": "code",
   "execution_count": 3,
   "metadata": {},
   "outputs": [
    {
     "output_type": "stream",
     "name": "stdout",
     "text": [
      "/Users/juanbayonfernandez/THE_BRIDGE/Juan_Bayon/EDA/EDA/scr/api/server.py\n"
     ]
    }
   ],
   "source": [
    "api_path = ruta + os.sep + 'scr' + os.sep + 'api' + os.sep + 'server.py'\n",
    "print(api_path)"
   ]
  },
  {
   "source": [
    "!python3 \"PARA PROBARLO COPIA EL PATH SUPERIOR AQUÍ\" -x 8642"
   ],
   "cell_type": "markdown",
   "metadata": {}
  },
  {
   "source": [
    "# !python3 /Users/juanbayonfernandez/THE_BRIDGE/Juan_Bayon/EDA/EDA/scr/api/server.py -x 8642"
   ],
   "cell_type": "code",
   "metadata": {},
   "execution_count": 1,
   "outputs": [
    {
     "output_type": "stream",
     "name": "stdout",
     "text": [
      "{'x': '8642'}\n",
      "---------STARTING PROCESS---------\n",
      "/Users/juanbayonfernandez/THE_BRIDGE/Juan_Bayon/EDA/EDA/scr/api/server.py\n",
      "SERVER_RUNNING True\n",
      " * Serving Flask app 'server' (lazy loading)\n",
      " * Environment: production\n",
      "\u001b[31m   WARNING: This is a development server. Do not use it in a production deployment.\u001b[0m\n",
      "\u001b[2m   Use a production WSGI server instead.\u001b[0m\n",
      " * Debug mode: on\n",
      " * Running on all addresses.\n",
      "   WARNING: This is a development server. Do not use it in a production deployment.\n",
      " * Running on http://192.168.0.11:8008/ (Press CTRL+C to quit)\n",
      " * Restarting with stat\n",
      "{'x': '8642'}\n",
      "---------STARTING PROCESS---------\n",
      "/Users/juanbayonfernandez/THE_BRIDGE/Juan_Bayon/EDA/EDA/scr/api/server.py\n",
      "SERVER_RUNNING True\n",
      " * Debugger is active!\n",
      " * Debugger PIN: 308-395-767\n",
      "^C\n"
     ]
    }
   ]
  },
  {
   "cell_type": "code",
   "execution_count": 3,
   "metadata": {},
   "outputs": [
    {
     "output_type": "execute_result",
     "data": {
      "text/plain": [
       "True"
      ]
     },
     "metadata": {},
     "execution_count": 3
    }
   ],
   "source": [
    "webbrowser.open('http://localhost:8008/')"
   ]
  },
  {
   "cell_type": "code",
   "execution_count": 4,
   "metadata": {},
   "outputs": [],
   "source": [
    "download = requests.get('http://localhost:8008/get_data')"
   ]
  },
  {
   "cell_type": "code",
   "execution_count": 5,
   "metadata": {},
   "outputs": [
    {
     "output_type": "execute_result",
     "data": {
      "text/plain": [
       "'La autenticación es incorrecta. Vuelve a intentarlo por favor.'"
      ]
     },
     "metadata": {},
     "execution_count": 5
    }
   ],
   "source": [
    "download.text"
   ]
  },
  {
   "cell_type": "code",
   "execution_count": 6,
   "metadata": {},
   "outputs": [
    {
     "output_type": "execute_result",
     "data": {
      "text/plain": [
       "True"
      ]
     },
     "metadata": {},
     "execution_count": 6
    }
   ],
   "source": [
    "webbrowser.open('http://localhost:8008/get_data?eltoken=Q76903092')"
   ]
  },
  {
   "cell_type": "code",
   "execution_count": 7,
   "metadata": {},
   "outputs": [
    {
     "output_type": "execute_result",
     "data": {
      "text/plain": [
       "                                              actors  \\\n",
       "0  Taraji P. Henson|Billy Brown|Jahi Di'Allo Wins...   \n",
       "1  James Corden|Fayssal Bazzi|Domhnall Gleeson|Si...   \n",
       "\n",
       "   allgenders_0age_avg_vote  allgenders_18age_avg_vote  \\\n",
       "0                       6.1                        4.9   \n",
       "1                       6.5                        6.6   \n",
       "\n",
       "   allgenders_30age_avg_vote  allgenders_45age_avg_vote    budget  \\\n",
       "0                        4.8                        5.2  11480000   \n",
       "1                        6.5                        6.6  41000000   \n",
       "\n",
       "            country director_name  females_0age_avg_vote  \\\n",
       "0               USA  Babak Najafi                    7.9   \n",
       "1  USA|Australia|UK    Will Gluck                    7.2   \n",
       "\n",
       "   females_18age_avg_vote  ...  votes_3  votes_4  votes_5 votes_6 votes_7  \\\n",
       "0                     5.4  ...      726     1194     1885    1542     833   \n",
       "1                     7.0  ...      610     1255     3258    7596    9635   \n",
       "\n",
       "   votes_8  votes_9  weighted_average_vote  worlwide_gross_income  year  \n",
       "0      444      167                    4.9               17837759  2018  \n",
       "1     5230     2027                    6.6              288038475  2018  \n",
       "\n",
       "[2 rows x 46 columns]"
      ],
      "text/html": "<div>\n<style scoped>\n    .dataframe tbody tr th:only-of-type {\n        vertical-align: middle;\n    }\n\n    .dataframe tbody tr th {\n        vertical-align: top;\n    }\n\n    .dataframe thead th {\n        text-align: right;\n    }\n</style>\n<table border=\"1\" class=\"dataframe\">\n  <thead>\n    <tr style=\"text-align: right;\">\n      <th></th>\n      <th>actors</th>\n      <th>allgenders_0age_avg_vote</th>\n      <th>allgenders_18age_avg_vote</th>\n      <th>allgenders_30age_avg_vote</th>\n      <th>allgenders_45age_avg_vote</th>\n      <th>budget</th>\n      <th>country</th>\n      <th>director_name</th>\n      <th>females_0age_avg_vote</th>\n      <th>females_18age_avg_vote</th>\n      <th>...</th>\n      <th>votes_3</th>\n      <th>votes_4</th>\n      <th>votes_5</th>\n      <th>votes_6</th>\n      <th>votes_7</th>\n      <th>votes_8</th>\n      <th>votes_9</th>\n      <th>weighted_average_vote</th>\n      <th>worlwide_gross_income</th>\n      <th>year</th>\n    </tr>\n  </thead>\n  <tbody>\n    <tr>\n      <th>0</th>\n      <td>Taraji P. Henson|Billy Brown|Jahi Di'Allo Wins...</td>\n      <td>6.1</td>\n      <td>4.9</td>\n      <td>4.8</td>\n      <td>5.2</td>\n      <td>11480000</td>\n      <td>USA</td>\n      <td>Babak Najafi</td>\n      <td>7.9</td>\n      <td>5.4</td>\n      <td>...</td>\n      <td>726</td>\n      <td>1194</td>\n      <td>1885</td>\n      <td>1542</td>\n      <td>833</td>\n      <td>444</td>\n      <td>167</td>\n      <td>4.9</td>\n      <td>17837759</td>\n      <td>2018</td>\n    </tr>\n    <tr>\n      <th>1</th>\n      <td>James Corden|Fayssal Bazzi|Domhnall Gleeson|Si...</td>\n      <td>6.5</td>\n      <td>6.6</td>\n      <td>6.5</td>\n      <td>6.6</td>\n      <td>41000000</td>\n      <td>USA|Australia|UK</td>\n      <td>Will Gluck</td>\n      <td>7.2</td>\n      <td>7.0</td>\n      <td>...</td>\n      <td>610</td>\n      <td>1255</td>\n      <td>3258</td>\n      <td>7596</td>\n      <td>9635</td>\n      <td>5230</td>\n      <td>2027</td>\n      <td>6.6</td>\n      <td>288038475</td>\n      <td>2018</td>\n    </tr>\n  </tbody>\n</table>\n<p>2 rows × 46 columns</p>\n</div>"
     },
     "metadata": {},
     "execution_count": 7
    }
   ],
   "source": [
    "pd.read_json('http://localhost:8008/get_data?eltoken=Q76903092').head(2)"
   ]
  },
  {
   "source": [
    "## Todas las pruebas han dado correctas. "
   ],
   "cell_type": "markdown",
   "metadata": {}
  },
  {
   "cell_type": "code",
   "execution_count": null,
   "metadata": {},
   "outputs": [],
   "source": []
  }
 ]
}